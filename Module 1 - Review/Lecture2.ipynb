{
 "cells": [
  {
   "attachments": {},
   "cell_type": "markdown",
   "metadata": {},
   "source": [
    "## Lecture 2\n",
    "\n",
    "### 4. Fisher's Exact Test"
   ]
  },
  {
   "cell_type": "code",
   "execution_count": 6,
   "metadata": {},
   "outputs": [
    {
     "name": "stdout",
     "output_type": "stream",
     "text": [
      "P-value: 0.011094091841433758\n",
      "Reject null hypothesis: True\n"
     ]
    }
   ],
   "source": [
    "from scipy.stats import fisher_exact\n",
    "import numpy as np\n",
    "\n",
    "# Create a contingency table\n",
    "contingency_table = np.array(\n",
    "    [\n",
    "        # Treatment | Control\n",
    "        [    39     ,    63   ], # Death \n",
    "        [   30961   ,  30937  ]  # Survive\n",
    "    ]\n",
    ")\n",
    "\n",
    "# Calculate the p-value\n",
    "# (We want to know if the number of deaths is significantly lower in the treatment group, hence the \"less\" alternative)\n",
    "statistic, p_value = fisher_exact(contingency_table, alternative=\"less\")\n",
    "print(\"P-value:\", p_value)\n",
    "\n",
    "# Should the null hypothesis be rejected?\n",
    "alpha = 0.05\n",
    "print(\"Reject null hypothesis:\", p_value <= alpha)"
   ]
  },
  {
   "attachments": {},
   "cell_type": "markdown",
   "metadata": {},
   "source": [
    "### 6. Z-test"
   ]
  },
  {
   "cell_type": "code",
   "execution_count": 7,
   "metadata": {},
   "outputs": [
    {
     "name": "stdout",
     "output_type": "stream",
     "text": [
      "P-value: 0.0012357871459340907\n"
     ]
    }
   ],
   "source": [
    "from scipy.stats import norm\n",
    "\n",
    "# Z-score obtained by assuming the value of the standard deviation (sigma) \n",
    "zscore = -3.0268 \n",
    "\n",
    "# Calculate the p-value associated with the z-score \n",
    "p_value = norm.cdf(zscore)\n",
    "print(\"P-value:\", p_value)\n"
   ]
  },
  {
   "attachments": {},
   "cell_type": "markdown",
   "metadata": {},
   "source": [
    "### 7. T-test"
   ]
  },
  {
   "cell_type": "code",
   "execution_count": 17,
   "metadata": {},
   "outputs": [
    {
     "name": "stdout",
     "output_type": "stream",
     "text": [
      "P-value: 0.005560692749284678\n"
     ]
    }
   ],
   "source": [
    "from scipy.stats import ttest_1samp\n",
    "\n",
    "# Differences in sleeping hours between the treatment and control groups\n",
    "sleep_diff = np.array([0.9, -0.9, 4.3, 2.9, 1.2, 3.0, 2.7, 0.6, 3.6, -0.5])\n",
    "\n",
    "t_stat, p_value = ttest_1samp(sleep_diff, popmean=0)\n",
    "p_value = p_value / 2 # Two-tailed test\n",
    "print(\"P-value:\", p_value)"
   ]
  },
  {
   "cell_type": "code",
   "execution_count": null,
   "metadata": {},
   "outputs": [],
   "source": []
  }
 ],
 "metadata": {
  "kernelspec": {
   "display_name": "data_analysis-ayydRhdv-py3.9",
   "language": "python",
   "name": "python3"
  },
  "language_info": {
   "codemirror_mode": {
    "name": "ipython",
    "version": 3
   },
   "file_extension": ".py",
   "mimetype": "text/x-python",
   "name": "python",
   "nbconvert_exporter": "python",
   "pygments_lexer": "ipython3",
   "version": "3.9.6"
  },
  "orig_nbformat": 4,
  "vscode": {
   "interpreter": {
    "hash": "71bf549c414c7d2d83e2bde045de550cc634ed7a909cf9e92717235840316976"
   }
  }
 },
 "nbformat": 4,
 "nbformat_minor": 2
}
