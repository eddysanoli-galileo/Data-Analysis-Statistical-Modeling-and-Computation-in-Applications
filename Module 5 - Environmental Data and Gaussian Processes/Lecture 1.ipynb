{
 "cells": [
  {
   "attachments": {},
   "cell_type": "markdown",
   "metadata": {},
   "source": [
    "## Lecture 1 - Spatial and Environmental Data: Introduction and Local Correlations\n"
   ]
  },
  {
   "cell_type": "code",
   "execution_count": 15,
   "metadata": {},
   "outputs": [],
   "source": [
    "import numpy as np\n",
    "import matplotlib.pyplot as plt\n",
    "import pandas as pd\n",
    "import seaborn as sns\n",
    "import scipy.stats as stats\n",
    "import sympy as sym"
   ]
  },
  {
   "attachments": {},
   "cell_type": "markdown",
   "metadata": {},
   "source": [
    "### 2. Introduction\n",
    "\n",
    "#### Standard Normal Distribution\n"
   ]
  },
  {
   "cell_type": "code",
   "execution_count": 30,
   "metadata": {},
   "outputs": [
    {
     "data": {
      "image/png": "[encoded data removed]",
      "text/plain": [
       "<Figure size 500x500 with 1 Axes>"
      ]
     },
     "metadata": {},
     "output_type": "display_data"
    },
    {
     "name": "stdout",
     "output_type": "stream",
     "text": [
      "Maximum Value of the PDF: sqrt(2)/(2*sqrt(pi))\n"
     ]
    }
   ],
   "source": [
    "# Get a standard normal distribution with mean 0 and standard deviation 1\n",
    "x_normal = np.random.normal(0, 1, 2000)\n",
    "\n",
    "# Create a dataframe with the data\n",
    "df = pd.DataFrame(x_normal, columns=['x'])\n",
    "\n",
    "# Plot the data\n",
    "sns.displot(df, x='x', kde=True, bins=100)\n",
    "plt.show()\n",
    "\n",
    "# Create the equation for the normal distribution\n",
    "mu, sigma, x = sym.symbols('mu sigma x')\n",
    "normal_pdf = (1 / (sigma * sym.sqrt(2 * sym.pi))) * \\\n",
    "    sym.exp((-1 / 2) * ((x - mu) / sigma) ** 2)\n",
    "\n",
    "# We know that the PDF is greatest at mu, and since a standard normal distribution\n",
    "# has mean 0 and standard deviation 1, we can set mu = 0, sigma = 1 and x = 0 to\n",
    "# get the maximum value of the PDF\n",
    "normal_pdf = normal_pdf.subs({mu: 0, sigma: 1, x: 0})\n",
    "print(\"Maximum Value of the PDF:\", normal_pdf.simplify())\n"
   ]
  },
  {
   "attachments": {},
   "cell_type": "markdown",
   "metadata": {},
   "source": [
    "### 4. Spatial Correlation\n",
    "\n",
    "#### Properties of Covariance\n"
   ]
  },
  {
   "cell_type": "code",
   "execution_count": 31,
   "metadata": {},
   "outputs": [
    {
     "name": "stdout",
     "output_type": "stream",
     "text": [
      "Cov(Z, Z) = 8.0\n"
     ]
    }
   ],
   "source": [
    "# Cov(X, Y) = 0.5\n",
    "# Cov(X, X) = 1\n",
    "# Cov(Y, Y) = 2\n",
    "\n",
    "# New random variable: Z = 2X + Y\n",
    "# Cov(Z, Z) = Cov(2X + Y, 2X + Y)\n",
    "#           = Cov(2X, 2X) + Cov(2X, Y) + Cov(Y, 2X) + Cov(Y, Y)\n",
    "#           = 4 * Cov(X, X) + 2 * Cov(X, Y) + 2 * Cov(X, Y) + Cov(Y, Y)\n",
    "#           = 4 (1) + 2 (0.5) + 2 (0.5) + 2\n",
    "#           = 4 + 1 + 1 + 2 = 8\n",
    "print(\"Cov(Z, Z) =\", 4 * 1 + 2 * 0.5 + 2 * 0.5 + 2)"
   ]
  },
  {
   "attachments": {},
   "cell_type": "markdown",
   "metadata": {},
   "source": [
    "#### Properties of Random Variables 1\n"
   ]
  },
  {
   "cell_type": "code",
   "execution_count": 41,
   "metadata": {},
   "outputs": [
    {
     "name": "stdout",
     "output_type": "stream",
     "text": [
      "E(XY) = 12.25\n",
      "E(X2 | X1 = odd) = 3.5\n",
      "E(X2 | X1 = even) = 3.0\n",
      "E(X1 * X2) = 0.9722222222222222\n"
     ]
    }
   ],
   "source": [
    "# If X and Y are independent random variables, and both are defined\n",
    "# on the same sample space (z), then E(XY) = E(X)E(Y)\n",
    "def E_xy(Px, Py, z):\n",
    "    Px = np.array(Px)\n",
    "    Py = np.array(Py)\n",
    "    return sum(Px * z) * sum(Py * z)\n",
    "\n",
    "\n",
    "# X and Y are two unbiased independent six-sided dice\n",
    "z = [1, 2, 3, 4, 5, 6]\n",
    "Px = [1/6] * len(z)\n",
    "Py = [1/6] * len(z)\n",
    "print(\"E(XY) =\", E_xy(Px, Py, z))"
   ]
  },
  {
   "attachments": {},
   "cell_type": "markdown",
   "metadata": {},
   "source": [
    "#### Properties of Random Variables 2\n",
    "\n",
    "Assume that you are given two unbiased six sided dice modeled as random variables X1 and X2 respectively. However, die 2 depends on the output of die 1. If the output of die 1 is even, then die 2 can only output odd numbers. Note that there is no condition if die 1 is odd. What is E(X1 \\* X2)?\n"
   ]
  },
  {
   "cell_type": "code",
   "execution_count": 90,
   "metadata": {},
   "outputs": [
    {
     "name": "stdout",
     "output_type": "stream",
     "text": [
      "E(X1 | X1 = even) = 4.0\n",
      "E(X2 | X1 = even) = 3.0\n",
      "E(X1 | X1 = odd) = 3.0\n",
      "E(X2 | X1 = odd) = 3.5\n",
      "E(X1 X2) = 11.25\n"
     ]
    }
   ],
   "source": [
    "# Translating the problem statement into actual variables\n",
    "z = np.array([1, 2, 3, 4, 5, 6])\n",
    "Px1 = [1/6] * len(z)\n",
    "Px2_even = [1/3, 0, 1/3, 0, 1/3, 0]\n",
    "Px2_odd = [1/6] * len(z)\n",
    "\n",
    "# Convert the lists into numpy arrays\n",
    "Px1 = np.array(Px1)\n",
    "Px2_even = np.array(Px2_even)\n",
    "Px2_odd = np.array(Px2_odd)\n",
    "\n",
    "# E(X1 X2) = (E(X1 X2 | X1 = even) + E(X1 X2 | X1 = odd)) / 2\n",
    "#          = (E(X | X1 = even) * E(X2 | X1 = even) + E(X1 | X1 = odd) * E(X2)) / 2\n",
    "\n",
    "# E(X1 | X1 = even)\n",
    "Px1_even = [0, 1/3, 0, 1/3, 0, 1/3]\n",
    "E_x1_given_x1_even = sum(Px1_even * z)\n",
    "print(\"E(X1 | X1 = even) =\", E_x1_given_x1_even)\n",
    "\n",
    "# E(X2 | X1 = even)\n",
    "E_x2_given_x1_even = sum(Px2_even * z)\n",
    "print(\"E(X2 | X1 = even) =\", E_x2_given_x1_even)\n",
    "\n",
    "# E(X1 | X1 = odd)\n",
    "Px1_odd = [1/3, 0, 1/3, 0, 1/3, 0]\n",
    "E_x1_given_x1_odd = sum(Px1_odd * z)\n",
    "print(\"E(X1 | X1 = odd) =\", E_x1_given_x1_odd)\n",
    "\n",
    "# E(X2)\n",
    "E_x2_given_x1_odd = sum(Px2_odd * z)\n",
    "print(\"E(X2 | X1 = odd) =\", E_x2_given_x1_odd)\n",
    "\n",
    "# E(X1 X2)\n",
    "E_x1_x2 = (\n",
    "    (1/2 * E_x1_given_x1_even * E_x2_given_x1_even) +\n",
    "    (1/2 * E_x1_given_x1_odd * E_x2_given_x1_odd)\n",
    ")\n",
    "print(\"E(X1 X2) =\", E_x1_x2)"
   ]
  },
  {
   "attachments": {},
   "cell_type": "markdown",
   "metadata": {},
   "source": [
    "#### Properties of Random Variables 3\n"
   ]
  },
  {
   "cell_type": "code",
   "execution_count": 44,
   "metadata": {},
   "outputs": [
    {
     "name": "stdout",
     "output_type": "stream",
     "text": [
      "Correlation between X and Y: 0.014167835719228937\n"
     ]
    }
   ],
   "source": [
    "X = np.random.uniform(-1, 1, 1000)\n",
    "Y = X**2\n",
    "\n",
    "# Calculate the covariance between X and Y\n",
    "cov_xy = np.cov(X, Y)[0][1]\n",
    "\n",
    "# Calculate the variance of X and Y\n",
    "var_x = np.var(X)\n",
    "var_y = np.var(Y)\n",
    "\n",
    "# Calculate the correlation between X and Y\n",
    "corr_xy = cov_xy / np.sqrt(var_x * var_y)\n",
    "print(\"Correlation between X and Y:\", corr_xy)\n"
   ]
  },
  {
   "attachments": {},
   "cell_type": "markdown",
   "metadata": {},
   "source": [
    "#### Properties of Random Variables 4\n"
   ]
  },
  {
   "cell_type": "code",
   "execution_count": 59,
   "metadata": {},
   "outputs": [
    {
     "name": "stdout",
     "output_type": "stream",
     "text": [
      "E(XY) = 0.0\n",
      "E(X) = 0.6666666666666666\n",
      "E(Y) = 0.0\n",
      "Cov(X, Y) = 0.0\n",
      "Var(X) = 0.2222222222222222\n",
      "Var(Y) = 0.6666666666666666\n",
      "Corr(X, Y) = 0.0\n"
     ]
    }
   ],
   "source": [
    "# Joint distribution of X and Y\n",
    "# P(X = x, Y = y) | y = -1 | y = 0 | y = 1\n",
    "#           x = 0 |    0   |  1/3  |   0\n",
    "#           x = 1 |   1/3  |   0   |  1/3\n",
    "def P(x, y):\n",
    "    if x == 0 and y == -1:\n",
    "        return 0\n",
    "    elif x == 0 and y == 0:\n",
    "        return 1/3\n",
    "    elif x == 0 and y == 1:\n",
    "        return 0\n",
    "    elif x == 1 and y == -1:\n",
    "        return 1/3\n",
    "    elif x == 1 and y == 0:\n",
    "        return 0\n",
    "    elif x == 1 and y == 1:\n",
    "        return 1/3\n",
    "    else:\n",
    "        return 0\n",
    "\n",
    "\n",
    "# Arrays for the possible values of X and Y\n",
    "x_range = np.array([0, 1])\n",
    "y_range = np.array([-1, 0, 1])\n",
    "\n",
    "# Compute the expected value of XY\n",
    "E_xy = 0\n",
    "for x in x_range:\n",
    "    for y in y_range:\n",
    "        E_xy += x * y * P(x, y)\n",
    "\n",
    "print(\"E(XY) =\", E_xy)\n",
    "\n",
    "# Compute the expected value of X\n",
    "E_x = 0\n",
    "for x in x_range:\n",
    "    for y in y_range:\n",
    "        E_x += x * P(x, y)\n",
    "\n",
    "print(\"E(X) =\", E_x)\n",
    "\n",
    "# Compute the expected value of Y\n",
    "E_y = 0\n",
    "for x in x_range:\n",
    "    for y in y_range:\n",
    "        E_y += y * P(x, y)\n",
    "\n",
    "print(\"E(Y) =\", E_y)\n",
    "\n",
    "# Compute the covariance between X and Y\n",
    "cov_xy = E_xy - E_x * E_y\n",
    "print(\"Cov(X, Y) =\", cov_xy)\n",
    "\n",
    "# Compute the variance of X\n",
    "var_x = 0\n",
    "for x in x_range:\n",
    "    for y in y_range:\n",
    "        var_x += x**2 * P(x, y)\n",
    "var_x -= E_x**2\n",
    "\n",
    "# Compute the variance of Y\n",
    "var_y = 0\n",
    "for x in x_range:\n",
    "    for y in y_range:\n",
    "        var_y += y**2 * P(x, y)\n",
    "var_y -= E_y**2\n",
    "\n",
    "# Compute the standard deviation of X and Y\n",
    "std_x = np.sqrt(var_x)\n",
    "std_y = np.sqrt(var_y)\n",
    "\n",
    "print(\"Var(X) =\", var_x)\n",
    "print(\"Var(Y) =\", var_y)\n",
    "\n",
    "# Compute the correlation between X and Y\n",
    "corr_xy = cov_xy / (std_x * std_y)\n",
    "print(\"Corr(X, Y) =\", corr_xy)\n"
   ]
  },
  {
   "attachments": {},
   "cell_type": "markdown",
   "metadata": {},
   "source": [
    "#### Properties of Covariance Matrix\n"
   ]
  },
  {
   "cell_type": "code",
   "execution_count": 51,
   "metadata": {},
   "outputs": [
    {
     "name": "stdout",
     "output_type": "stream",
     "text": [
      "Is the covariance matrix symmetric? True\n",
      "Is the covariance matrix positive semi-definite? False\n"
     ]
    }
   ],
   "source": [
    "# Test covariance matrix\n",
    "# A covariance matrix must be both symmetric and positive semi-definite\n",
    "cov_matrix = np.array([\n",
    "    [11, -3, 7, 5],\n",
    "    [-3, 11, 5, 7],\n",
    "    [7, 5, 11, -3],\n",
    "    [5, 7, -3, 11]\n",
    "])\n",
    "\n",
    "# Check if the covariance matrix is symmetric\n",
    "print(\n",
    "    \"Is the covariance matrix symmetric?\",\n",
    "    np.allclose(cov_matrix, cov_matrix.T)\n",
    ")\n",
    "\n",
    "# Check if the covariance matrix is positive semi-definite\n",
    "# (all eigenvalues are non-negative or zero)\n",
    "print(\n",
    "    \"Is the covariance matrix positive semi-definite?\",\n",
    "    np.all(np.linalg.eigvals(cov_matrix) >= 0)\n",
    ")\n"
   ]
  },
  {
   "attachments": {},
   "cell_type": "markdown",
   "metadata": {},
   "source": [
    "### 5. Conditional Probability\n",
    "\n",
    "#### Conditional Probability\n",
    "\n",
    "Assume the temperature in City 1 $X_1$ is a Gaussian random variable with mean $\\mu_1 = 60$ and $\\sigma_1 = 10$, and that the temperature of City 2 $X_2$ is a Gaussian random variable with mean $\\mu_2 = 90$ and $\\sigma_2 = 20$. Moreover, we know that the covariance between $X_1$ and $X_2$ is 100. Today, we have observed that the temperature in City 2 is 75. What is the probability that the new temperature in the City 1 is bigger than 56.25?\n"
   ]
  },
  {
   "cell_type": "code",
   "execution_count": 69,
   "metadata": {},
   "outputs": [
    {
     "name": "stdout",
     "output_type": "stream",
     "text": [
      "E(X1 | X2 = 75) = 56.25\n",
      "Var(X1 | X2 = 75) = 75.0\n",
      "P(X1 > 56.25 | X2 = 75) = 0.5\n"
     ]
    }
   ],
   "source": [
    "# City 1 (X1)\n",
    "mu_1 = 60\n",
    "sigma_1 = 10\n",
    "\n",
    "# City 2 (X2)\n",
    "mu_2 = 90\n",
    "sigma_2 = 20\n",
    "\n",
    "# Cov(X1, X2)\n",
    "cov_x1_x2 = 100\n",
    "\n",
    "# Observation\n",
    "x2 = 75\n",
    "\n",
    "# Compute the conditional expectation of X1 given X2 = 75\n",
    "mu_X1_given_X2 = mu_1 + (cov_x1_x2 / sigma_2**2) * (x2 - mu_2)\n",
    "var_X1_given_X2 = sigma_1**2 - (cov_x1_x2**2 / sigma_2**2)\n",
    "\n",
    "print(\"E(X1 | X2 = 75) =\", mu_X1_given_X2)\n",
    "print(\"Var(X1 | X2 = 75) =\", var_X1_given_X2)\n",
    "\n",
    "# Compute the probability that X1 is greater than 56.25\n",
    "# Notes:\n",
    "# - Remember that the PDF allows you to get the probability of a specific value\n",
    "#   while the CDF allows you to get the probability of a value or less than itself.\n",
    "#   Therefore, since we want the probability of X1 being greater than 56.25, we\n",
    "#   need to subtract the CDF of 56.25 from 1.\n",
    "# - We take the square root of the variance to get the standard deviation.\n",
    "P_X1_leq_56 = stats.norm.cdf(\n",
    "    56.25,\n",
    "    mu_X1_given_X2,\n",
    "    np.sqrt(var_X1_given_X2)\n",
    ")\n",
    "\n",
    "print(\"P(X1 > 56.25 | X2 = 75) =\", 1 - P_X1_leq_56)"
   ]
  }
 ],
 "metadata": {
  "kernelspec": {
   "display_name": "data_analysis-ayydRhdv-py3.9",
   "language": "python",
   "name": "python3"
  },
  "language_info": {
   "codemirror_mode": {
    "name": "ipython",
    "version": 3
   },
   "file_extension": ".py",
   "mimetype": "text/x-python",
   "name": "python",
   "nbconvert_exporter": "python",
   "pygments_lexer": "ipython3",
   "version": "3.9.6"
  },
  "orig_nbformat": 4
 },
 "nbformat": 4,
 "nbformat_minor": 2
}
