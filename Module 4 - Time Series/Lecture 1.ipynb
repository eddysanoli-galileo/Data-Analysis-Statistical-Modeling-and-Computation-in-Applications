{
 "cells": [
  {
   "attachments": {},
   "cell_type": "markdown",
   "metadata": {},
   "source": [
    "Module 4:\n",
    "\n",
    "## Lecture 1 - Time Series Analysis: Autocorrelation and Stationarity\n"
   ]
  },
  {
   "cell_type": "code",
   "execution_count": 1,
   "metadata": {},
   "outputs": [
    {
     "name": "stderr",
     "output_type": "stream",
     "text": [
      "c:\\Users\\eddysanoli\\AppData\\Local\\pypoetry\\Cache\\virtualenvs\\data_analysis-ayydRhdv-py3.9\\lib\\site-packages\\statsmodels\\compat\\pandas.py:65: FutureWarning: pandas.Int64Index is deprecated and will be removed from pandas in a future version. Use pandas.Index with the appropriate dtype instead.\n",
      "  from pandas import Int64Index as NumericIndex\n"
     ]
    }
   ],
   "source": [
    "import numpy as np\n",
    "import pandas as pd\n",
    "import matplotlib.pyplot as plt\n",
    "import scipy\n",
    "from statsmodels.tsa.stattools import adfuller\n",
    "import sympy\n"
   ]
  },
  {
   "attachments": {},
   "cell_type": "markdown",
   "metadata": {},
   "source": [
    "### 7. Examples of Stationarity and Non-Stationarity\n",
    "\n",
    "#### Stationarity and non-stationarity\n"
   ]
  },
  {
   "cell_type": "code",
   "execution_count": 2,
   "metadata": {},
   "outputs": [
    {
     "name": "stdout",
     "output_type": "stream",
     "text": [
      "Zt: Stationary\n",
      "Yt: Stationary\n",
      "Xt: Stationary\n",
      "Wt: Stationary\n",
      "Vt: Non-stationary\n",
      "Ut: Non-stationary\n",
      "Qt: Non-stationary\n"
     ]
    }
   ],
   "source": [
    "# Generate a random time series made of 100 observations, with\n",
    "# a mean of 0 and a standard deviation of 1\n",
    "ts = np.random.normal(0, 1, 100)\n",
    "\n",
    "# We generate an associated time index of integers\n",
    "time_index = np.arange(0, 100)\n",
    "\n",
    "# In the lecture, the base time series is referred as Zt\n",
    "Zt = ts\n",
    "\n",
    "\n",
    "def is_stationary(ts):\n",
    "    \"\"\"\n",
    "    Function that check if a time series is stationary or not.\n",
    "    \"\"\"\n",
    "\n",
    "    # Calculate the Augmented Dickey-Fuller test\n",
    "    try:\n",
    "        result = adfuller(ts)\n",
    "    except:\n",
    "        return False\n",
    "\n",
    "    # Get the p-value\n",
    "    p_value = result[1]\n",
    "\n",
    "    # If the p-value is less than 0.05, the series is stationary\n",
    "    # since the null hypothesis is rejected\n",
    "    if p_value < 0.05:\n",
    "        return True\n",
    "    else:\n",
    "        return False\n",
    "\n",
    "\n",
    "# Calculate the different distributions\n",
    "Yt = np.cos(2 * np.pi * time_index / 7) + Zt\n",
    "Xt = np.cos(Zt)\n",
    "Wt = time_index * Zt\n",
    "Vt = np.sum(np.cos(Zt))\n",
    "Ut = np.sum(np.cos(Zt[0:10]) * (0.5**time_index[0:10]))\n",
    "Qt = np.sum(np.cos(Zt) * (0.5**time_index))\n",
    "\n",
    "# Create a dictionary of all the time series\n",
    "time_series = {\n",
    "    \"Zt\": Zt,\n",
    "    \"Yt\": Yt,\n",
    "    \"Xt\": Xt,\n",
    "    \"Wt\": Wt,\n",
    "    \"Vt\": Vt,\n",
    "    \"Ut\": Ut,\n",
    "    \"Qt\": Qt\n",
    "}\n",
    "\n",
    "# Check the stationarity of each time series\n",
    "for key, value in time_series.items():\n",
    "    print(\n",
    "        f\"{key}:\",\n",
    "        \"Stationary\" if is_stationary(value) else \"Non-stationary\"\n",
    "    )\n"
   ]
  },
  {
   "attachments": {},
   "cell_type": "markdown",
   "metadata": {},
   "source": [
    "Depending on the time series, Yt and Wt may be stationary or non-stationary. However, we should use the worst case, so I will assume that both are non-stationary. Then we have the sums. The sums (Vt, Ut and Qt), I thought were non stationary since they were single values, but according to the lecture, Ut is stationary, while all other sums are non-stationary. Im still not a 100% sure why this is, but the lecture answers can be used to explain this.\n",
    "\n",
    "### 9. Differencing\n",
    "\n",
    "#### Differencing Time Series\n"
   ]
  },
  {
   "cell_type": "code",
   "execution_count": 3,
   "metadata": {},
   "outputs": [
    {
     "name": "stdout",
     "output_type": "stream",
     "text": [
      "Delta 5: -W4 + W5 + 9*b\n",
      "Double delta 5: W3 - 2*W4 + W5 + 2*b\n"
     ]
    }
   ],
   "source": [
    "# Declare four variables: a, b and Wt\n",
    "a, b = sympy.symbols(\"a b\")\n",
    "\n",
    "# Define the first 5 Wt stationary time series\n",
    "W1, W2, W3, W4, W5 = sympy.symbols(\"W1 W2 W3 W4 W5\")\n",
    "\n",
    "# Define the equation for time steps 1-5\n",
    "X1 = a + b*(1**2) + W1\n",
    "X2 = a + b*(2**2) + W2\n",
    "X3 = a + b*(3**2) + W3\n",
    "X4 = a + b*(4**2) + W4\n",
    "X5 = a + b*(5**2) + W5\n",
    "\n",
    "# Print the difference\n",
    "deltaX5 = X5 - X4\n",
    "print(\"Delta 5:\", deltaX5.simplify())\n",
    "\n",
    "# Get the fourth delta and then the 5th member of the second difference\n",
    "deltaX4 = X4 - X3\n",
    "double_deltaX5 = deltaX5 - deltaX4\n",
    "print(\"Double delta 5:\", double_deltaX5.simplify())\n"
   ]
  },
  {
   "attachments": {},
   "cell_type": "markdown",
   "metadata": {},
   "source": [
    "#### Differencing Time Series: Removing Stochastic Dependence\n"
   ]
  },
  {
   "cell_type": "code",
   "execution_count": 4,
   "metadata": {},
   "outputs": [
    {
     "name": "stdout",
     "output_type": "stream",
     "text": [
      "Delta 5: W1 + W2 + W3 + W4 + W5\n",
      "Delta 4: W1 + W2 + W3 + W4\n",
      "Delta 3: W1 + W2 + W3\n",
      "Delta 2: W1 + W2\n",
      "Double delta 5: W5\n",
      "Double delta 4: W4\n",
      "Double delta 3: W3\n"
     ]
    }
   ],
   "source": [
    "# Declare the variables for X1, X2, ...\n",
    "X1, X2, X3, X4, X5 = sympy.symbols(\"X1 X2 X3 X4 X5\")\n",
    "\n",
    "X1 = W1\n",
    "X2 = 2*X1 + W2\n",
    "X3 = 2*X2 - X1 + W3\n",
    "X4 = 2*X3 - X2 + W4\n",
    "X5 = 2*X4 - X3 + W5\n",
    "\n",
    "# Get the differences\n",
    "deltaX5 = X5 - X4\n",
    "deltaX4 = X4 - X3\n",
    "deltaX3 = X3 - X2\n",
    "deltaX2 = X2 - X1\n",
    "\n",
    "# Print the difference\n",
    "print(\"Delta 5:\", deltaX5.simplify())\n",
    "print(\"Delta 4:\", deltaX4.simplify())\n",
    "print(\"Delta 3:\", deltaX3.simplify())\n",
    "print(\"Delta 2:\", deltaX2.simplify())\n",
    "\n",
    "# Get the second differences\n",
    "double_deltaX5 = deltaX5 - deltaX4\n",
    "double_deltaX4 = deltaX4 - deltaX3\n",
    "double_deltaX3 = deltaX3 - deltaX2\n",
    "\n",
    "# Print the second differences\n",
    "print(\"Double delta 5:\", double_deltaX5.simplify())\n",
    "print(\"Double delta 4:\", double_deltaX4.simplify())\n",
    "print(\"Double delta 3:\", double_deltaX3.simplify())\n"
   ]
  },
  {
   "attachments": {},
   "cell_type": "markdown",
   "metadata": {},
   "source": [
    "### 11. Autocorrelation as a Diagnostic Tool\n",
    "\n",
    "#### Seasonal Variation and ACF\n"
   ]
  },
  {
   "cell_type": "code",
   "execution_count": 5,
   "metadata": {},
   "outputs": [
    {
     "name": "stdout",
     "output_type": "stream",
     "text": [
      "Gamma (0): 6.666666666666667\n",
      "Gamma (1): 4.444444444444445\n",
      "Gamma (2): 2.3333333333333335\n",
      "Gamma (3): 0.4444444444444444\n",
      "Gamma (4): -1.1111111111111112\n",
      "Gamma (5): -2.2222222222222223\n",
      "Gamma (6): -2.7777777777777777\n"
     ]
    }
   ],
   "source": [
    "ts = np.array([\n",
    "    -4, -3, -2, -1, 0, 1, 2, 3, 4\n",
    "])\n",
    "\n",
    "\n",
    "def autocovariance(ts, h):\n",
    "    \"\"\"\n",
    "    Function that calculates the autocovariance function estimator\n",
    "    based on a time series and a time shifter.\n",
    "    \"\"\"\n",
    "\n",
    "    # We initialize the autocovariance function estimator\n",
    "    gamma = 0\n",
    "\n",
    "    # We multiply the ith element of the time series by the\n",
    "    # (i + h)th element of the time series and add it to gamma\n",
    "    for i in range(len(ts)):\n",
    "        if i + h < len(ts):\n",
    "            gamma += ts[i] * ts[i + h]\n",
    "        else:\n",
    "            continue\n",
    "\n",
    "    # Average the autocovariance function estimator\n",
    "    gamma = gamma / len(ts)\n",
    "    return gamma\n",
    "\n",
    "\n",
    "# Print the autocovariance function estimator\n",
    "for i in range(7):\n",
    "    print(f\"Gamma ({i}):\", autocovariance(ts, i))\n"
   ]
  },
  {
   "attachments": {},
   "cell_type": "markdown",
   "metadata": {},
   "source": [
    "#### Seasonal Variation and ACF (Part 2)\n"
   ]
  },
  {
   "cell_type": "code",
   "execution_count": 6,
   "metadata": {},
   "outputs": [
    {
     "name": "stdout",
     "output_type": "stream",
     "text": [
      "Gamma (0): 0.5\n",
      "Gamma (1): 0.0\n",
      "Gamma (2): -0.375\n",
      "Gamma (3): 0.0\n",
      "Gamma (4): 0.25\n",
      "Gamma (5): 0.0\n"
     ]
    }
   ],
   "source": [
    "ts = np.array([\n",
    "    -1, 0, 1, 0, -1, 0, 1, 0\n",
    "])\n",
    "\n",
    "# Calculate the autocovariance function estimator\n",
    "for i in range(6):\n",
    "    print(f\"Gamma ({i}):\", autocovariance(ts, i))\n"
   ]
  }
 ],
 "metadata": {
  "kernelspec": {
   "display_name": "data_analysis-ayydRhdv-py3.9",
   "language": "python",
   "name": "python3"
  },
  "language_info": {
   "codemirror_mode": {
    "name": "ipython",
    "version": 3
   },
   "file_extension": ".py",
   "mimetype": "text/x-python",
   "name": "python",
   "nbconvert_exporter": "python",
   "pygments_lexer": "ipython3",
   "version": "3.9.6"
  },
  "orig_nbformat": 4
 },
 "nbformat": 4,
 "nbformat_minor": 2
}
