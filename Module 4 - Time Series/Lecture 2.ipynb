{
 "cells": [
  {
   "attachments": {},
   "cell_type": "markdown",
   "metadata": {},
   "source": [
    "Module 4:\n",
    "\n",
    "## Lecture 2 - Statistical Models\n"
   ]
  },
  {
   "cell_type": "code",
   "execution_count": 2,
   "metadata": {},
   "outputs": [],
   "source": [
    "import numpy as np\n",
    "import pandas as pd\n",
    "import matplotlib.pyplot as plt\n",
    "from statsmodels.tsa.stattools import adfuller\n",
    "import sympy\n"
   ]
  },
  {
   "attachments": {},
   "cell_type": "markdown",
   "metadata": {},
   "source": [
    "### 4. Random Walk Model\n",
    "\n",
    "#### Coin Toss and Random Walk\n"
   ]
  },
  {
   "cell_type": "code",
   "execution_count": 15,
   "metadata": {},
   "outputs": [
    {
     "name": "stdout",
     "output_type": "stream",
     "text": [
      "[0, 1, 0, -1, -2, -1, 0, -1, -2, -3]\n",
      "[0, 1, 2, 3, 4, 5, 6, 7, 8, 9]\n"
     ]
    },
    {
     "data": {
      "image/png": "[encoded data removed]",
      "text/plain": [
       "<Figure size 640x480 with 1 Axes>"
      ]
     },
     "metadata": {},
     "output_type": "display_data"
    },
    {
     "name": "stdout",
     "output_type": "stream",
     "text": [
      "Position Variance:  1.29\n",
      "Theoretical Variance:  1.0\n"
     ]
    }
   ],
   "source": [
    "# Sequence of coin flips\n",
    "coin_flips = [\n",
    "    \"H\", \"T\", \"T\", \"T\", \"H\", \"H\", \"T\", \"T\", \"T\"\n",
    "]\n",
    "\n",
    "# Create an empty list for the random walk and the initial position\n",
    "position = 0\n",
    "position_log = [position]\n",
    "\n",
    "# Loop over the coin flips\n",
    "for idx, flip in enumerate(coin_flips):\n",
    "\n",
    "    # If the flip is a head, add 1 to X_{t-1}\n",
    "    if flip == \"H\":\n",
    "        position += 1\n",
    "\n",
    "    # If the flip is a tail, subtract 1 from X_{t-1}\n",
    "    elif flip == \"T\":\n",
    "        position -= 1\n",
    "\n",
    "    # Append the new value to the random walk\n",
    "    position_log.append(position)\n",
    "\n",
    "# Print the random walk\n",
    "print(position_log)\n",
    "print(list(range(len(position_log))))\n",
    "\n",
    "# Plot the random walk\n",
    "plt.plot(position_log)\n",
    "plt.grid()\n",
    "plt.show()\n",
    "\n",
    "# Variance of the position\n",
    "print(\"Position Variance: \", np.var(position_log))\n",
    "print(\"Theoretical Variance: \", np.var([1, -1]))\n"
   ]
  },
  {
   "attachments": {},
   "cell_type": "markdown",
   "metadata": {},
   "source": [
    "#### Biased Coin Toss and Random Walk\n"
   ]
  },
  {
   "cell_type": "code",
   "execution_count": 24,
   "metadata": {},
   "outputs": [
    {
     "name": "stdout",
     "output_type": "stream",
     "text": [
      "Mean of the random walk:  0.5\n",
      "Variance of the random walk:  0.75\n"
     ]
    }
   ],
   "source": [
    "p_h = 0.75\n",
    "p_t = 0.25\n",
    "\n",
    "# Walk values for heads and tails\n",
    "step_h = 1\n",
    "step_t = -1\n",
    "\n",
    "# Get the mean of the random walk\n",
    "mean_rw = p_h*step_h + p_t*step_t\n",
    "print(\"Mean of the random walk: \", mean_rw)\n",
    "\n",
    "# Calculate the variance of a biased random walk\n",
    "var_rw = p_h*step_h**2 + p_t*step_t**2 - mean_rw**2\n",
    "print(\"Variance of the random walk: \", var_rw)\n"
   ]
  },
  {
   "attachments": {},
   "cell_type": "markdown",
   "metadata": {},
   "source": [
    "#### Statistics of Random Walk\n"
   ]
  },
  {
   "cell_type": "code",
   "execution_count": 27,
   "metadata": {},
   "outputs": [
    {
     "name": "stdout",
     "output_type": "stream",
     "text": [
      "Autocovariance for (5, 10):  5\n",
      "Autocovariance for (10, 15):  10\n"
     ]
    }
   ],
   "source": [
    "# =============== S = 5 / T = 10 =============== #\n",
    "\n",
    "# Steps s and t\n",
    "s = 5\n",
    "t = 10\n",
    "\n",
    "# Variance of white noise\n",
    "var_wn = 1\n",
    "\n",
    "# Get the minimum between s and t\n",
    "min_st = min(s, t)\n",
    "\n",
    "# Calculate the autocovariance for (s, t)\n",
    "autocov_st = min_st * var_wn\n",
    "print(f\"Autocovariance for ({ s }, { t }): \", autocov_st)\n",
    "\n",
    "# =============== S = 10 / T = 15 ============== #\n",
    "\n",
    "# Steps s and t\n",
    "s = 10\n",
    "t = 15\n",
    "\n",
    "# Minimum between s and t\n",
    "min_st = min(s, t)\n",
    "\n",
    "# Calculate the autocovariance for (s, t)\n",
    "autocov_st = min_st * var_wn\n",
    "print(f\"Autocovariance for ({ s }, { t }): \", autocov_st)\n"
   ]
  },
  {
   "attachments": {},
   "cell_type": "markdown",
   "metadata": {},
   "source": [
    "### 6. Moving Average Model\n",
    "\n",
    "#### ACF of Moving Average Model\n",
    "\n",
    "$$\n",
    "\\displaystyle  \\gamma _ X(h) \\displaystyle = \\textsf{Cov}\\Big(\\sum _{j=0}^ q \\theta _ j W_{t-j}, \\sum _{k=0}^ q \\theta _ k W_{t+h-k}\\Big)\n",
    "\\displaystyle = \\sum _{j=0}^{q-h} \\theta _ j \\theta _{j+h} \\sigma ^2_ W \\quad \\text {for}\\quad 0\\le h \\le q\n",
    "$$\n",
    "\n",
    "For this exercise I simply translated the final sum of this equation into a Python loop. It worked. One thing to remember though, is that the autocovariance will be zero for all `h` values greater than `q`. This is because after this point, the covariance term stops sharing common terms, causing all values to return 0.\n"
   ]
  },
  {
   "cell_type": "code",
   "execution_count": 39,
   "metadata": {},
   "outputs": [
    {
     "name": "stdout",
     "output_type": "stream",
     "text": [
      "Autocovariance Function (ACF) for h = 3: 0\n"
     ]
    }
   ],
   "source": [
    "# Variance of white noise\n",
    "var_wn = 1\n",
    "\n",
    "# List of all the coefficients for the white noise terms\n",
    "theta = [1, 0.5, 1/3]\n",
    "\n",
    "# Gap value (how much time we will average to get the \"moving average\")\n",
    "gap = h = 3\n",
    "\n",
    "# Order (How many white noise terms we will average)\n",
    "order = q = 2\n",
    "\n",
    "sum = 0\n",
    "for j in range(q - h + 1):\n",
    "    sum += theta[j] * theta[j + h] * var_wn\n",
    "\n",
    "print(f\"Autocovariance Function (ACF) for h = {h}: {sum}\")\n"
   ]
  },
  {
   "cell_type": "code",
   "execution_count": null,
   "metadata": {},
   "outputs": [],
   "source": []
  }
 ],
 "metadata": {
  "kernelspec": {
   "display_name": "data_analysis-ayydRhdv-py3.9",
   "language": "python",
   "name": "python3"
  },
  "language_info": {
   "codemirror_mode": {
    "name": "ipython",
    "version": 3
   },
   "file_extension": ".py",
   "mimetype": "text/x-python",
   "name": "python",
   "nbconvert_exporter": "python",
   "pygments_lexer": "ipython3",
   "version": "3.9.6"
  },
  "orig_nbformat": 4
 },
 "nbformat": 4,
 "nbformat_minor": 2
}
