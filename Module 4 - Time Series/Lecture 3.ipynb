{
 "cells": [
  {
   "attachments": {},
   "cell_type": "markdown",
   "metadata": {},
   "source": [
    "Module 4:\n",
    "\n",
    "## Lecture 3 - Model Selection, Linear Processes and LLR\n"
   ]
  },
  {
   "cell_type": "code",
   "execution_count": 3,
   "metadata": {},
   "outputs": [],
   "source": [
    "import numpy as np\n",
    "import pandas as pd\n",
    "import matplotlib.pyplot as plt\n",
    "from statsmodels.tsa.stattools import adfuller\n",
    "import sympy\n"
   ]
  },
  {
   "attachments": {},
   "cell_type": "markdown",
   "metadata": {},
   "source": [
    "### 3. Partial Autocorrelation\n",
    "\n",
    "#### Recap of AR Model\n",
    "\n",
    "In order to prove why the autocorrelation formula in the second question is what it is, use this: https://stats.stackexchange.com/questions/387799/proof-expression-for-the-autocovariance-function-of-ar1\n",
    "\n",
    "### 5. Information Criterion\n",
    "\n",
    "#### AIC and BIC\n"
   ]
  },
  {
   "cell_type": "code",
   "execution_count": 16,
   "metadata": {},
   "outputs": [
    {
     "name": "stdout",
     "output_type": "stream",
     "text": [
      "Model A\n",
      "AIC: 15.394829814011908\n",
      "BIC: 64.47238260383328\n",
      "\n",
      "Model B\n",
      "AIC: 12.368978884071453\n",
      "BIC: 110.52408446371419\n"
     ]
    }
   ],
   "source": [
    "# Lambda function to calculate the akaike information criterion\n",
    "# for a given model\n",
    "def AIC(k, L): return 2*k - 2*np.log(L)\n",
    "\n",
    "\n",
    "# Lambda function to calculate the bayesian information criterion\n",
    "# for a given model\n",
    "def BIC(k, n, L): return k*np.log(n) - 2*np.log(L)\n",
    "\n",
    "\n",
    "# Number of samples in the time series\n",
    "n = 1000\n",
    "\n",
    "# Model A\n",
    "# - Time series of length 1000: n = 1000\n",
    "# - 10 parameters: k = 10\n",
    "# - Log-likelihood: L = 10\n",
    "k = 10\n",
    "L = 10\n",
    "print('Model A')\n",
    "print(f'AIC: {AIC(k, L)}')\n",
    "print(f'BIC: {BIC(k, n, L)}')\n",
    "\n",
    "# Model B\n",
    "# - Time series of length 1000: n = 1000\n",
    "# - 20 parameters: k = 20\n",
    "# - Log-likelihood: L = 10e6\n",
    "k = 20\n",
    "L = 10**6\n",
    "print()\n",
    "print('Model B')\n",
    "print(f'AIC: {AIC(k, L)}')\n",
    "print(f'BIC: {BIC(k, n, L)}')\n"
   ]
  }
 ],
 "metadata": {
  "kernelspec": {
   "display_name": "data_analysis-ayydRhdv-py3.9",
   "language": "python",
   "name": "python3"
  },
  "language_info": {
   "codemirror_mode": {
    "name": "ipython",
    "version": 3
   },
   "file_extension": ".py",
   "mimetype": "text/x-python",
   "name": "python",
   "nbconvert_exporter": "python",
   "pygments_lexer": "ipython3",
   "version": "3.9.6"
  },
  "orig_nbformat": 4
 },
 "nbformat": 4,
 "nbformat_minor": 2
}
