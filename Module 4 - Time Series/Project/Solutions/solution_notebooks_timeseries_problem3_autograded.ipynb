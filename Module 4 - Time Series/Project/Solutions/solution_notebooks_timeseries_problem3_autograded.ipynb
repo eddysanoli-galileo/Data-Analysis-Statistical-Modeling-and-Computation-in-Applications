{
 "cells": [
  {
   "attachments": {},
   "cell_type": "markdown",
   "metadata": {},
   "source": [
    "# Time Series Homework\n"
   ]
  },
  {
   "cell_type": "code",
   "execution_count": 29,
   "metadata": {},
   "outputs": [
    {
     "data": {
      "text/html": [
       "\n",
       "    <div class=\"bk-root\">\n",
       "        <a href=\"https://bokeh.org\" target=\"_blank\" class=\"bk-logo bk-logo-small bk-logo-notebook\"></a>\n",
       "        <span id=\"3457\">Loading BokehJS ...</span>\n",
       "    </div>"
      ]
     },
     "metadata": {},
     "output_type": "display_data"
    },
    {
     "data": {
      "application/javascript": "\n(function(root) {\n  function now() {\n    return new Date();\n  }\n\n  var force = true;\n\n  if (typeof root._bokeh_onload_callbacks === \"undefined\" || force === true) {\n    root._bokeh_onload_callbacks = [];\n    root._bokeh_is_loading = undefined;\n  }\n\n  var JS_MIME_TYPE = 'application/javascript';\n  var HTML_MIME_TYPE = 'text/html';\n  var EXEC_MIME_TYPE = 'application/vnd.bokehjs_exec.v0+json';\n  var CLASS_NAME = 'output_bokeh rendered_html';\n\n  /**\n   * Render data to the DOM node\n   */\n  function render(props, node) {\n    var script = document.createElement(\"script\");\n    node.appendChild(script);\n  }\n\n  /**\n   * Handle when an output is cleared or removed\n   */\n  function handleClearOutput(event, handle) {\n    var cell = handle.cell;\n\n    var id = cell.output_area._bokeh_element_id;\n    var server_id = cell.output_area._bokeh_server_id;\n    // Clean up Bokeh references\n    if (id != null && id in Bokeh.index) {\n      Bokeh.index[id].model.document.clear();\n      delete Bokeh.index[id];\n    }\n\n    if (server_id !== undefined) {\n      // Clean up Bokeh references\n      var cmd = \"from bokeh.io.state import curstate; print(curstate().uuid_to_server['\" + server_id + \"'].get_sessions()[0].document.roots[0]._id)\";\n      cell.notebook.kernel.execute(cmd, {\n        iopub: {\n          output: function(msg) {\n            var id = msg.content.text.trim();\n            if (id in Bokeh.index) {\n              Bokeh.index[id].model.document.clear();\n              delete Bokeh.index[id];\n            }\n          }\n        }\n      });\n      // Destroy server and session\n      var cmd = \"import bokeh.io.notebook as ion; ion.destroy_server('\" + server_id + \"')\";\n      cell.notebook.kernel.execute(cmd);\n    }\n  }\n\n  /**\n   * Handle when a new output is added\n   */\n  function handleAddOutput(event, handle) {\n    var output_area = handle.output_area;\n    var output = handle.output;\n\n    // limit handleAddOutput to display_data with EXEC_MIME_TYPE content only\n    if ((output.output_type != \"display_data\") || (!Object.prototype.hasOwnProperty.call(output.data, EXEC_MIME_TYPE))) {\n      return\n    }\n\n    var toinsert = output_area.element.find(\".\" + CLASS_NAME.split(' ')[0]);\n\n    if (output.metadata[EXEC_MIME_TYPE][\"id\"] !== undefined) {\n      toinsert[toinsert.length - 1].firstChild.textContent = output.data[JS_MIME_TYPE];\n      // store reference to embed id on output_area\n      output_area._bokeh_element_id = output.metadata[EXEC_MIME_TYPE][\"id\"];\n    }\n    if (output.metadata[EXEC_MIME_TYPE][\"server_id\"] !== undefined) {\n      var bk_div = document.createElement(\"div\");\n      bk_div.innerHTML = output.data[HTML_MIME_TYPE];\n      var script_attrs = bk_div.children[0].attributes;\n      for (var i = 0; i < script_attrs.length; i++) {\n        toinsert[toinsert.length - 1].firstChild.setAttribute(script_attrs[i].name, script_attrs[i].value);\n        toinsert[toinsert.length - 1].firstChild.textContent = bk_div.children[0].textContent\n      }\n      // store reference to server id on output_area\n      output_area._bokeh_server_id = output.metadata[EXEC_MIME_TYPE][\"server_id\"];\n    }\n  }\n\n  function register_renderer(events, OutputArea) {\n\n    function append_mime(data, metadata, element) {\n      // create a DOM node to render to\n      var toinsert = this.create_output_subarea(\n        metadata,\n        CLASS_NAME,\n        EXEC_MIME_TYPE\n      );\n      this.keyboard_manager.register_events(toinsert);\n      // Render to node\n      var props = {data: data, metadata: metadata[EXEC_MIME_TYPE]};\n      render(props, toinsert[toinsert.length - 1]);\n      element.append(toinsert);\n      return toinsert\n    }\n\n    /* Handle when an output is cleared or removed */\n    events.on('clear_output.CodeCell', handleClearOutput);\n    events.on('delete.Cell', handleClearOutput);\n\n    /* Handle when a new output is added */\n    events.on('output_added.OutputArea', handleAddOutput);\n\n    /**\n     * Register the mime type and append_mime function with output_area\n     */\n    OutputArea.prototype.register_mime_type(EXEC_MIME_TYPE, append_mime, {\n      /* Is output safe? */\n      safe: true,\n      /* Index of renderer in `output_area.display_order` */\n      index: 0\n    });\n  }\n\n  // register the mime type if in Jupyter Notebook environment and previously unregistered\n  if (root.Jupyter !== undefined) {\n    var events = require('base/js/events');\n    var OutputArea = require('notebook/js/outputarea').OutputArea;\n\n    if (OutputArea.prototype.mime_types().indexOf(EXEC_MIME_TYPE) == -1) {\n      register_renderer(events, OutputArea);\n    }\n  }\n\n  \n  if (typeof (root._bokeh_timeout) === \"undefined\" || force === true) {\n    root._bokeh_timeout = Date.now() + 5000;\n    root._bokeh_failed_load = false;\n  }\n\n  var NB_LOAD_WARNING = {'data': {'text/html':\n     \"<div style='background-color: #fdd'>\\n\"+\n     \"<p>\\n\"+\n     \"BokehJS does not appear to have successfully loaded. If loading BokehJS from CDN, this \\n\"+\n     \"may be due to a slow or bad network connection. Possible fixes:\\n\"+\n     \"</p>\\n\"+\n     \"<ul>\\n\"+\n     \"<li>re-rerun `output_notebook()` to attempt to load from CDN again, or</li>\\n\"+\n     \"<li>use INLINE resources instead, as so:</li>\\n\"+\n     \"</ul>\\n\"+\n     \"<code>\\n\"+\n     \"from bokeh.resources import INLINE\\n\"+\n     \"output_notebook(resources=INLINE)\\n\"+\n     \"</code>\\n\"+\n     \"</div>\"}};\n\n  function display_loaded() {\n    var el = document.getElementById(\"3457\");\n    if (el != null) {\n      el.textContent = \"BokehJS is loading...\";\n    }\n    if (root.Bokeh !== undefined) {\n      if (el != null) {\n        el.textContent = \"BokehJS \" + root.Bokeh.version + \" successfully loaded.\";\n      }\n    } else if (Date.now() < root._bokeh_timeout) {\n      setTimeout(display_loaded, 100)\n    }\n  }\n\n\n  function run_callbacks() {\n    try {\n      root._bokeh_onload_callbacks.forEach(function(callback) {\n        if (callback != null)\n          callback();\n      });\n    } finally {\n      delete root._bokeh_onload_callbacks\n    }\n    console.debug(\"Bokeh: all callbacks have finished\");\n  }\n\n  function load_libs(css_urls, js_urls, callback) {\n    if (css_urls == null) css_urls = [];\n    if (js_urls == null) js_urls = [];\n\n    root._bokeh_onload_callbacks.push(callback);\n    if (root._bokeh_is_loading > 0) {\n      console.debug(\"Bokeh: BokehJS is being loaded, scheduling callback at\", now());\n      return null;\n    }\n    if (js_urls == null || js_urls.length === 0) {\n      run_callbacks();\n      return null;\n    }\n    console.debug(\"Bokeh: BokehJS not loaded, scheduling load and callback at\", now());\n    root._bokeh_is_loading = css_urls.length + js_urls.length;\n\n    function on_load() {\n      root._bokeh_is_loading--;\n      if (root._bokeh_is_loading === 0) {\n        console.debug(\"Bokeh: all BokehJS libraries/stylesheets loaded\");\n        run_callbacks()\n      }\n    }\n\n    function on_error(url) {\n      console.error(\"failed to load \" + url);\n    }\n\n    for (let i = 0; i < css_urls.length; i++) {\n      const url = css_urls[i];\n      const element = document.createElement(\"link\");\n      element.onload = on_load;\n      element.onerror = on_error.bind(null, url);\n      element.rel = \"stylesheet\";\n      element.type = \"text/css\";\n      element.href = url;\n      console.debug(\"Bokeh: injecting link tag for BokehJS stylesheet: \", url);\n      document.body.appendChild(element);\n    }\n\n    const hashes = {\"https://cdn.bokeh.org/bokeh/release/bokeh-2.3.1.min.js\": \"YF85VygJKMVnHE+lLv2AM93Vbstr0yo2TbIu5v8se5Rq3UQAUmcuh4aaJwNlpKwa\", \"https://cdn.bokeh.org/bokeh/release/bokeh-widgets-2.3.1.min.js\": \"KKuas3gevv3PvrlkyCMzffFeaMq5we/a2QsP5AUoS3mJ0jmaCL7jirFJN3GoE/lM\", \"https://cdn.bokeh.org/bokeh/release/bokeh-tables-2.3.1.min.js\": \"MK/uFc3YT18pkvvXRl66tTHjP0/dxoSH2e/eiNMFIguKlun2+WVqaPTWmUy/zvh4\"};\n\n    for (let i = 0; i < js_urls.length; i++) {\n      const url = js_urls[i];\n      const element = document.createElement('script');\n      element.onload = on_load;\n      element.onerror = on_error.bind(null, url);\n      element.async = false;\n      element.src = url;\n      if (url in hashes) {\n        element.crossOrigin = \"anonymous\";\n        element.integrity = \"sha384-\" + hashes[url];\n      }\n      console.debug(\"Bokeh: injecting script tag for BokehJS library: \", url);\n      document.head.appendChild(element);\n    }\n  };\n\n  function inject_raw_css(css) {\n    const element = document.createElement(\"style\");\n    element.appendChild(document.createTextNode(css));\n    document.body.appendChild(element);\n  }\n\n  \n  var js_urls = [\"https://cdn.bokeh.org/bokeh/release/bokeh-2.3.1.min.js\", \"https://cdn.bokeh.org/bokeh/release/bokeh-widgets-2.3.1.min.js\", \"https://cdn.bokeh.org/bokeh/release/bokeh-tables-2.3.1.min.js\"];\n  var css_urls = [];\n  \n\n  var inline_js = [\n    function(Bokeh) {\n      Bokeh.set_log_level(\"info\");\n    },\n    function(Bokeh) {\n    \n    \n    }\n  ];\n\n  function run_inline_js() {\n    \n    if (root.Bokeh !== undefined || force === true) {\n      \n    for (var i = 0; i < inline_js.length; i++) {\n      inline_js[i].call(root, root.Bokeh);\n    }\n    if (force === true) {\n        display_loaded();\n      }} else if (Date.now() < root._bokeh_timeout) {\n      setTimeout(run_inline_js, 100);\n    } else if (!root._bokeh_failed_load) {\n      console.log(\"Bokeh: BokehJS failed to load within specified timeout.\");\n      root._bokeh_failed_load = true;\n    } else if (force !== true) {\n      var cell = $(document.getElementById(\"3457\")).parents('.cell').data().cell;\n      cell.output_area.append_execute_result(NB_LOAD_WARNING)\n    }\n\n  }\n\n  if (root._bokeh_is_loading === 0) {\n    console.debug(\"Bokeh: BokehJS loaded, going straight to plotting\");\n    run_inline_js();\n  } else {\n    load_libs(css_urls, js_urls, function() {\n      console.debug(\"Bokeh: BokehJS plotting callback run at\", now());\n      run_inline_js();\n    });\n  }\n}(window));",
      "application/vnd.bokehjs_load.v0+json": ""
     },
     "metadata": {},
     "output_type": "display_data"
    }
   ],
   "source": [
    "from sklearn.preprocessing import PolynomialFeatures\n",
    "from sklearn.pipeline import make_pipeline\n",
    "from sklearn.linear_model import LinearRegression\n",
    "from scipy.interpolate import interp1d\n",
    "import pandas as pd\n",
    "import numpy as np\n",
    "import matplotlib.pyplot as plt\n",
    "from bokeh.io import output_notebook, show, export_png\n",
    "# from bokeh.io import output_file\n",
    "from bokeh.plotting import figure\n",
    "from itertools import chain\n",
    "from sklearn.metrics import mean_squared_error\n",
    "import datetime as dt\n",
    "import statsmodels.api as sm\n",
    "from statsmodels.graphics.tsaplots import plot_acf, plot_pacf\n",
    "from statsmodels.tsa.ar_model import AutoReg\n",
    "import pmdarima as pm\n",
    "\n",
    "import math\n",
    "import pmdarima as pm\n",
    "import statsmodels.api as sm\n",
    "\n",
    "\n",
    "def mean_absolute_percentage_error(y_true, y_pred):\n",
    "    return np.mean(np.abs((y_true - y_pred) / y_true)) * 100\n",
    "\n",
    "\n",
    "output_notebook()\n"
   ]
  },
  {
   "attachments": {},
   "cell_type": "markdown",
   "metadata": {},
   "source": [
    "## Problem 3\n"
   ]
  },
  {
   "attachments": {},
   "cell_type": "markdown",
   "metadata": {},
   "source": [
    "We will first read the two files given to us into dataframes that we can work with\n"
   ]
  },
  {
   "cell_type": "code",
   "execution_count": 30,
   "metadata": {},
   "outputs": [
    {
     "data": {
      "text/html": [
       "<div>\n",
       "<style scoped>\n",
       "    .dataframe tbody tr th:only-of-type {\n",
       "        vertical-align: middle;\n",
       "    }\n",
       "\n",
       "    .dataframe tbody tr th {\n",
       "        vertical-align: top;\n",
       "    }\n",
       "\n",
       "    .dataframe thead th {\n",
       "        text-align: right;\n",
       "    }\n",
       "</style>\n",
       "<table border=\"1\" class=\"dataframe\">\n",
       "  <thead>\n",
       "    <tr style=\"text-align: right;\">\n",
       "      <th></th>\n",
       "      <th>date</th>\n",
       "      <th>PriceStats</th>\n",
       "      <th>CPI</th>\n",
       "    </tr>\n",
       "  </thead>\n",
       "  <tbody>\n",
       "    <tr>\n",
       "      <th>0</th>\n",
       "      <td>2008-07-24</td>\n",
       "      <td>100.00000</td>\n",
       "      <td>100.0000</td>\n",
       "    </tr>\n",
       "    <tr>\n",
       "      <th>1</th>\n",
       "      <td>2008-07-25</td>\n",
       "      <td>99.99767</td>\n",
       "      <td>100.0000</td>\n",
       "    </tr>\n",
       "    <tr>\n",
       "      <th>2</th>\n",
       "      <td>2008-07-26</td>\n",
       "      <td>99.92376</td>\n",
       "      <td>100.0000</td>\n",
       "    </tr>\n",
       "    <tr>\n",
       "      <th>3</th>\n",
       "      <td>2008-07-27</td>\n",
       "      <td>99.91537</td>\n",
       "      <td>100.0000</td>\n",
       "    </tr>\n",
       "    <tr>\n",
       "      <th>4</th>\n",
       "      <td>2008-07-28</td>\n",
       "      <td>99.89491</td>\n",
       "      <td>100.0000</td>\n",
       "    </tr>\n",
       "    <tr>\n",
       "      <th>5</th>\n",
       "      <td>2008-07-29</td>\n",
       "      <td>99.88470</td>\n",
       "      <td>100.0000</td>\n",
       "    </tr>\n",
       "    <tr>\n",
       "      <th>6</th>\n",
       "      <td>2008-07-30</td>\n",
       "      <td>99.88448</td>\n",
       "      <td>100.0000</td>\n",
       "    </tr>\n",
       "    <tr>\n",
       "      <th>7</th>\n",
       "      <td>2008-07-31</td>\n",
       "      <td>99.86741</td>\n",
       "      <td>100.0000</td>\n",
       "    </tr>\n",
       "    <tr>\n",
       "      <th>8</th>\n",
       "      <td>2008-08-01</td>\n",
       "      <td>99.85761</td>\n",
       "      <td>100.5251</td>\n",
       "    </tr>\n",
       "    <tr>\n",
       "      <th>9</th>\n",
       "      <td>2008-08-02</td>\n",
       "      <td>99.85294</td>\n",
       "      <td>100.5251</td>\n",
       "    </tr>\n",
       "  </tbody>\n",
       "</table>\n",
       "</div>"
      ],
      "text/plain": [
       "        date  PriceStats       CPI\n",
       "0 2008-07-24   100.00000  100.0000\n",
       "1 2008-07-25    99.99767  100.0000\n",
       "2 2008-07-26    99.92376  100.0000\n",
       "3 2008-07-27    99.91537  100.0000\n",
       "4 2008-07-28    99.89491  100.0000\n",
       "5 2008-07-29    99.88470  100.0000\n",
       "6 2008-07-30    99.88448  100.0000\n",
       "7 2008-07-31    99.86741  100.0000\n",
       "8 2008-08-01    99.85761  100.5251\n",
       "9 2008-08-02    99.85294  100.5251"
      ]
     },
     "execution_count": 30,
     "metadata": {},
     "output_type": "execute_result"
    }
   ],
   "source": [
    "ps_cpi = pd.read_csv(\"data/PriceStats_CPI.csv\")\n",
    "ps_cpi['date'] = pd.to_datetime(ps_cpi['date'])\n",
    "ps_cpi.head(10)\n"
   ]
  },
  {
   "attachments": {},
   "cell_type": "markdown",
   "metadata": {},
   "source": [
    "Notice that while PriceStats changes on a daily basis, CPI only changes on a monthly basis. Hence, the monthly CPI can be obtained by taking the CPI of any day during a month. Additionally, we split the data into training and testing data sets as outlined in the problem statement\n"
   ]
  },
  {
   "cell_type": "code",
   "execution_count": 81,
   "metadata": {},
   "outputs": [
    {
     "data": {
      "text/html": [
       "<div>\n",
       "<style scoped>\n",
       "    .dataframe tbody tr th:only-of-type {\n",
       "        vertical-align: middle;\n",
       "    }\n",
       "\n",
       "    .dataframe tbody tr th {\n",
       "        vertical-align: top;\n",
       "    }\n",
       "\n",
       "    .dataframe thead th {\n",
       "        text-align: right;\n",
       "    }\n",
       "</style>\n",
       "<table border=\"1\" class=\"dataframe\">\n",
       "  <thead>\n",
       "    <tr style=\"text-align: right;\">\n",
       "      <th></th>\n",
       "      <th>date</th>\n",
       "      <th>CPI</th>\n",
       "      <th>YearMonth</th>\n",
       "    </tr>\n",
       "  </thead>\n",
       "  <tbody>\n",
       "    <tr>\n",
       "      <th>0</th>\n",
       "      <td>2008-07-31</td>\n",
       "      <td>100.00000</td>\n",
       "      <td>2008-07</td>\n",
       "    </tr>\n",
       "    <tr>\n",
       "      <th>1</th>\n",
       "      <td>2008-08-31</td>\n",
       "      <td>100.52510</td>\n",
       "      <td>2008-08</td>\n",
       "    </tr>\n",
       "    <tr>\n",
       "      <th>2</th>\n",
       "      <td>2008-09-30</td>\n",
       "      <td>100.12380</td>\n",
       "      <td>2008-09</td>\n",
       "    </tr>\n",
       "    <tr>\n",
       "      <th>3</th>\n",
       "      <td>2008-10-31</td>\n",
       "      <td>99.98538</td>\n",
       "      <td>2008-10</td>\n",
       "    </tr>\n",
       "    <tr>\n",
       "      <th>4</th>\n",
       "      <td>2008-11-30</td>\n",
       "      <td>98.97539</td>\n",
       "      <td>2008-11</td>\n",
       "    </tr>\n",
       "    <tr>\n",
       "      <th>5</th>\n",
       "      <td>2008-12-31</td>\n",
       "      <td>97.07973</td>\n",
       "      <td>2008-12</td>\n",
       "    </tr>\n",
       "    <tr>\n",
       "      <th>6</th>\n",
       "      <td>2009-01-31</td>\n",
       "      <td>96.07569</td>\n",
       "      <td>2009-01</td>\n",
       "    </tr>\n",
       "    <tr>\n",
       "      <th>7</th>\n",
       "      <td>2009-02-28</td>\n",
       "      <td>96.49385</td>\n",
       "      <td>2009-02</td>\n",
       "    </tr>\n",
       "    <tr>\n",
       "      <th>8</th>\n",
       "      <td>2009-03-31</td>\n",
       "      <td>96.97369</td>\n",
       "      <td>2009-03</td>\n",
       "    </tr>\n",
       "    <tr>\n",
       "      <th>9</th>\n",
       "      <td>2009-04-30</td>\n",
       "      <td>97.20951</td>\n",
       "      <td>2009-04</td>\n",
       "    </tr>\n",
       "  </tbody>\n",
       "</table>\n",
       "</div>"
      ],
      "text/plain": [
       "        date        CPI YearMonth\n",
       "0 2008-07-31  100.00000   2008-07\n",
       "1 2008-08-31  100.52510   2008-08\n",
       "2 2008-09-30  100.12380   2008-09\n",
       "3 2008-10-31   99.98538   2008-10\n",
       "4 2008-11-30   98.97539   2008-11\n",
       "5 2008-12-31   97.07973   2008-12\n",
       "6 2009-01-31   96.07569   2009-01\n",
       "7 2009-02-28   96.49385   2009-02\n",
       "8 2009-03-31   96.97369   2009-03\n",
       "9 2009-04-30   97.20951   2009-04"
      ]
     },
     "execution_count": 81,
     "metadata": {},
     "output_type": "execute_result"
    }
   ],
   "source": [
    "# cpi_monthly = pd.DataFrame(columns =['Month','CPI'])\n",
    "ps_cpi['YearMonth'] = ps_cpi['date'].dt.strftime('%Y-%m')\n",
    "cpi = ps_cpi.drop_duplicates('YearMonth', keep='last').copy(\n",
    ").reset_index().drop(['index', 'PriceStats'], axis=1)\n",
    "cpi_train = (cpi[cpi.YearMonth < '2013-09'].copy())\n",
    "cpi_test = (cpi[cpi.YearMonth >= '2013-09'].copy())\n",
    "# cpi_train.CPI = np.log(cpi_train.CPI)\n",
    "# cpi_test.CPI = np.log(cpi_test.CPI)\n",
    "cpi.head(10)\n"
   ]
  },
  {
   "attachments": {},
   "cell_type": "markdown",
   "metadata": {},
   "source": [
    "Visualize the time series\n"
   ]
  },
  {
   "cell_type": "code",
   "execution_count": 31,
   "metadata": {},
   "outputs": [
    {
     "data": {
      "text/html": [
       "\n",
       "\n",
       "\n",
       "\n",
       "\n",
       "\n",
       "  <div class=\"bk-root\" id=\"d336ce4d-1bea-4005-9505-d4891b248d2b\" data-root-id=\"3458\"></div>\n"
      ]
     },
     "metadata": {},
     "output_type": "display_data"
    },
    {
     "data": {
      "application/javascript": "(function(root) {\n  function embed_document(root) {\n    \n  var docs_json = {\"9e17a707-2467-4f4f-becc-1a99b7372c63\":{\"defs\":[],\"roots\":{\"references\":[{\"attributes\":{\"below\":[{\"id\":\"3469\"}],\"center\":[{\"id\":\"3472\"},{\"id\":\"3476\"}],\"height\":400,\"left\":[{\"id\":\"3473\"}],\"renderers\":[{\"id\":\"3494\"}],\"title\":{\"id\":\"3459\"},\"toolbar\":{\"id\":\"3484\"},\"width\":400,\"x_range\":{\"id\":\"3461\"},\"x_scale\":{\"id\":\"3465\"},\"y_range\":{\"id\":\"3463\"},\"y_scale\":{\"id\":\"3467\"}},\"id\":\"3458\",\"subtype\":\"Figure\",\"type\":\"Plot\"},{\"attributes\":{\"bottom_units\":\"screen\",\"fill_alpha\":0.5,\"fill_color\":\"lightgrey\",\"left_units\":\"screen\",\"level\":\"overlay\",\"line_alpha\":1.0,\"line_color\":\"black\",\"line_dash\":[4,4],\"line_width\":2,\"right_units\":\"screen\",\"syncable\":false,\"top_units\":\"screen\"},\"id\":\"3483\",\"type\":\"BoxAnnotation\"},{\"attributes\":{\"active_multi\":null,\"tools\":[{\"id\":\"3477\"},{\"id\":\"3478\"},{\"id\":\"3479\"},{\"id\":\"3480\"},{\"id\":\"3481\"},{\"id\":\"3482\"}]},\"id\":\"3484\",\"type\":\"Toolbar\"},{\"attributes\":{\"axis_label\":\"t\",\"formatter\":{\"id\":\"3641\"},\"major_label_policy\":{\"id\":\"3642\"},\"ticker\":{\"id\":\"3470\"}},\"id\":\"3469\",\"type\":\"LinearAxis\"},{\"attributes\":{},\"id\":\"3467\",\"type\":\"LinearScale\"},{\"attributes\":{},\"id\":\"3482\",\"type\":\"HelpTool\"},{\"attributes\":{},\"id\":\"3465\",\"type\":\"LinearScale\"},{\"attributes\":{},\"id\":\"3481\",\"type\":\"ResetTool\"},{\"attributes\":{},\"id\":\"3463\",\"type\":\"DataRange1d\"},{\"attributes\":{},\"id\":\"3480\",\"type\":\"SaveTool\"},{\"attributes\":{},\"id\":\"3461\",\"type\":\"DataRange1d\"},{\"attributes\":{\"overlay\":{\"id\":\"3483\"}},\"id\":\"3479\",\"type\":\"BoxZoomTool\"},{\"attributes\":{\"text\":\"Monthly CPI\"},\"id\":\"3459\",\"type\":\"Title\"},{\"attributes\":{},\"id\":\"3478\",\"type\":\"WheelZoomTool\"},{\"attributes\":{},\"id\":\"3477\",\"type\":\"PanTool\"},{\"attributes\":{\"data\":{\"x\":[0,1,2,3,4,5,6,7,8,9,10,11,12,13,14,15,16,17,18,19,20,21,22,23,24,25,26,27,28,29,30,31,32,33,34,35,36,37,38,39,40,41,42,43,44,45,46,47,48,49,50,51,52,53,54,55,56,57,58,59,60,61],\"y\":{\"__ndarray__\":\"AAAAAAAAWUBLyAc9myFZQKvP1VbsB1lAe4hGdxD/WEActi3KbL5YQKWg20saRVhAl6jeGtgEWEBLyAc9mx9YQE6c3O9QPlhA1ouhnGhNWEDw+WGE8FxYQNBE2PD0blhAcVrwoq+kWEAYQznRrppYQOl942vPqFhAWwhyUMKsWEB00vvG17JYQOi8xi5Rt1hA48KBkCysWEDkvWplwsFYQEX11sBWw1hArHMMyF7dWEA/jBAebehYQHYyOEpe7VhAd6G5TiPnWECRm+EGfOhYQMjqVs9J8VhA0GG+vAD1WEAFhqxu9fxYQPLNNjem/1hAe4MvTKYKWUB3vp8aLylZQMX+snvySFlA8tJNYhCIWUBSSZ2AJrJZQHBfB84Z0VlAbqMBvAXKWUAdWmQ7389ZQBKlvcEX4llAqmBUUifsWUBYObTIdt5ZQCL99nXg2FlAat5xio7IWUCamZmZmeVZQMKGp1fKAlpA6Nms+lw1WkASg8DKoUlaQC9uowG8QVpAzojS3uA3WkAU0ETY8CxaQFioNc07UlpAo5I6AU1wWkCLbOf7qW1aQEvIBz2bTVpADwu1pnk7WkDIBz2bVU9aQNEi2/l+hlpAFR3J5T+YWkATYcPTK5FaQOF6FK5HnVpAEoPAyqGtWkBqTfOOU7BaQA==\",\"dtype\":\"float64\",\"order\":\"little\",\"shape\":[62]}},\"selected\":{\"id\":\"3649\"},\"selection_policy\":{\"id\":\"3648\"}},\"id\":\"3491\",\"type\":\"ColumnDataSource\"},{\"attributes\":{\"source\":{\"id\":\"3491\"}},\"id\":\"3495\",\"type\":\"CDSView\"},{\"attributes\":{\"line_color\":\"navy\",\"line_width\":2.5,\"x\":{\"field\":\"x\"},\"y\":{\"field\":\"y\"}},\"id\":\"3492\",\"type\":\"Line\"},{\"attributes\":{\"line_alpha\":0.1,\"line_color\":\"navy\",\"line_width\":2.5,\"x\":{\"field\":\"x\"},\"y\":{\"field\":\"y\"}},\"id\":\"3493\",\"type\":\"Line\"},{\"attributes\":{},\"id\":\"3649\",\"type\":\"Selection\"},{\"attributes\":{\"axis\":{\"id\":\"3473\"},\"dimension\":1,\"ticker\":null},\"id\":\"3476\",\"type\":\"Grid\"},{\"attributes\":{},\"id\":\"3648\",\"type\":\"UnionRenderers\"},{\"attributes\":{},\"id\":\"3474\",\"type\":\"BasicTicker\"},{\"attributes\":{},\"id\":\"3645\",\"type\":\"AllLabels\"},{\"attributes\":{\"axis_label\":\"CPI\",\"formatter\":{\"id\":\"3644\"},\"major_label_policy\":{\"id\":\"3645\"},\"ticker\":{\"id\":\"3474\"}},\"id\":\"3473\",\"type\":\"LinearAxis\"},{\"attributes\":{},\"id\":\"3644\",\"type\":\"BasicTickFormatter\"},{\"attributes\":{\"axis\":{\"id\":\"3469\"},\"ticker\":null},\"id\":\"3472\",\"type\":\"Grid\"},{\"attributes\":{},\"id\":\"3642\",\"type\":\"AllLabels\"},{\"attributes\":{},\"id\":\"3470\",\"type\":\"BasicTicker\"},{\"attributes\":{\"data_source\":{\"id\":\"3491\"},\"glyph\":{\"id\":\"3492\"},\"hover_glyph\":null,\"muted_glyph\":null,\"nonselection_glyph\":{\"id\":\"3493\"},\"view\":{\"id\":\"3495\"}},\"id\":\"3494\",\"type\":\"GlyphRenderer\"},{\"attributes\":{},\"id\":\"3641\",\"type\":\"BasicTickFormatter\"}],\"root_ids\":[\"3458\"]},\"title\":\"Bokeh Application\",\"version\":\"2.3.1\"}};\n  var render_items = [{\"docid\":\"9e17a707-2467-4f4f-becc-1a99b7372c63\",\"root_ids\":[\"3458\"],\"roots\":{\"3458\":\"d336ce4d-1bea-4005-9505-d4891b248d2b\"}}];\n  root.Bokeh.embed.embed_items_notebook(docs_json, render_items);\n\n  }\n  if (root.Bokeh !== undefined) {\n    embed_document(root);\n  } else {\n    var attempts = 0;\n    var timer = setInterval(function(root) {\n      if (root.Bokeh !== undefined) {\n        clearInterval(timer);\n        embed_document(root);\n      } else {\n        attempts++;\n        if (attempts > 100) {\n          clearInterval(timer);\n          console.log(\"Bokeh: ERROR: Unable to run BokehJS code because BokehJS library is missing\");\n        }\n      }\n    }, 10, root)\n  }\n})(window);",
      "application/vnd.bokehjs_exec.v0+json": ""
     },
     "metadata": {
      "application/vnd.bokehjs_exec.v0+json": {
       "id": "3458"
      }
     },
     "output_type": "display_data"
    }
   ],
   "source": [
    "p = figure(plot_width=400, plot_height=400, title=\"Monthly CPI\")\n",
    "p.line(cpi_train.index, cpi_train.CPI, line_color=\"navy\", line_width=2.5)\n",
    "p.xaxis.axis_label = 't'\n",
    "p.yaxis.axis_label = 'CPI'\n",
    "show(p)\n"
   ]
  },
  {
   "cell_type": "markdown",
   "metadata": {},
   "source": [
    "From the visualization, it is clear that the timeseries has a deterministic trend. We try and fit a linear model to the data (as in the question above) and see if this is sufficient to represent the trend. We then subtract this trend from the data.\n"
   ]
  },
  {
   "cell_type": "code",
   "execution_count": 32,
   "metadata": {},
   "outputs": [
    {
     "name": "stdout",
     "output_type": "stream",
     "text": [
      "The linear trend is given by F(t) = 0.16104348366951224*t + (96.72932632872502)\n"
     ]
    },
    {
     "data": {
      "text/html": [
       "\n",
       "\n",
       "\n",
       "\n",
       "\n",
       "\n",
       "  <div class=\"bk-root\" id=\"9da34683-a4bb-45e2-bd99-b589dcf74164\" data-root-id=\"3700\"></div>\n"
      ]
     },
     "metadata": {},
     "output_type": "display_data"
    },
    {
     "data": {
      "application/javascript": "(function(root) {\n  function embed_document(root) {\n    \n  var docs_json = {\"f9269d0a-3e3a-4215-add3-273ade61963a\":{\"defs\":[],\"roots\":{\"references\":[{\"attributes\":{\"below\":[{\"id\":\"3711\"}],\"center\":[{\"id\":\"3714\"},{\"id\":\"3718\"},{\"id\":\"3748\"}],\"height\":400,\"left\":[{\"id\":\"3715\"}],\"renderers\":[{\"id\":\"3736\"},{\"id\":\"3753\"}],\"title\":{\"id\":\"3701\"},\"toolbar\":{\"id\":\"3726\"},\"width\":400,\"x_range\":{\"id\":\"3703\"},\"x_scale\":{\"id\":\"3707\"},\"y_range\":{\"id\":\"3705\"},\"y_scale\":{\"id\":\"3709\"}},\"id\":\"3700\",\"subtype\":\"Figure\",\"type\":\"Plot\"},{\"attributes\":{\"overlay\":{\"id\":\"3725\"}},\"id\":\"3721\",\"type\":\"BoxZoomTool\"},{\"attributes\":{},\"id\":\"3720\",\"type\":\"WheelZoomTool\"},{\"attributes\":{},\"id\":\"3705\",\"type\":\"DataRange1d\"},{\"attributes\":{},\"id\":\"3765\",\"type\":\"UnionRenderers\"},{\"attributes\":{},\"id\":\"3719\",\"type\":\"PanTool\"},{\"attributes\":{\"line_alpha\":0.1,\"line_color\":\"orange\",\"line_width\":2.5,\"x\":{\"field\":\"x\"},\"y\":{\"field\":\"y\"}},\"id\":\"3752\",\"type\":\"Line\"},{\"attributes\":{},\"id\":\"3740\",\"type\":\"AllLabels\"},{\"attributes\":{\"line_color\":\"orange\",\"line_width\":2.5,\"x\":{\"field\":\"x\"},\"y\":{\"field\":\"y\"}},\"id\":\"3751\",\"type\":\"Line\"},{\"attributes\":{\"data\":{\"x\":[0,1,2,3,4,5,6,7,8,9,10,11,12,13,14,15,16,17,18,19,20,21,22,23,24,25,26,27,28,29,30,31,32,33,34,35,36,37,38,39,40,41,42,43,44,45,46,47,48,49,50,51,52,53,54,55,56,57,58,59,60,61],\"y\":{\"__ndarray__\":\"AAAAAAAAWUBLyAc9myFZQKvP1VbsB1lAe4hGdxD/WEActi3KbL5YQKWg20saRVhAl6jeGtgEWEBLyAc9mx9YQE6c3O9QPlhA1ouhnGhNWEDw+WGE8FxYQNBE2PD0blhAcVrwoq+kWEAYQznRrppYQOl942vPqFhAWwhyUMKsWEB00vvG17JYQOi8xi5Rt1hA48KBkCysWEDkvWplwsFYQEX11sBWw1hArHMMyF7dWEA/jBAebehYQHYyOEpe7VhAd6G5TiPnWECRm+EGfOhYQMjqVs9J8VhA0GG+vAD1WEAFhqxu9fxYQPLNNjem/1hAe4MvTKYKWUB3vp8aLylZQMX+snvySFlA8tJNYhCIWUBSSZ2AJrJZQHBfB84Z0VlAbqMBvAXKWUAdWmQ7389ZQBKlvcEX4llAqmBUUifsWUBYObTIdt5ZQCL99nXg2FlAat5xio7IWUCamZmZmeVZQMKGp1fKAlpA6Nms+lw1WkASg8DKoUlaQC9uowG8QVpAzojS3uA3WkAU0ETY8CxaQFioNc07UlpAo5I6AU1wWkCLbOf7qW1aQEvIBz2bTVpADwu1pnk7WkDIBz2bVU9aQNEi2/l+hlpAFR3J5T+YWkATYcPTK5FaQOF6FK5HnVpAEoPAyqGtWkBqTfOOU7BaQA==\",\"dtype\":\"float64\",\"order\":\"little\",\"shape\":[62]}},\"selected\":{\"id\":\"3747\"},\"selection_policy\":{\"id\":\"3746\"}},\"id\":\"3733\",\"type\":\"ColumnDataSource\"},{\"attributes\":{\"line_alpha\":0.1,\"line_color\":\"navy\",\"line_width\":2,\"x\":{\"field\":\"x\"},\"y\":{\"field\":\"y\"}},\"id\":\"3735\",\"type\":\"Line\"},{\"attributes\":{\"source\":{\"id\":\"3750\"}},\"id\":\"3754\",\"type\":\"CDSView\"},{\"attributes\":{\"line_color\":\"navy\",\"line_width\":2,\"x\":{\"field\":\"x\"},\"y\":{\"field\":\"y\"}},\"id\":\"3734\",\"type\":\"Line\"},{\"attributes\":{\"data_source\":{\"id\":\"3750\"},\"glyph\":{\"id\":\"3751\"},\"hover_glyph\":null,\"muted_glyph\":null,\"nonselection_glyph\":{\"id\":\"3752\"},\"view\":{\"id\":\"3754\"}},\"id\":\"3753\",\"type\":\"GlyphRenderer\"},{\"attributes\":{\"data\":{\"x\":[0,1,2,3,4,5,6,7,8,9,10,11,12,13,14,15,16,17,18,19,20,21,22,23,24,25,26,27,28,29,30,31,32,33,34,35,36,37,38,39,40,41,42,43,44,45,46,47,48,49,50,51,52,53,54,55,56,57,58,59,60,61],\"y\":{\"__ndarray__\":\"Fn9WSK0uWEAiZarR+zhYQC1L/lpKQ1hAOTFS5JhNWEBFF6Zt51dYQFH9+fY1YlhAXONNgIRsWEBoyaEJ03ZYQHSv9ZIhgVhAf5VJHHCLWECLe52lvpVYQJdh8S4NoFhAo0dFuFuqWECuLZlBqrRYQLoT7cr4vlhAxvlAVEfJWEDR35TdldNYQN3F6Gbk3VhA6as88DLoWED1kZB5gfJYQAB45ALQ/FhADF44jB4HWUAYRIwVbRFZQCQq4J67G1lALxA0KAomWUA79oexWDBZQEfc2zqnOllAUsIvxPVEWUBeqINNRE9ZQGqO19aSWVlAdnQrYOFjWUCBWn/pL25ZQI1A03J+eFlAmSYn/MyCWUCkDHuFG41ZQLDyzg5ql1lAvNgimLihWUDIvnYhB6xZQNOkyqpVtllA34oeNKTAWUDrcHK98spZQPZWxkZB1VlAAj0a0I/fWUAOI25Z3ulZQBoJwuIs9FlAJe8VbHv+WUAx1Wn1yQhaQD27vX4YE1pASKERCGcdWkBUh2WRtSdaQGBtuRoEMlpAbFMNpFI8WkB3OWEtoUZaQIMftbbvUFpAjwUJQD5bWkCa61zJjGVaQKbRsFLbb1pAsrcE3Cl6WkC+nVhleIRaQMmDrO7GjlpA1WkAeBWZWkDhT1QBZKNaQA==\",\"dtype\":\"float64\",\"order\":\"little\",\"shape\":[62]}},\"selected\":{\"id\":\"3766\"},\"selection_policy\":{\"id\":\"3765\"}},\"id\":\"3750\",\"type\":\"ColumnDataSource\"},{\"attributes\":{\"label\":{\"value\":\"Original Data\"},\"renderers\":[{\"id\":\"3736\"}]},\"id\":\"3749\",\"type\":\"LegendItem\"},{\"attributes\":{\"axis\":{\"id\":\"3715\"},\"dimension\":1,\"ticker\":null},\"id\":\"3718\",\"type\":\"Grid\"},{\"attributes\":{},\"id\":\"3716\",\"type\":\"BasicTicker\"},{\"attributes\":{\"items\":[{\"id\":\"3749\"},{\"id\":\"3767\"}],\"location\":\"bottom_right\"},\"id\":\"3748\",\"type\":\"Legend\"},{\"attributes\":{\"axis_label\":\"CPI\",\"formatter\":{\"id\":\"3742\"},\"major_label_policy\":{\"id\":\"3743\"},\"ticker\":{\"id\":\"3716\"}},\"id\":\"3715\",\"type\":\"LinearAxis\"},{\"attributes\":{},\"id\":\"3747\",\"type\":\"Selection\"},{\"attributes\":{\"axis_label\":\"t\",\"formatter\":{\"id\":\"3739\"},\"major_label_policy\":{\"id\":\"3740\"},\"ticker\":{\"id\":\"3712\"}},\"id\":\"3711\",\"type\":\"LinearAxis\"},{\"attributes\":{},\"id\":\"3709\",\"type\":\"LinearScale\"},{\"attributes\":{\"bottom_units\":\"screen\",\"fill_alpha\":0.5,\"fill_color\":\"lightgrey\",\"left_units\":\"screen\",\"level\":\"overlay\",\"line_alpha\":1.0,\"line_color\":\"black\",\"line_dash\":[4,4],\"line_width\":2,\"right_units\":\"screen\",\"syncable\":false,\"top_units\":\"screen\"},\"id\":\"3725\",\"type\":\"BoxAnnotation\"},{\"attributes\":{\"axis\":{\"id\":\"3711\"},\"ticker\":null},\"id\":\"3714\",\"type\":\"Grid\"},{\"attributes\":{\"active_multi\":null,\"tools\":[{\"id\":\"3719\"},{\"id\":\"3720\"},{\"id\":\"3721\"},{\"id\":\"3722\"},{\"id\":\"3723\"},{\"id\":\"3724\"}]},\"id\":\"3726\",\"type\":\"Toolbar\"},{\"attributes\":{},\"id\":\"3707\",\"type\":\"LinearScale\"},{\"attributes\":{\"source\":{\"id\":\"3733\"}},\"id\":\"3737\",\"type\":\"CDSView\"},{\"attributes\":{},\"id\":\"3743\",\"type\":\"AllLabels\"},{\"attributes\":{},\"id\":\"3739\",\"type\":\"BasicTickFormatter\"},{\"attributes\":{},\"id\":\"3712\",\"type\":\"BasicTicker\"},{\"attributes\":{},\"id\":\"3703\",\"type\":\"DataRange1d\"},{\"attributes\":{},\"id\":\"3724\",\"type\":\"HelpTool\"},{\"attributes\":{\"data_source\":{\"id\":\"3733\"},\"glyph\":{\"id\":\"3734\"},\"hover_glyph\":null,\"muted_glyph\":null,\"nonselection_glyph\":{\"id\":\"3735\"},\"view\":{\"id\":\"3737\"}},\"id\":\"3736\",\"type\":\"GlyphRenderer\"},{\"attributes\":{\"label\":{\"value\":\"Linear Trend\"},\"renderers\":[{\"id\":\"3753\"}]},\"id\":\"3767\",\"type\":\"LegendItem\"},{\"attributes\":{},\"id\":\"3723\",\"type\":\"ResetTool\"},{\"attributes\":{},\"id\":\"3742\",\"type\":\"BasicTickFormatter\"},{\"attributes\":{\"text\":\"CPI Time Series\"},\"id\":\"3701\",\"type\":\"Title\"},{\"attributes\":{},\"id\":\"3766\",\"type\":\"Selection\"},{\"attributes\":{},\"id\":\"3722\",\"type\":\"SaveTool\"},{\"attributes\":{},\"id\":\"3746\",\"type\":\"UnionRenderers\"}],\"root_ids\":[\"3700\"]},\"title\":\"Bokeh Application\",\"version\":\"2.3.1\"}};\n  var render_items = [{\"docid\":\"f9269d0a-3e3a-4215-add3-273ade61963a\",\"root_ids\":[\"3700\"],\"roots\":{\"3700\":\"9da34683-a4bb-45e2-bd99-b589dcf74164\"}}];\n  root.Bokeh.embed.embed_items_notebook(docs_json, render_items);\n\n  }\n  if (root.Bokeh !== undefined) {\n    embed_document(root);\n  } else {\n    var attempts = 0;\n    var timer = setInterval(function(root) {\n      if (root.Bokeh !== undefined) {\n        clearInterval(timer);\n        embed_document(root);\n      } else {\n        attempts++;\n        if (attempts > 100) {\n          clearInterval(timer);\n          console.log(\"Bokeh: ERROR: Unable to run BokehJS code because BokehJS library is missing\");\n        }\n      }\n    }, 10, root)\n  }\n})(window);",
      "application/vnd.bokehjs_exec.v0+json": ""
     },
     "metadata": {
      "application/vnd.bokehjs_exec.v0+json": {
       "id": "3700"
      }
     },
     "output_type": "display_data"
    }
   ],
   "source": [
    "model = LinearRegression().fit(\n",
    "    np.array(cpi_train.index).reshape(-1, 1), cpi_train.CPI)\n",
    "coefficients = [model.coef_[0], model.intercept_]\n",
    "print(\"The linear trend is given by F(t) = \" +\n",
    "      str(coefficients[0])+\"*t + (\" + str(coefficients[1])+\")\")\n",
    "linear_cpi = model.predict(np.array(cpi_train.index).reshape(-1, 1))\n",
    "p = figure(plot_width=400, plot_height=400, title=\"CPI Time Series\")\n",
    "p.line(cpi_train.index, cpi_train.CPI, line_color=\"navy\",\n",
    "       line_width=2, legend_label=\"Original Data\")\n",
    "p.line(cpi_train.index, linear_cpi, line_color=\"orange\",\n",
    "       line_width=2.5, legend_label=\"Linear Trend\")\n",
    "\n",
    "p.xaxis.axis_label = 't'\n",
    "p.yaxis.axis_label = 'CPI'\n",
    "p.legend.location = 'bottom_right'\n",
    "show(p)\n"
   ]
  },
  {
   "attachments": {},
   "cell_type": "markdown",
   "metadata": {},
   "source": [
    "We now subtract this linear trend from the data. When prompted to 'Choose Method:' in the following part, please type 'linear'\n",
    "\n",
    "> $\\textit{Note :}$ An alternative to detrending the data in this manner would be to take first difference. Economists tend to log transform the CPI data and then take the first difference in order to detrend it. While the problem set only asks for the linear trend to be removed from the data, the code below allows you to visualize what the first difference of log transform looks like as well. In order to see this, please enter \"log\" when asked to choose method. Please remember to run the block again with the method as linear to proceed with the next part of the PSET.\n"
   ]
  },
  {
   "cell_type": "code",
   "execution_count": 33,
   "metadata": {},
   "outputs": [
    {
     "name": "stdout",
     "output_type": "stream",
     "text": [
      "Choose Method:linear\n"
     ]
    },
    {
     "data": {
      "text/html": [
       "\n",
       "\n",
       "\n",
       "\n",
       "\n",
       "\n",
       "  <div class=\"bk-root\" id=\"8b89c89e-f654-4436-9c58-5730f9f7e254\" data-root-id=\"3994\"></div>\n"
      ]
     },
     "metadata": {},
     "output_type": "display_data"
    },
    {
     "data": {
      "application/javascript": "(function(root) {\n  function embed_document(root) {\n    \n  var docs_json = {\"2604baa2-facb-4e7d-a758-50601b62cae8\":{\"defs\":[],\"roots\":{\"references\":[{\"attributes\":{\"below\":[{\"id\":\"4005\"}],\"center\":[{\"id\":\"4008\"},{\"id\":\"4012\"},{\"id\":\"4042\"}],\"height\":400,\"left\":[{\"id\":\"4009\"}],\"renderers\":[{\"id\":\"4030\"}],\"title\":{\"id\":\"3995\"},\"toolbar\":{\"id\":\"4020\"},\"width\":400,\"x_range\":{\"id\":\"3997\"},\"x_scale\":{\"id\":\"4001\"},\"y_range\":{\"id\":\"3999\"},\"y_scale\":{\"id\":\"4003\"}},\"id\":\"3994\",\"subtype\":\"Figure\",\"type\":\"Plot\"},{\"attributes\":{},\"id\":\"4017\",\"type\":\"ResetTool\"},{\"attributes\":{},\"id\":\"3999\",\"type\":\"DataRange1d\"},{\"attributes\":{\"line_color\":\"navy\",\"line_width\":2,\"x\":{\"field\":\"x\"},\"y\":{\"field\":\"y\"}},\"id\":\"4028\",\"type\":\"Line\"},{\"attributes\":{},\"id\":\"4040\",\"type\":\"UnionRenderers\"},{\"attributes\":{\"data\":{\"x\":[0,1,2,3,4,5,6,7,8,9,10,11,12,13,14,15,16,17,18,19,20,21,22,23,24,25,26,27,28,29,30,31,32,33,34,35,36,37,38,39,40,41,42,43,44,45,46,47,48,49,50,51,52,53,54,55,56,57,58,59,60,61],\"y\":{\"__ndarray__\":\"QB0w9VYqCkAgZaxr7RMNQMCP8Ho/lAhAQOiKXvIuBkDAtechV6H5PwCsXB6rG92/QLHOWxnr+b9AR4Am8831v4DJRMYotPC/gNQE1L8D77+AzcCdEGfsv4BjjgwfjOi/AMi0U1Wwtr8AlupfcPvZvwDRlQlfKda/AGvxzgOF3L+AroZMC1/gv4B6BBGcSeO/AIN03S8D7r+ACOoSil/ov4BdwQahvOy/ADD1FeLf5L+A7Nu9+3/kvwDX+1OqLue/AFw3vWxz77+AqpapKvfxv8BfPOFaV/K/gCBY3EH9879Alsi1t5P0vwAeMOgne/a/wD78/sRO9r+AAue3M0DxvwDkIJD7xee/AGSxmpgNtT8AVx6RfYXiPwBgNpzf1+w/AFll75Em5D+Aqs32DOzhP4AfgHkL4eU/gOXqGo/B5T8AbchBC4TTPwBgMYV5+aw/AJheqEUB178A0CVS/xKxvwBQ+8rpOs0/gGF1S8dw6z9AeKtV9TXwPwB52XLBUec/AIbnwNZ52j8AACN9G+20PwB8HT7ZG+A/gJufli796T8AihlDZ4TjPwDAuWrNo6q/AID6U5nE378A0uMfLjfWvwArUSqno9Y/AGNlxAkW3j8AqobV3GbJPwAw7s9+Ac0/AD0ZwFKM1D8AEvs9G9/JPw==\",\"dtype\":\"float64\",\"order\":\"little\",\"shape\":[62]}},\"selected\":{\"id\":\"4041\"},\"selection_policy\":{\"id\":\"4040\"}},\"id\":\"4027\",\"type\":\"ColumnDataSource\"},{\"attributes\":{\"label\":{\"value\":\"Detrended Data\"},\"renderers\":[{\"id\":\"4030\"}]},\"id\":\"4043\",\"type\":\"LegendItem\"},{\"attributes\":{},\"id\":\"3997\",\"type\":\"DataRange1d\"},{\"attributes\":{\"overlay\":{\"id\":\"4019\"}},\"id\":\"4015\",\"type\":\"BoxZoomTool\"},{\"attributes\":{},\"id\":\"4014\",\"type\":\"WheelZoomTool\"},{\"attributes\":{\"text\":\"CPI Time Series\"},\"id\":\"3995\",\"type\":\"Title\"},{\"attributes\":{},\"id\":\"4013\",\"type\":\"PanTool\"},{\"attributes\":{},\"id\":\"4018\",\"type\":\"HelpTool\"},{\"attributes\":{},\"id\":\"4034\",\"type\":\"AllLabels\"},{\"attributes\":{},\"id\":\"4016\",\"type\":\"SaveTool\"},{\"attributes\":{\"data_source\":{\"id\":\"4027\"},\"glyph\":{\"id\":\"4028\"},\"hover_glyph\":null,\"muted_glyph\":null,\"nonselection_glyph\":{\"id\":\"4029\"},\"view\":{\"id\":\"4031\"}},\"id\":\"4030\",\"type\":\"GlyphRenderer\"},{\"attributes\":{\"line_alpha\":0.1,\"line_color\":\"navy\",\"line_width\":2,\"x\":{\"field\":\"x\"},\"y\":{\"field\":\"y\"}},\"id\":\"4029\",\"type\":\"Line\"},{\"attributes\":{\"items\":[{\"id\":\"4043\"}]},\"id\":\"4042\",\"type\":\"Legend\"},{\"attributes\":{\"axis\":{\"id\":\"4009\"},\"dimension\":1,\"ticker\":null},\"id\":\"4012\",\"type\":\"Grid\"},{\"attributes\":{},\"id\":\"4036\",\"type\":\"BasicTickFormatter\"},{\"attributes\":{\"source\":{\"id\":\"4027\"}},\"id\":\"4031\",\"type\":\"CDSView\"},{\"attributes\":{\"formatter\":{\"id\":\"4036\"},\"major_label_policy\":{\"id\":\"4037\"},\"ticker\":{\"id\":\"4010\"}},\"id\":\"4009\",\"type\":\"LinearAxis\"},{\"attributes\":{},\"id\":\"4037\",\"type\":\"AllLabels\"},{\"attributes\":{},\"id\":\"4010\",\"type\":\"BasicTicker\"},{\"attributes\":{\"bottom_units\":\"screen\",\"fill_alpha\":0.5,\"fill_color\":\"lightgrey\",\"left_units\":\"screen\",\"level\":\"overlay\",\"line_alpha\":1.0,\"line_color\":\"black\",\"line_dash\":[4,4],\"line_width\":2,\"right_units\":\"screen\",\"syncable\":false,\"top_units\":\"screen\"},\"id\":\"4019\",\"type\":\"BoxAnnotation\"},{\"attributes\":{},\"id\":\"4041\",\"type\":\"Selection\"},{\"attributes\":{},\"id\":\"4033\",\"type\":\"BasicTickFormatter\"},{\"attributes\":{\"active_multi\":null,\"tools\":[{\"id\":\"4013\"},{\"id\":\"4014\"},{\"id\":\"4015\"},{\"id\":\"4016\"},{\"id\":\"4017\"},{\"id\":\"4018\"}]},\"id\":\"4020\",\"type\":\"Toolbar\"},{\"attributes\":{},\"id\":\"4003\",\"type\":\"LinearScale\"},{\"attributes\":{},\"id\":\"4001\",\"type\":\"LinearScale\"},{\"attributes\":{},\"id\":\"4006\",\"type\":\"BasicTicker\"},{\"attributes\":{\"axis\":{\"id\":\"4005\"},\"ticker\":null},\"id\":\"4008\",\"type\":\"Grid\"},{\"attributes\":{\"formatter\":{\"id\":\"4033\"},\"major_label_policy\":{\"id\":\"4034\"},\"ticker\":{\"id\":\"4006\"}},\"id\":\"4005\",\"type\":\"LinearAxis\"}],\"root_ids\":[\"3994\"]},\"title\":\"Bokeh Application\",\"version\":\"2.3.1\"}};\n  var render_items = [{\"docid\":\"2604baa2-facb-4e7d-a758-50601b62cae8\",\"root_ids\":[\"3994\"],\"roots\":{\"3994\":\"8b89c89e-f654-4436-9c58-5730f9f7e254\"}}];\n  root.Bokeh.embed.embed_items_notebook(docs_json, render_items);\n\n  }\n  if (root.Bokeh !== undefined) {\n    embed_document(root);\n  } else {\n    var attempts = 0;\n    var timer = setInterval(function(root) {\n      if (root.Bokeh !== undefined) {\n        clearInterval(timer);\n        embed_document(root);\n      } else {\n        attempts++;\n        if (attempts > 100) {\n          clearInterval(timer);\n          console.log(\"Bokeh: ERROR: Unable to run BokehJS code because BokehJS library is missing\");\n        }\n      }\n    }, 10, root)\n  }\n})(window);",
      "application/vnd.bokehjs_exec.v0+json": ""
     },
     "metadata": {
      "application/vnd.bokehjs_exec.v0+json": {
       "id": "3994"
      }
     },
     "output_type": "display_data"
    },
    {
     "name": "stdout",
     "output_type": "stream",
     "text": [
      "the maximum residual value is:3.634730187605456\n"
     ]
    }
   ],
   "source": [
    "x = input('Choose Method:')\n",
    "if x == 'linear':\n",
    "    remaining = cpi_train.CPI - linear_cpi\n",
    "    linear_cpi_test = model.predict(np.array(cpi_test.index).reshape(-1, 1))\n",
    "    remaining_test = cpi_test.CPI - linear_cpi_test\n",
    "    test = cpi_test.index\n",
    "    train = cpi_train.index\n",
    "else:\n",
    "    cpi_diff_log = np.log(cpi.CPI).diff()\n",
    "    remaining = cpi_diff_log[0:cpi_train.shape[0]]\n",
    "    remaining.iloc[0] = 0\n",
    "    # .reset_index()#.drop(['index'],axis =1)\n",
    "    remaining_test = cpi_diff_log[cpi_train.shape[0]:].dropna()\n",
    "    remaining_test.iloc[0] = 0\n",
    "    test = cpi_test.index\n",
    "    train = cpi_train.index\n",
    "\n",
    "\n",
    "p = figure(plot_width=400, plot_height=400, title=\"CPI Time Series\")\n",
    "p.line(train, remaining, line_color=\"navy\",\n",
    "       line_width=2, legend_label=\"Detrended Data\")\n",
    "\n",
    "\n",
    "# p.line(cpi_diff.index,cpi_diff,line_color=\"green\",line_width =2.5)\n",
    "show(p)\n",
    "print(\"the maximum residual value is:\"+str(np.max(remaining)))\n"
   ]
  },
  {
   "attachments": {},
   "cell_type": "markdown",
   "metadata": {},
   "source": [
    "Note that at some stage, we will be required to add back the trend to the data. The function $\\texttt{rebuild_diffed()}$ below has been designed for this purpose. We will be calling this function later.\n"
   ]
  },
  {
   "cell_type": "code",
   "execution_count": 34,
   "metadata": {},
   "outputs": [],
   "source": [
    "def rebuild_diffed(series, first_element_original, x, linear_trend):\n",
    "    if x == 'linear':\n",
    "        final = series + linear_trend\n",
    "    else:\n",
    "        cumsum = pd.Series(series).cumsum()\n",
    "        final = np.exp(cumsum.fillna(0) + first_element_original)\n",
    "        if first_element_original == 0:\n",
    "            final = np.exp(cumsum.fillna(0))\n",
    "    return final\n"
   ]
  },
  {
   "attachments": {},
   "cell_type": "markdown",
   "metadata": {},
   "source": [
    "As there seems to be no other trend present in this residual, we can take the linear trend to be sufficient and move to the next step, i.e. to deseasonalize the data. However, the above visualization seems to indicate no clear seasonality. Hence, we directly proceed to fitting an AR Model on the residual. To do so, we first plot the autocorrelation and partial autocorrelation plots.\n"
   ]
  },
  {
   "cell_type": "code",
   "execution_count": 35,
   "metadata": {},
   "outputs": [
    {
     "data": {
      "image/png": "[encoded data removed]",
      "text/plain": [
       "<Figure size 432x288 with 1 Axes>"
      ]
     },
     "metadata": {
      "needs_background": "light"
     },
     "output_type": "display_data"
    },
    {
     "data": {
      "image/png": "[encoded data removed]",
      "text/plain": [
       "<Figure size 432x288 with 1 Axes>"
      ]
     },
     "metadata": {
      "needs_background": "light"
     },
     "output_type": "display_data"
    }
   ],
   "source": [
    "# linear\n",
    "plot_acf(remaining)\n",
    "plt.show()\n",
    "plot_pacf(remaining)\n",
    "plt.show()\n"
   ]
  },
  {
   "attachments": {},
   "cell_type": "markdown",
   "metadata": {},
   "source": [
    "From the above PACF plot, we can see that the highest lag at which the plot extends beyond the statistically significant boundary is at lag 2. This indicates that an AR Model of lag 2 should be sufficient to fit the data. However, we can further verify this by calculating the rmse of the fit\n"
   ]
  },
  {
   "cell_type": "code",
   "execution_count": 36,
   "metadata": {},
   "outputs": [
    {
     "name": "stderr",
     "output_type": "stream",
     "text": [
      "/anaconda3/lib/python3.7/site-packages/statsmodels/tsa/ar_model.py:252: FutureWarning: The parameter names will change after 0.12 is released. Set old_names to False to use the new names now. Set old_names to True to use the old names. \n",
      "  FutureWarning,\n",
      "/anaconda3/lib/python3.7/site-packages/statsmodels/tsa/ar_model.py:252: FutureWarning: The parameter names will change after 0.12 is released. Set old_names to False to use the new names now. Set old_names to True to use the old names. \n",
      "  FutureWarning,\n",
      "/anaconda3/lib/python3.7/site-packages/statsmodels/tsa/ar_model.py:252: FutureWarning: The parameter names will change after 0.12 is released. Set old_names to False to use the new names now. Set old_names to True to use the old names. \n",
      "  FutureWarning,\n",
      "/anaconda3/lib/python3.7/site-packages/statsmodels/tsa/ar_model.py:252: FutureWarning: The parameter names will change after 0.12 is released. Set old_names to False to use the new names now. Set old_names to True to use the old names. \n",
      "  FutureWarning,\n",
      "/anaconda3/lib/python3.7/site-packages/statsmodels/tsa/ar_model.py:252: FutureWarning: The parameter names will change after 0.12 is released. Set old_names to False to use the new names now. Set old_names to True to use the old names. \n",
      "  FutureWarning,\n",
      "/anaconda3/lib/python3.7/site-packages/statsmodels/tsa/ar_model.py:252: FutureWarning: The parameter names will change after 0.12 is released. Set old_names to False to use the new names now. Set old_names to True to use the old names. \n",
      "  FutureWarning,\n",
      "/anaconda3/lib/python3.7/site-packages/statsmodels/tsa/ar_model.py:252: FutureWarning: The parameter names will change after 0.12 is released. Set old_names to False to use the new names now. Set old_names to True to use the old names. \n",
      "  FutureWarning,\n"
     ]
    },
    {
     "data": {
      "text/html": [
       "\n",
       "\n",
       "\n",
       "\n",
       "\n",
       "\n",
       "  <div class=\"bk-root\" id=\"52737eb0-ffb3-430d-9c68-14aad08b1039\" data-root-id=\"4270\"></div>\n"
      ]
     },
     "metadata": {},
     "output_type": "display_data"
    },
    {
     "data": {
      "application/javascript": "(function(root) {\n  function embed_document(root) {\n    \n  var docs_json = {\"953a5e86-6bdc-430e-91fb-a12b736b0fcd\":{\"defs\":[],\"roots\":{\"references\":[{\"attributes\":{\"below\":[{\"id\":\"4281\"}],\"center\":[{\"id\":\"4284\"},{\"id\":\"4288\"},{\"id\":\"4318\"}],\"height\":400,\"left\":[{\"id\":\"4285\"}],\"renderers\":[{\"id\":\"4306\"}],\"title\":{\"id\":\"4271\"},\"toolbar\":{\"id\":\"4296\"},\"width\":400,\"x_range\":{\"id\":\"4273\"},\"x_scale\":{\"id\":\"4277\"},\"y_range\":{\"id\":\"4275\"},\"y_scale\":{\"id\":\"4279\"}},\"id\":\"4270\",\"subtype\":\"Figure\",\"type\":\"Plot\"},{\"attributes\":{\"axis_label\":\"n\",\"formatter\":{\"id\":\"4309\"},\"major_label_policy\":{\"id\":\"4310\"},\"ticker\":{\"id\":\"4282\"}},\"id\":\"4281\",\"type\":\"LinearAxis\"},{\"attributes\":{},\"id\":\"4273\",\"type\":\"DataRange1d\"},{\"attributes\":{\"bottom_units\":\"screen\",\"fill_alpha\":0.5,\"fill_color\":\"lightgrey\",\"left_units\":\"screen\",\"level\":\"overlay\",\"line_alpha\":1.0,\"line_color\":\"black\",\"line_dash\":[4,4],\"line_width\":2,\"right_units\":\"screen\",\"syncable\":false,\"top_units\":\"screen\"},\"id\":\"4295\",\"type\":\"BoxAnnotation\"},{\"attributes\":{\"data_source\":{\"id\":\"4303\"},\"glyph\":{\"id\":\"4304\"},\"hover_glyph\":null,\"muted_glyph\":null,\"nonselection_glyph\":{\"id\":\"4305\"},\"view\":{\"id\":\"4307\"}},\"id\":\"4306\",\"type\":\"GlyphRenderer\"},{\"attributes\":{\"active_multi\":null,\"tools\":[{\"id\":\"4289\"},{\"id\":\"4290\"},{\"id\":\"4291\"},{\"id\":\"4292\"},{\"id\":\"4293\"},{\"id\":\"4294\"}]},\"id\":\"4296\",\"type\":\"Toolbar\"},{\"attributes\":{\"data\":{\"x\":[1,2,3,4,5,6,7],\"y\":[0.4245898727866745,0.32656877529273626,0.32770290052402523,0.31615457753801773,0.3068656056592596,0.260342993874571,0.2537636598936937]},\"selected\":{\"id\":\"4317\"},\"selection_policy\":{\"id\":\"4316\"}},\"id\":\"4303\",\"type\":\"ColumnDataSource\"},{\"attributes\":{},\"id\":\"4277\",\"type\":\"LinearScale\"},{\"attributes\":{},\"id\":\"4312\",\"type\":\"BasicTickFormatter\"},{\"attributes\":{},\"id\":\"4294\",\"type\":\"HelpTool\"},{\"attributes\":{},\"id\":\"4309\",\"type\":\"BasicTickFormatter\"},{\"attributes\":{\"axis\":{\"id\":\"4281\"},\"ticker\":null},\"id\":\"4284\",\"type\":\"Grid\"},{\"attributes\":{},\"id\":\"4293\",\"type\":\"ResetTool\"},{\"attributes\":{},\"id\":\"4292\",\"type\":\"SaveTool\"},{\"attributes\":{},\"id\":\"4282\",\"type\":\"BasicTicker\"},{\"attributes\":{\"overlay\":{\"id\":\"4295\"}},\"id\":\"4291\",\"type\":\"BoxZoomTool\"},{\"attributes\":{},\"id\":\"4290\",\"type\":\"WheelZoomTool\"},{\"attributes\":{},\"id\":\"4279\",\"type\":\"LinearScale\"},{\"attributes\":{},\"id\":\"4289\",\"type\":\"PanTool\"},{\"attributes\":{},\"id\":\"4310\",\"type\":\"AllLabels\"},{\"attributes\":{\"axis\":{\"id\":\"4285\"},\"dimension\":1,\"ticker\":null},\"id\":\"4288\",\"type\":\"Grid\"},{\"attributes\":{\"fill_alpha\":{\"value\":0.5},\"fill_color\":{\"value\":\"orange\"},\"line_color\":{\"value\":\"navy\"},\"marker\":{\"value\":\"square\"},\"size\":{\"value\":15},\"x\":{\"field\":\"x\"},\"y\":{\"field\":\"y\"}},\"id\":\"4304\",\"type\":\"Scatter\"},{\"attributes\":{},\"id\":\"4275\",\"type\":\"DataRange1d\"},{\"attributes\":{},\"id\":\"4313\",\"type\":\"AllLabels\"},{\"attributes\":{\"text\":\"RMSE of AR Models of order n\"},\"id\":\"4271\",\"type\":\"Title\"},{\"attributes\":{\"fill_alpha\":{\"value\":0.1},\"fill_color\":{\"value\":\"orange\"},\"line_alpha\":{\"value\":0.1},\"line_color\":{\"value\":\"navy\"},\"marker\":{\"value\":\"square\"},\"size\":{\"value\":15},\"x\":{\"field\":\"x\"},\"y\":{\"field\":\"y\"}},\"id\":\"4305\",\"type\":\"Scatter\"},{\"attributes\":{\"source\":{\"id\":\"4303\"}},\"id\":\"4307\",\"type\":\"CDSView\"},{\"attributes\":{\"label\":{\"value\":\"RMSE\"},\"renderers\":[{\"id\":\"4306\"}]},\"id\":\"4319\",\"type\":\"LegendItem\"},{\"attributes\":{},\"id\":\"4286\",\"type\":\"BasicTicker\"},{\"attributes\":{\"items\":[{\"id\":\"4319\"}]},\"id\":\"4318\",\"type\":\"Legend\"},{\"attributes\":{\"axis_label\":\"RMSE\",\"formatter\":{\"id\":\"4312\"},\"major_label_policy\":{\"id\":\"4313\"},\"ticker\":{\"id\":\"4286\"}},\"id\":\"4285\",\"type\":\"LinearAxis\"},{\"attributes\":{},\"id\":\"4317\",\"type\":\"Selection\"},{\"attributes\":{},\"id\":\"4316\",\"type\":\"UnionRenderers\"}],\"root_ids\":[\"4270\"]},\"title\":\"Bokeh Application\",\"version\":\"2.3.1\"}};\n  var render_items = [{\"docid\":\"953a5e86-6bdc-430e-91fb-a12b736b0fcd\",\"root_ids\":[\"4270\"],\"roots\":{\"4270\":\"52737eb0-ffb3-430d-9c68-14aad08b1039\"}}];\n  root.Bokeh.embed.embed_items_notebook(docs_json, render_items);\n\n  }\n  if (root.Bokeh !== undefined) {\n    embed_document(root);\n  } else {\n    var attempts = 0;\n    var timer = setInterval(function(root) {\n      if (root.Bokeh !== undefined) {\n        clearInterval(timer);\n        embed_document(root);\n      } else {\n        attempts++;\n        if (attempts > 100) {\n          clearInterval(timer);\n          console.log(\"Bokeh: ERROR: Unable to run BokehJS code because BokehJS library is missing\");\n        }\n      }\n    }, 10, root)\n  }\n})(window);",
      "application/vnd.bokehjs_exec.v0+json": ""
     },
     "metadata": {
      "application/vnd.bokehjs_exec.v0+json": {
       "id": "4270"
      }
     },
     "output_type": "display_data"
    }
   ],
   "source": [
    "rmse_train = []\n",
    "\n",
    "for n in range(1, 8):\n",
    "    model = AutoReg(remaining, lags=n, trend='n')\n",
    "    model_fit = model.fit()\n",
    "    predictions = model_fit.predict()\n",
    "    rmse = (mean_squared_error(remaining[n:], predictions[n:]))**0.5\n",
    "    rmse_train.append(rmse)\n",
    "\n",
    "\n",
    "p = figure(plot_width=400, plot_height=400,\n",
    "           title=\"RMSE of AR Models of order n\")\n",
    "p.scatter(np.arange(1, 8), rmse_train, size=15, marker=\"square\",\n",
    "          line_color=\"navy\", fill_color=\"orange\", fill_alpha=0.5, legend_label=\"RMSE\")\n",
    "p.xaxis.axis_label = 'n'\n",
    "p.yaxis.axis_label = 'RMSE'\n",
    "p.legend.location = 'top_right'\n",
    "show(p)\n"
   ]
  },
  {
   "cell_type": "code",
   "execution_count": 37,
   "metadata": {},
   "outputs": [
    {
     "name": "stdout",
     "output_type": "stream",
     "text": [
      "Test RMSE for AR(1):0.3718449350821093\n",
      "Test RMSE for AR(2):0.39328060138088866\n",
      "Test RMSE for AR(3):0.3784955272936298\n",
      "Test RMSE for AR(4):0.44251979719237056\n",
      "Test RMSE for AR(5):0.43456315263365036\n",
      "Test RMSE for AR(6):0.34020763928627823\n",
      "Test RMSE for AR(7):0.31251327073280627\n"
     ]
    },
    {
     "name": "stderr",
     "output_type": "stream",
     "text": [
      "/anaconda3/lib/python3.7/site-packages/statsmodels/tsa/ar_model.py:252: FutureWarning: The parameter names will change after 0.12 is released. Set old_names to False to use the new names now. Set old_names to True to use the old names. \n",
      "  FutureWarning,\n",
      "/anaconda3/lib/python3.7/site-packages/statsmodels/tsa/ar_model.py:252: FutureWarning: The parameter names will change after 0.12 is released. Set old_names to False to use the new names now. Set old_names to True to use the old names. \n",
      "  FutureWarning,\n",
      "/anaconda3/lib/python3.7/site-packages/statsmodels/tsa/ar_model.py:252: FutureWarning: The parameter names will change after 0.12 is released. Set old_names to False to use the new names now. Set old_names to True to use the old names. \n",
      "  FutureWarning,\n",
      "/anaconda3/lib/python3.7/site-packages/statsmodels/tsa/ar_model.py:252: FutureWarning: The parameter names will change after 0.12 is released. Set old_names to False to use the new names now. Set old_names to True to use the old names. \n",
      "  FutureWarning,\n",
      "/anaconda3/lib/python3.7/site-packages/statsmodels/tsa/ar_model.py:252: FutureWarning: The parameter names will change after 0.12 is released. Set old_names to False to use the new names now. Set old_names to True to use the old names. \n",
      "  FutureWarning,\n",
      "/anaconda3/lib/python3.7/site-packages/statsmodels/tsa/ar_model.py:252: FutureWarning: The parameter names will change after 0.12 is released. Set old_names to False to use the new names now. Set old_names to True to use the old names. \n",
      "  FutureWarning,\n",
      "/anaconda3/lib/python3.7/site-packages/statsmodels/tsa/ar_model.py:252: FutureWarning: The parameter names will change after 0.12 is released. Set old_names to False to use the new names now. Set old_names to True to use the old names. \n",
      "  FutureWarning,\n"
     ]
    },
    {
     "data": {
      "text/html": [
       "\n",
       "\n",
       "\n",
       "\n",
       "\n",
       "\n",
       "  <div class=\"bk-root\" id=\"4f558fb3-b5d2-4242-a603-8b5a7bc32cfe\" data-root-id=\"4556\"></div>\n"
      ]
     },
     "metadata": {},
     "output_type": "display_data"
    },
    {
     "data": {
      "application/javascript": "(function(root) {\n  function embed_document(root) {\n    \n  var docs_json = {\"e9cad4eb-75fe-429f-933a-80249e29b792\":{\"defs\":[],\"roots\":{\"references\":[{\"attributes\":{\"below\":[{\"id\":\"4567\"}],\"center\":[{\"id\":\"4570\"},{\"id\":\"4574\"},{\"id\":\"4604\"}],\"height\":400,\"left\":[{\"id\":\"4571\"}],\"renderers\":[{\"id\":\"4592\"}],\"title\":{\"id\":\"4557\"},\"toolbar\":{\"id\":\"4582\"},\"width\":400,\"x_range\":{\"id\":\"4559\"},\"x_scale\":{\"id\":\"4563\"},\"y_range\":{\"id\":\"4561\"},\"y_scale\":{\"id\":\"4565\"}},\"id\":\"4556\",\"subtype\":\"Figure\",\"type\":\"Plot\"},{\"attributes\":{},\"id\":\"4559\",\"type\":\"DataRange1d\"},{\"attributes\":{\"active_multi\":null,\"tools\":[{\"id\":\"4575\"},{\"id\":\"4576\"},{\"id\":\"4577\"},{\"id\":\"4578\"},{\"id\":\"4579\"},{\"id\":\"4580\"}]},\"id\":\"4582\",\"type\":\"Toolbar\"},{\"attributes\":{},\"id\":\"4580\",\"type\":\"HelpTool\"},{\"attributes\":{\"text\":\"RMSE of AR Models of order n\"},\"id\":\"4557\",\"type\":\"Title\"},{\"attributes\":{},\"id\":\"4595\",\"type\":\"BasicTickFormatter\"},{\"attributes\":{},\"id\":\"4579\",\"type\":\"ResetTool\"},{\"attributes\":{\"overlay\":{\"id\":\"4581\"}},\"id\":\"4577\",\"type\":\"BoxZoomTool\"},{\"attributes\":{},\"id\":\"4578\",\"type\":\"SaveTool\"},{\"attributes\":{\"data_source\":{\"id\":\"4589\"},\"glyph\":{\"id\":\"4590\"},\"hover_glyph\":null,\"muted_glyph\":null,\"nonselection_glyph\":{\"id\":\"4591\"},\"view\":{\"id\":\"4593\"}},\"id\":\"4592\",\"type\":\"GlyphRenderer\"},{\"attributes\":{\"data\":{\"x\":[1,2,3,4,5,6,7],\"y\":[0.3718449350821093,0.39328060138088866,0.3784955272936298,0.44251979719237056,0.43456315263365036,0.34020763928627823,0.31251327073280627]},\"selected\":{\"id\":\"4603\"},\"selection_policy\":{\"id\":\"4602\"}},\"id\":\"4589\",\"type\":\"ColumnDataSource\"},{\"attributes\":{\"label\":{\"value\":\"RMSE\"},\"renderers\":[{\"id\":\"4592\"}]},\"id\":\"4605\",\"type\":\"LegendItem\"},{\"attributes\":{\"fill_alpha\":{\"value\":0.5},\"fill_color\":{\"value\":\"orange\"},\"line_color\":{\"value\":\"navy\"},\"marker\":{\"value\":\"square\"},\"size\":{\"value\":15},\"x\":{\"field\":\"x\"},\"y\":{\"field\":\"y\"}},\"id\":\"4590\",\"type\":\"Scatter\"},{\"attributes\":{},\"id\":\"4572\",\"type\":\"BasicTicker\"},{\"attributes\":{},\"id\":\"4575\",\"type\":\"PanTool\"},{\"attributes\":{\"items\":[{\"id\":\"4605\"}],\"location\":\"bottom_right\"},\"id\":\"4604\",\"type\":\"Legend\"},{\"attributes\":{\"axis_label\":\"RMSE\",\"formatter\":{\"id\":\"4598\"},\"major_label_policy\":{\"id\":\"4599\"},\"ticker\":{\"id\":\"4572\"}},\"id\":\"4571\",\"type\":\"LinearAxis\"},{\"attributes\":{},\"id\":\"4603\",\"type\":\"Selection\"},{\"attributes\":{},\"id\":\"4563\",\"type\":\"LinearScale\"},{\"attributes\":{},\"id\":\"4561\",\"type\":\"DataRange1d\"},{\"attributes\":{},\"id\":\"4602\",\"type\":\"UnionRenderers\"},{\"attributes\":{},\"id\":\"4598\",\"type\":\"BasicTickFormatter\"},{\"attributes\":{\"axis_label\":\"n\",\"formatter\":{\"id\":\"4595\"},\"major_label_policy\":{\"id\":\"4596\"},\"ticker\":{\"id\":\"4568\"}},\"id\":\"4567\",\"type\":\"LinearAxis\"},{\"attributes\":{},\"id\":\"4596\",\"type\":\"AllLabels\"},{\"attributes\":{},\"id\":\"4576\",\"type\":\"WheelZoomTool\"},{\"attributes\":{\"fill_alpha\":{\"value\":0.1},\"fill_color\":{\"value\":\"orange\"},\"line_alpha\":{\"value\":0.1},\"line_color\":{\"value\":\"navy\"},\"marker\":{\"value\":\"square\"},\"size\":{\"value\":15},\"x\":{\"field\":\"x\"},\"y\":{\"field\":\"y\"}},\"id\":\"4591\",\"type\":\"Scatter\"},{\"attributes\":{\"source\":{\"id\":\"4589\"}},\"id\":\"4593\",\"type\":\"CDSView\"},{\"attributes\":{},\"id\":\"4568\",\"type\":\"BasicTicker\"},{\"attributes\":{},\"id\":\"4599\",\"type\":\"AllLabels\"},{\"attributes\":{\"axis\":{\"id\":\"4567\"},\"ticker\":null},\"id\":\"4570\",\"type\":\"Grid\"},{\"attributes\":{},\"id\":\"4565\",\"type\":\"LinearScale\"},{\"attributes\":{\"axis\":{\"id\":\"4571\"},\"dimension\":1,\"ticker\":null},\"id\":\"4574\",\"type\":\"Grid\"},{\"attributes\":{\"bottom_units\":\"screen\",\"fill_alpha\":0.5,\"fill_color\":\"lightgrey\",\"left_units\":\"screen\",\"level\":\"overlay\",\"line_alpha\":1.0,\"line_color\":\"black\",\"line_dash\":[4,4],\"line_width\":2,\"right_units\":\"screen\",\"syncable\":false,\"top_units\":\"screen\"},\"id\":\"4581\",\"type\":\"BoxAnnotation\"}],\"root_ids\":[\"4556\"]},\"title\":\"Bokeh Application\",\"version\":\"2.3.1\"}};\n  var render_items = [{\"docid\":\"e9cad4eb-75fe-429f-933a-80249e29b792\",\"root_ids\":[\"4556\"],\"roots\":{\"4556\":\"4f558fb3-b5d2-4242-a603-8b5a7bc32cfe\"}}];\n  root.Bokeh.embed.embed_items_notebook(docs_json, render_items);\n\n  }\n  if (root.Bokeh !== undefined) {\n    embed_document(root);\n  } else {\n    var attempts = 0;\n    var timer = setInterval(function(root) {\n      if (root.Bokeh !== undefined) {\n        clearInterval(timer);\n        embed_document(root);\n      } else {\n        attempts++;\n        if (attempts > 100) {\n          clearInterval(timer);\n          console.log(\"Bokeh: ERROR: Unable to run BokehJS code because BokehJS library is missing\");\n        }\n      }\n    }, 10, root)\n  }\n})(window);",
      "application/vnd.bokehjs_exec.v0+json": ""
     },
     "metadata": {
      "application/vnd.bokehjs_exec.v0+json": {
       "id": "4556"
      }
     },
     "output_type": "display_data"
    }
   ],
   "source": [
    "# plot RMSE for a range of lags p\n",
    "n = 2\n",
    "rmse_ar = []\n",
    "for n in range(1, 8):\n",
    "    model = AutoReg(remaining, lags=n)\n",
    "    model_fit = model.fit()\n",
    "    coef = model_fit.params\n",
    "    past = remaining[len(remaining)-n:].values\n",
    "    past = [past[i] for i in range(len(past))]\n",
    "    test_predictions = list()\n",
    "    for t in range(len(remaining_test.dropna())):\n",
    "        length = len(past)\n",
    "        lag = [past[i] for i in range(length-n, length)]\n",
    "        pred = coef[0]\n",
    "        for d in range(n):\n",
    "            pred += coef[d+1] * lag[n-d-1]\n",
    "        obs = remaining_test.values[t]\n",
    "        test_predictions.append(pred)\n",
    "        past.append(obs)\n",
    "    rmse = (mean_squared_error(remaining_test.dropna(), test_predictions))**0.5\n",
    "    rmse_ar.append(rmse)\n",
    "    print('Test RMSE for AR(' + str(n) + '):' + str(rmse))\n",
    "\n",
    "p = figure(plot_width=400, plot_height=400,\n",
    "           title=\"RMSE of AR Models of order n\")\n",
    "p.scatter(np.arange(1, 8), rmse_ar, size=15, marker=\"square\",\n",
    "          line_color=\"navy\", fill_color=\"orange\", fill_alpha=0.5, legend_label=\"RMSE\")\n",
    "p.xaxis.axis_label = 'n'\n",
    "p.yaxis.axis_label = 'RMSE'\n",
    "p.legend.location = 'bottom_right'\n",
    "show(p)\n"
   ]
  },
  {
   "attachments": {},
   "cell_type": "markdown",
   "metadata": {},
   "source": [
    "The plot above seems to indicate the AR(1) model predictions have the least rmse. While it would have been ideal to have our previous conclusion of model order 2 validated by the RMSE, we should note this kind of discrepancy between the two diagnostic methods (rmse and PACF) can occur when working with finite data sets. In order to proceed, we choose to work with model order of 2 so we do not miss out on possible lag terms.\n"
   ]
  },
  {
   "cell_type": "code",
   "execution_count": 59,
   "metadata": {},
   "outputs": [
    {
     "name": "stderr",
     "output_type": "stream",
     "text": [
      "/anaconda3/lib/python3.7/site-packages/statsmodels/tsa/ar_model.py:252: FutureWarning: The parameter names will change after 0.12 is released. Set old_names to False to use the new names now. Set old_names to True to use the old names. \n",
      "  FutureWarning,\n"
     ]
    }
   ],
   "source": [
    "# Building AR (2) Model\n",
    "n = 2\n",
    "# Here we have used the default value for the trend parameter\n",
    "AR2_model = AutoReg(remaining, lags=n).fit()\n",
    "coef = AR2_model.params\n",
    "# walk forward over time steps in test\n",
    "past = remaining[len(remaining)-n:].values\n",
    "past = [past[i] for i in range(len(past))]\n",
    "test_predictions = list()\n",
    "training_predictions = AR2_model.predict(start=train[0], end=train[-1])\n",
    "for t in range(len(remaining_test)):\n",
    "    length = len(past)\n",
    "    lag = [past[i] for i in range(length-n, length)]\n",
    "    pred = coef[0]\n",
    "    for d in range(n):\n",
    "        pred += coef[d+1] * lag[n-d-1]\n",
    "    obs = remaining_test.values[t]\n",
    "    test_predictions.append(pred)\n",
    "    past.append(obs)\n",
    "final_training = (rebuild_diffed(training_predictions,\n",
    "                  np.log(cpi_train.CPI[0]), x, linear_cpi))\n",
    "final_test = (rebuild_diffed(test_predictions, np.log(\n",
    "    cpi_train.iloc[-1].CPI), x, linear_cpi_test))\n"
   ]
  },
  {
   "attachments": {},
   "cell_type": "markdown",
   "metadata": {},
   "source": [
    "We now plot the final model predictions and the actual observed data together to visualize the fit.\n"
   ]
  },
  {
   "cell_type": "code",
   "execution_count": null,
   "metadata": {},
   "outputs": [],
   "source": [
    "p = figure(plot_width=800, plot_height=400, title=\"CPI predictions\")\n",
    "p.line(cpi_train.index, cpi_train.CPI, line_width=2.5,\n",
    "       line_color=\"black\", line_dash=\"dashed\", legend_label=\"Training Data\")\n",
    "p.line(cpi_test.index, cpi_test.CPI, line_width=2.5,\n",
    "       line_color=\"green\", line_dash=\"dashed\", legend_label=\"Test Data\")\n",
    "p.line(cpi_train.index, final_training, line_color=\"red\", line_width=2.5,\n",
    "       legend_label=\"Final AR(2) Model (Training Data Fit)\")\n",
    "p.line(cpi_test.index, final_test, line_color=\"orange\",\n",
    "       line_width=2.5, legend_label=\"Final AR(2) Model Predictions\")\n",
    "\n",
    "\n",
    "p.legend.location = \"bottom_right\"\n",
    "p.xaxis.axis_label = 't'\n",
    "p.yaxis.axis_label = 'CPI'\n",
    "\n",
    "show(p)\n"
   ]
  },
  {
   "attachments": {},
   "cell_type": "markdown",
   "metadata": {},
   "source": [
    "We see that the AR(2) Model does predict pretty well and the mean squared prediction error is small. We can also reaffirm this conclusion by plotting the residuals after the AR(2) predictions are subtracted from the detrended data\n"
   ]
  },
  {
   "cell_type": "code",
   "execution_count": 41,
   "metadata": {},
   "outputs": [
    {
     "data": {
      "image/png": "[encoded data removed]",
      "text/plain": [
       "<Figure size 432x288 with 1 Axes>"
      ]
     },
     "metadata": {
      "needs_background": "light"
     },
     "output_type": "display_data"
    }
   ],
   "source": [
    "residuals = (remaining - training_predictions)[2:]\n",
    "plot_pacf(residuals)\n",
    "plt.show()"
   ]
  },
  {
   "cell_type": "code",
   "execution_count": 75,
   "metadata": {},
   "outputs": [
    {
     "name": "stdout",
     "output_type": "stream",
     "text": [
      "The rmse of the final fit is 0.39328060138088855\n"
     ]
    }
   ],
   "source": [
    "rmse = mean_squared_error(cpi_test.dropna().CPI, final_test[:-2])**0.5\n",
    "print(\"The rmse of the final fit is \" + str(rmse))\n"
   ]
  },
  {
   "attachments": {},
   "cell_type": "markdown",
   "metadata": {},
   "source": [
    "We see that the fit has a low rmse, considering that the order of the data is $10^2$.\n"
   ]
  },
  {
   "attachments": {},
   "cell_type": "markdown",
   "metadata": {},
   "source": [
    "**Inflation Rate**\n",
    "In the next part of the question, since we will be working with external regressors that have different units(such as BER), we must first convert all the data into an equivalent form, i.e monthly inflation rates. We will first do so for CPI from which inflation rates can be simply calculated as\n",
    "\n",
    "> $IR_t = \\frac{CPI_t -CPI_{t-1}}{CPI_{t-1}}$\n"
   ]
  },
  {
   "cell_type": "code",
   "execution_count": 73,
   "metadata": {},
   "outputs": [],
   "source": [
    "def calc_inflation_rate(data):\n",
    "    ir = []\n",
    "    for i in range(1, len(data)):\n",
    "        ir_temp = (data[i]-data[i-1])/data[i-1] * 100\n",
    "        ir.append(ir_temp)\n",
    "#         print(i)\n",
    "    return ir\n"
   ]
  },
  {
   "cell_type": "code",
   "execution_count": 91,
   "metadata": {},
   "outputs": [
    {
     "name": "stdout",
     "output_type": "stream",
     "text": [
      "The inflation rate from CPI for the month of February in 2013 was 0.295722930 %\n",
      "The inflation rate from CPI for the month of February in 2013 was 0.295286530 %\n"
     ]
    }
   ],
   "source": [
    "# calculate monthly inflation from CPI\n",
    "val = calc_inflation_rate(cpi.CPI.values)\n",
    "val2 = np.log(cpi.CPI).diff().values*100\n",
    "\n",
    "cpi.loc[1:, 'IR_cpi'] = val\n",
    "cpi['diff_log'] = val2\n",
    "\n",
    "cpi_ir_train = (cpi[cpi.YearMonth < '2013-09'].copy())\n",
    "cpi_ir_test = (cpi[cpi.YearMonth >= '2013-09'].copy())\n",
    "\n",
    "print(\"The inflation rate from CPI for the month of February in 2013 was %0.9f\" %\n",
    "      cpi[cpi.YearMonth == '2013-02']['IR_cpi'] + \" %\")\n",
    "print(\"The inflation rate from CPI for the month of February in 2013 was %0.9f\" %\n",
    "      cpi[cpi.YearMonth == '2013-02']['diff_log'] + \" %\")\n"
   ]
  },
  {
   "cell_type": "code",
   "execution_count": 79,
   "metadata": {},
   "outputs": [
    {
     "data": {
      "text/html": [
       "\n",
       "\n",
       "\n",
       "\n",
       "\n",
       "\n",
       "  <div class=\"bk-root\" id=\"7fa8a799-a023-4a8b-b736-48474546a5a9\" data-root-id=\"5254\"></div>\n"
      ]
     },
     "metadata": {},
     "output_type": "display_data"
    },
    {
     "data": {
      "application/javascript": "(function(root) {\n  function embed_document(root) {\n    \n  var docs_json = {\"d68e5cce-0622-47c3-9a85-827efaf04928\":{\"defs\":[],\"roots\":{\"references\":[{\"attributes\":{\"below\":[{\"id\":\"5265\"}],\"center\":[{\"id\":\"5268\"},{\"id\":\"5272\"}],\"height\":400,\"left\":[{\"id\":\"5269\"}],\"renderers\":[{\"id\":\"5290\"},{\"id\":\"5295\"}],\"title\":{\"id\":\"5255\"},\"toolbar\":{\"id\":\"5280\"},\"width\":400,\"x_range\":{\"id\":\"5257\"},\"x_scale\":{\"id\":\"5261\"},\"y_range\":{\"id\":\"5259\"},\"y_scale\":{\"id\":\"5263\"}},\"id\":\"5254\",\"subtype\":\"Figure\",\"type\":\"Plot\"},{\"attributes\":{\"active_multi\":null,\"tools\":[{\"id\":\"5273\"},{\"id\":\"5274\"},{\"id\":\"5275\"},{\"id\":\"5276\"},{\"id\":\"5277\"},{\"id\":\"5278\"}]},\"id\":\"5280\",\"type\":\"Toolbar\"},{\"attributes\":{},\"id\":\"5510\",\"type\":\"BasicTickFormatter\"},{\"attributes\":{\"data_source\":{\"id\":\"5292\"},\"glyph\":{\"id\":\"5293\"},\"hover_glyph\":null,\"muted_glyph\":null,\"nonselection_glyph\":{\"id\":\"5294\"},\"view\":{\"id\":\"5296\"}},\"id\":\"5295\",\"type\":\"GlyphRenderer\"},{\"attributes\":{\"axis\":{\"id\":\"5265\"},\"ticker\":null},\"id\":\"5268\",\"type\":\"Grid\"},{\"attributes\":{},\"id\":\"5277\",\"type\":\"ResetTool\"},{\"attributes\":{\"source\":{\"id\":\"5287\"}},\"id\":\"5291\",\"type\":\"CDSView\"},{\"attributes\":{},\"id\":\"5511\",\"type\":\"AllLabels\"},{\"attributes\":{},\"id\":\"5519\",\"type\":\"UnionRenderers\"},{\"attributes\":{\"axis\":{\"id\":\"5269\"},\"dimension\":1,\"ticker\":null},\"id\":\"5272\",\"type\":\"Grid\"},{\"attributes\":{\"bottom_units\":\"screen\",\"fill_alpha\":0.5,\"fill_color\":\"lightgrey\",\"left_units\":\"screen\",\"level\":\"overlay\",\"line_alpha\":1.0,\"line_color\":\"black\",\"line_dash\":[4,4],\"line_width\":2,\"right_units\":\"screen\",\"syncable\":false,\"top_units\":\"screen\"},\"id\":\"5279\",\"type\":\"BoxAnnotation\"},{\"attributes\":{\"line_alpha\":0.1,\"line_color\":\"navy\",\"line_width\":2.5,\"x\":{\"field\":\"x\"},\"y\":{\"field\":\"y\"}},\"id\":\"5289\",\"type\":\"Line\"},{\"attributes\":{},\"id\":\"5518\",\"type\":\"Selection\"},{\"attributes\":{\"line_alpha\":0.1,\"line_color\":\"orange\",\"line_width\":2.5,\"x\":{\"field\":\"x\"},\"y\":{\"field\":\"y\"}},\"id\":\"5294\",\"type\":\"Line\"},{\"attributes\":{},\"id\":\"5257\",\"type\":\"DataRange1d\"},{\"attributes\":{},\"id\":\"5261\",\"type\":\"LinearScale\"},{\"attributes\":{},\"id\":\"5263\",\"type\":\"LinearScale\"},{\"attributes\":{\"text\":\"Monthly IR from CPI (in %)\"},\"id\":\"5255\",\"type\":\"Title\"},{\"attributes\":{\"axis_label\":\"Diff Ratio CPI\",\"formatter\":{\"id\":\"5513\"},\"major_label_policy\":{\"id\":\"5514\"},\"ticker\":{\"id\":\"5270\"}},\"id\":\"5269\",\"type\":\"LinearAxis\"},{\"attributes\":{\"source\":{\"id\":\"5292\"}},\"id\":\"5296\",\"type\":\"CDSView\"},{\"attributes\":{\"data_source\":{\"id\":\"5287\"},\"glyph\":{\"id\":\"5288\"},\"hover_glyph\":null,\"muted_glyph\":null,\"nonselection_glyph\":{\"id\":\"5289\"},\"view\":{\"id\":\"5291\"}},\"id\":\"5290\",\"type\":\"GlyphRenderer\"},{\"attributes\":{\"axis_label\":\"t\",\"formatter\":{\"id\":\"5510\"},\"major_label_policy\":{\"id\":\"5511\"},\"ticker\":{\"id\":\"5266\"}},\"id\":\"5265\",\"type\":\"LinearAxis\"},{\"attributes\":{},\"id\":\"5259\",\"type\":\"DataRange1d\"},{\"attributes\":{\"line_color\":\"orange\",\"line_width\":2.5,\"x\":{\"field\":\"x\"},\"y\":{\"field\":\"y\"}},\"id\":\"5293\",\"type\":\"Line\"},{\"attributes\":{},\"id\":\"5274\",\"type\":\"WheelZoomTool\"},{\"attributes\":{\"line_color\":\"navy\",\"line_width\":2.5,\"x\":{\"field\":\"x\"},\"y\":{\"field\":\"y\"}},\"id\":\"5288\",\"type\":\"Line\"},{\"attributes\":{},\"id\":\"5266\",\"type\":\"BasicTicker\"},{\"attributes\":{},\"id\":\"5517\",\"type\":\"UnionRenderers\"},{\"attributes\":{},\"id\":\"5278\",\"type\":\"HelpTool\"},{\"attributes\":{\"data\":{\"x\":[0,1,2,3,4,5,6,7,8,9,10,11,12,13,14,15,16,17,18,19,20,21,22,23,24,25,26,27,28,29,30,31,32,33,34,35,36,37,38,39,40,41,42,43,44,45,46,47,48,49,50,51,52,53,54,55,56,57,58,59,60,61,62,63,64,65,66,67,68,69,70,71,72,73,74,75,76,77,78,79,80,81,82,83,84,85,86,87,88,89,90,91,92,93,94,95,96,97,98,99,100,101,102,103,104,105,106,107,108,109,110,111,112,113,114,115,116,117,118,119,120,121,122,123,124,125,126,127,128,129,130,131,132,133,134,135,136],\"y\":{\"__ndarray__\":\"AAAAAAAA+H8Az6lbXcLgP8CX3Qilmdm/gIckx0W1wb+A3d0mkD7wvwA+Ybga8f6/cC7sG1Gi8L9ASzpfgMvbP0ABmagqv98/gHFk/9MWzz+Ab5+o4enPP8BC5mcwdtI/YCbYysVe6z+AdR/t5E/EvwB1pOtTrcw/AKhaOyMCsD8A6pIE6aS4PwBCog7kG7I/gNnHYNyPxr+AreVrn9XVPwAgF7tvhJk/wDCNSwU62j+AEgPrhzbGPwBu35Zu1bM/AA7Cxa4Bub8A6NRKb6CVP4Aw26cRqcE/AIpwtrrGrT8ATGTbudu/PwA09kG6h6U/AGBWIaP7xT+AjiRoS2neP8AWz2OIe98/YNtBDDYN7z9gMLITAYrkP0DtM+qkCt4/AFlXNbhuu78Ak9YSIKy2P8B1p9qRn9E/gKnQbJdrwz8A+tfzoW7KvwBywFdvm7W/gLQYGPObz7+Airv/VBncP4CRY2cbHtw/QFfOfzo26D+AtTKGGU7TPwCSjXWID76/gCUaX0LIwr+AXfH2MODEv8COrfp1wuE/wMls+pF+3D8AwvDsTvOjvwDyy1SlZd6/wON6r5NB0b9ACM94+eXSP2BMu9vTGeo/ALlQZPi10D8A2yS+MKG6vwCE0C7TxMY/gLvLlPWuzj8ADmlq+zGkPwDEQuOfxb4/AHAVFhLBvT+A6zgEKoHQv4BD50SxK8q/APj/BG1/gb+AxAEtjsPXPwBOAKdOn9c/4MaK3c6K5D+AFQ9uYxDVP0BcwxZLUNY/gFkmtIXRxz8AFktWJfujv4BW2xraZsW/AEAOsutBsz+Ap0PScBnQvwCxq4lQU+G/ALWxnOox4r/AiSBecDDevwAg8ONIu9s/gMnBvKn94j8AHmjyqf/JP6AQj4qpROA/QGhk5kRh1j8AcGAVhWp7PwDOrtkXJcK/AOEWxajvw78AClFucgenvwB9Q6INC8u/AL6OjCzp1b8AXCH5uCTFPwB3m4znDrU/wKrc0r1/2z+A12bF/kXeP0CAdlGB19k/QJ3etZr81D8ALqiumrzEvwBkur5YgLc/AB0Zy7+7zj8AJ6naBui/P4Bh9PXe68O/AEQHsCPBoD+gu5QCJpjiP8BCDfG3GdQ/AK8bT1TNtD9AQNR6TfPSPwBnE5RD3rU/AHf57b84tz8ANWBrCKmxv8AR5rGEIdM/QKQn5BPm4D8Aq6aKDCqwvwBgWmv6nmM/AMhtPg0frr8Ayw2T92LhP4BDiIsv9dw/ADdSvQjpzD+AIFSCJWPZP8CQQMXRj9o/AGwl88tjxD8AII7J3GJ7PwBcdxG/caw/AHZBT9q6vT8ApM1IWJrGPwAEalD+eNW/QOENdH551L+AvcJLZ2HIPwAPsMc3/to/QG1Nf3gA4j+Aj13Ys+bgP4DwS1nEN8s/AECqj1pilD+A1mkszF7FPwDAiNTD9XS/AAAAAAAA+H8AAAAAAAD4fw==\",\"dtype\":\"float64\",\"order\":\"little\",\"shape\":[137]}},\"selected\":{\"id\":\"5518\"},\"selection_policy\":{\"id\":\"5517\"}},\"id\":\"5287\",\"type\":\"ColumnDataSource\"},{\"attributes\":{},\"id\":\"5270\",\"type\":\"BasicTicker\"},{\"attributes\":{},\"id\":\"5273\",\"type\":\"PanTool\"},{\"attributes\":{},\"id\":\"5276\",\"type\":\"SaveTool\"},{\"attributes\":{\"overlay\":{\"id\":\"5279\"}},\"id\":\"5275\",\"type\":\"BoxZoomTool\"},{\"attributes\":{},\"id\":\"5520\",\"type\":\"Selection\"},{\"attributes\":{},\"id\":\"5513\",\"type\":\"BasicTickFormatter\"},{\"attributes\":{},\"id\":\"5514\",\"type\":\"AllLabels\"},{\"attributes\":{\"data\":{\"x\":[0,1,2,3,4,5,6,7,8,9,10,11,12,13,14,15,16,17,18,19,20,21,22,23,24,25,26,27,28,29,30,31,32,33,34,35,36,37,38,39,40,41,42,43,44,45,46,47,48,49,50,51,52,53,54,55,56,57,58,59,60,61,62,63,64,65,66,67,68,69,70,71,72,73,74,75,76,77,78,79,80,81,82,83,84,85,86,87,88,89,90,91,92,93,94,95,96,97,98,99,100,101,102,103,104,105,106,107,108,109,110,111,112,113,114,115,116,117,118,119,120,121,122,123,124,125,126,127,128,129,130,131,132,133,134,135,136],\"y\":{\"__ndarray__\":\"AAAAAAAA+H+AJeSDns3gP2qi5gOOjNm/DchGZCOywb/LOlMhhinwv/Ff0QkBpf6/SWkQDUKM8L80TvGZ+drbPwFLVGxb098/Bqj8VYAgzz/jU1MhE/TPP2l3CCcDfdI/bpg+yNJ86z8SABdHxUvEv+vlS8WOtcw/ajGFUmsDsD/b6jCo8qe4P6ZJZemHHbI/9M0E/8WKxr/t8sQgK9/VP8bdbRxAhZk/oL/L1ctH2j91Nn3MdzvGP1wSvz1m17M/vubAnI7+uL8dbqr4BKGVPys+inYwrME/tWqcQ/LIrT8al7qIzeC/P40EdvjiiKU/6g269XgAxj+Rh7Ui0nvePwzq/Wljj98/yYMNfucz7z/LTM8d6prkP49Fau+4HN4/SNdyTPVqu78MH+07sq62PxRZzH3JpdE/UbcVaV1vwz8cZa6dpmfKv3Lm6+oZmbW/0jxIZveRz79vmXFsJSncP++8gjXxLdw/DBRUfLxN6D+D/7eYj1XTP9h9Rj8EC76/USSStrvEwr+ViVfu1dvEv4bkn7IZz+E/41CqPtWO3D/OKeo5UPKjv3AmpQcyU96/6+tQcqA70b/N+dvdH+3SPyGX8e0mNeo/zY6vZ4+70D93PUVcpZ26v9R+WyADysY/dY/2rWG4zj88+vt4ADOkP/5Fd2xcyr4/toVVuX/FvT9M4LOGuHvQv07X3RvZJMq/69qSCDx/gb9sn+oi3c7XP5glMDJ7qtc/q93nOrmb5D/Hc6ehRRnVP2z2wktDWtY/Dwyn8DLXxz/rYQLbJfqjv1zk5S9GYsW/TE0fgcZDsz9zXHrhQhTQv1+QPFNUR+G/4KTF/7Ik4r/+wNdiPR7ev4j9ShKwyts/IhCAJB4M4z8oRxeBbQbKP2V9NDRET+A/rZfHTkxr1j8UJVo3wWp7PyeRsmbNIcK/b4rj0q/rw7+fnZoQHwanvz1x9by+A8u/gHhhUZXf1b+krioKMinFPw32tlEfEbU/KScsF+OO2z9VejaOWljeP56z6A7h5Nk/zXP0PmwF1T+luP1xTrjEv8gXQuwbg7c/BdKYwTPFzj/L4Jh0Hu2/P4LL/oXn58O/mYDWXNfBoD+MmjZZAabiP6AuRrzOIdQ/CncvWX7PtD/OgYH6ffrSPwPFgN+n4LU/Uk2pX3I7tz+cPC5Meaexvyc99nHYKNM/tLySQYXx4D8EwmsrviiwvyDWnNEJn2M/yhfHsMgcrr9SQ4asFG/hP2gCjWn7Bd0/clUBA2bxzD94FY/KDXDZP8iiyRTzndo/Rrqm0vRnxD/jAfTJGGN7PzK+l/nEc6w/ptnNGEa/vT+QpdbvdJ/GPyrQ/EDIb9W/BE9ZZB5x1L+3YmLyWWfIP1r7+5XPDNs/YKekKnUN4j9c9pwOJvLgP+YJXisuP8s/s83xiN9ilD96KU7zXWPFP/BrXK+g9XS/AAAAAAAA+H8AAAAAAAD4fw==\",\"dtype\":\"float64\",\"order\":\"little\",\"shape\":[137]}},\"selected\":{\"id\":\"5520\"},\"selection_policy\":{\"id\":\"5519\"}},\"id\":\"5292\",\"type\":\"ColumnDataSource\"}],\"root_ids\":[\"5254\"]},\"title\":\"Bokeh Application\",\"version\":\"2.3.1\"}};\n  var render_items = [{\"docid\":\"d68e5cce-0622-47c3-9a85-827efaf04928\",\"root_ids\":[\"5254\"],\"roots\":{\"5254\":\"7fa8a799-a023-4a8b-b736-48474546a5a9\"}}];\n  root.Bokeh.embed.embed_items_notebook(docs_json, render_items);\n\n  }\n  if (root.Bokeh !== undefined) {\n    embed_document(root);\n  } else {\n    var attempts = 0;\n    var timer = setInterval(function(root) {\n      if (root.Bokeh !== undefined) {\n        clearInterval(timer);\n        embed_document(root);\n      } else {\n        attempts++;\n        if (attempts > 100) {\n          clearInterval(timer);\n          console.log(\"Bokeh: ERROR: Unable to run BokehJS code because BokehJS library is missing\");\n        }\n      }\n    }, 10, root)\n  }\n})(window);",
      "application/vnd.bokehjs_exec.v0+json": ""
     },
     "metadata": {
      "application/vnd.bokehjs_exec.v0+json": {
       "id": "5254"
      }
     },
     "output_type": "display_data"
    }
   ],
   "source": [
    "p = figure(plot_width=400, plot_height=400, title=\"Monthly IR from CPI (in %)\")\n",
    "p.line(cpi_diff_log.index, cpi['diff_log'], line_color=\"navy\", line_width=2.5)\n",
    "p.line(cpi['IR_cpi'].index, cpi['IR_cpi'], line_color=\"orange\", line_width=2.5)\n",
    "# p.line(cpi_diff.index,cpi_diff,line_color=\"green\",line_width =2.5)\n",
    "p.xaxis.axis_label = 't'\n",
    "p.yaxis.axis_label = 'Diff Ratio CPI'\n",
    "show(p)\n"
   ]
  },
  {
   "attachments": {},
   "cell_type": "markdown",
   "metadata": {},
   "source": [
    "As PriceStats varies daily, the \"monthly\" inflation rate can be calculated in different ways. First, we calculate the average PriceStat of the month to represent the monthly PriceStats value and then proceed to calculate monthly inflation rate using this monthly PriceStats value. To convert it to inflation rate, we use the same formula that we did for CPI\n",
    "\n",
    "> $PS_t = \\frac{PS_t -PS_{t-1}}{PS_{t-1}}$\n"
   ]
  },
  {
   "cell_type": "code",
   "execution_count": 82,
   "metadata": {},
   "outputs": [
    {
     "name": "stdout",
     "output_type": "stream",
     "text": [
      "The inflation rate from Avg PriceStats for the month of February in 2013 was 1.03587\n"
     ]
    }
   ],
   "source": [
    "ps_monthly = pd.DataFrame(columns=['YearMonth', 'PS'])\n",
    "ps_monthly['PS'] = ps_cpi.groupby('YearMonth').PriceStats.mean().values\n",
    "ps_monthly['YearMonth'] = cpi.YearMonth\n",
    "val = calc_inflation_rate(ps_monthly.PS.values)\n",
    "ps_monthly.loc[1:, 'IR_ps'] = val\n",
    "\n",
    "ps_ir_train = (ps_monthly[ps_monthly.YearMonth < '2013-09'].copy())\n",
    "ps_ir_test = (ps_monthly[ps_monthly.YearMonth >= '2013-09'].copy())\n",
    "\n",
    "print(\"The inflation rate from Avg PriceStats for the month of February in 2013 was %0.5f\" %\n",
    "      ps_monthly[ps_monthly.YearMonth == '2013-02'].IR_ps)\n"
   ]
  },
  {
   "cell_type": "code",
   "execution_count": 85,
   "metadata": {},
   "outputs": [
    {
     "data": {
      "text/html": [
       "\n",
       "\n",
       "\n",
       "\n",
       "\n",
       "\n",
       "  <div class=\"bk-root\" id=\"2eaa204b-5609-491e-8010-7759fa450d55\" data-root-id=\"6296\"></div>\n"
      ]
     },
     "metadata": {},
     "output_type": "display_data"
    },
    {
     "data": {
      "application/javascript": "(function(root) {\n  function embed_document(root) {\n    \n  var docs_json = {\"3c453d8b-a605-4e12-a35f-3d7bb27c815e\":{\"defs\":[],\"roots\":{\"references\":[{\"attributes\":{\"below\":[{\"id\":\"6307\"}],\"center\":[{\"id\":\"6310\"},{\"id\":\"6314\"},{\"id\":\"6344\"}],\"height\":400,\"left\":[{\"id\":\"6311\"}],\"renderers\":[{\"id\":\"6332\"},{\"id\":\"6349\"}],\"title\":{\"id\":\"6297\"},\"toolbar\":{\"id\":\"6322\"},\"width\":400,\"x_range\":{\"id\":\"6299\"},\"x_scale\":{\"id\":\"6303\"},\"y_range\":{\"id\":\"6301\"},\"y_scale\":{\"id\":\"6305\"}},\"id\":\"6296\",\"subtype\":\"Figure\",\"type\":\"Plot\"},{\"attributes\":{},\"id\":\"6308\",\"type\":\"BasicTicker\"},{\"attributes\":{\"data_source\":{\"id\":\"6346\"},\"glyph\":{\"id\":\"6347\"},\"hover_glyph\":null,\"muted_glyph\":null,\"nonselection_glyph\":{\"id\":\"6348\"},\"view\":{\"id\":\"6350\"}},\"id\":\"6349\",\"type\":\"GlyphRenderer\"},{\"attributes\":{\"axis\":{\"id\":\"6307\"},\"ticker\":null},\"id\":\"6310\",\"type\":\"Grid\"},{\"attributes\":{\"source\":{\"id\":\"6346\"}},\"id\":\"6350\",\"type\":\"CDSView\"},{\"attributes\":{\"axis\":{\"id\":\"6311\"},\"dimension\":1,\"ticker\":null},\"id\":\"6314\",\"type\":\"Grid\"},{\"attributes\":{},\"id\":\"6305\",\"type\":\"LinearScale\"},{\"attributes\":{},\"id\":\"6343\",\"type\":\"Selection\"},{\"attributes\":{\"axis_label\":\"CPI\",\"formatter\":{\"id\":\"6338\"},\"major_label_policy\":{\"id\":\"6339\"},\"ticker\":{\"id\":\"6312\"}},\"id\":\"6311\",\"type\":\"LinearAxis\"},{\"attributes\":{},\"id\":\"6342\",\"type\":\"UnionRenderers\"},{\"attributes\":{\"axis_label\":\"t\",\"formatter\":{\"id\":\"6335\"},\"major_label_policy\":{\"id\":\"6336\"},\"ticker\":{\"id\":\"6308\"}},\"id\":\"6307\",\"type\":\"LinearAxis\"},{\"attributes\":{\"line_color\":\"navy\",\"line_width\":2.5,\"x\":{\"field\":\"x\"},\"y\":{\"field\":\"y\"}},\"id\":\"6330\",\"type\":\"Line\"},{\"attributes\":{\"line_color\":\"green\",\"line_width\":2.5,\"x\":{\"field\":\"x\"},\"y\":{\"field\":\"y\"}},\"id\":\"6347\",\"type\":\"Line\"},{\"attributes\":{},\"id\":\"6301\",\"type\":\"DataRange1d\"},{\"attributes\":{},\"id\":\"6339\",\"type\":\"AllLabels\"},{\"attributes\":{},\"id\":\"6338\",\"type\":\"BasicTickFormatter\"},{\"attributes\":{},\"id\":\"6303\",\"type\":\"LinearScale\"},{\"attributes\":{\"items\":[{\"id\":\"6345\"},{\"id\":\"6363\"}],\"location\":\"bottom_right\"},\"id\":\"6344\",\"type\":\"Legend\"},{\"attributes\":{},\"id\":\"6336\",\"type\":\"AllLabels\"},{\"attributes\":{\"data_source\":{\"id\":\"6329\"},\"glyph\":{\"id\":\"6330\"},\"hover_glyph\":null,\"muted_glyph\":null,\"nonselection_glyph\":{\"id\":\"6331\"},\"view\":{\"id\":\"6333\"}},\"id\":\"6332\",\"type\":\"GlyphRenderer\"},{\"attributes\":{},\"id\":\"6312\",\"type\":\"BasicTicker\"},{\"attributes\":{},\"id\":\"6361\",\"type\":\"UnionRenderers\"},{\"attributes\":{\"line_alpha\":0.1,\"line_color\":\"navy\",\"line_width\":2.5,\"x\":{\"field\":\"x\"},\"y\":{\"field\":\"y\"}},\"id\":\"6331\",\"type\":\"Line\"},{\"attributes\":{\"text\":\"Monthly CPI/PS\"},\"id\":\"6297\",\"type\":\"Title\"},{\"attributes\":{},\"id\":\"6362\",\"type\":\"Selection\"},{\"attributes\":{},\"id\":\"6335\",\"type\":\"BasicTickFormatter\"},{\"attributes\":{},\"id\":\"6299\",\"type\":\"DataRange1d\"},{\"attributes\":{\"bottom_units\":\"screen\",\"fill_alpha\":0.5,\"fill_color\":\"lightgrey\",\"left_units\":\"screen\",\"level\":\"overlay\",\"line_alpha\":1.0,\"line_color\":\"black\",\"line_dash\":[4,4],\"line_width\":2,\"right_units\":\"screen\",\"syncable\":false,\"top_units\":\"screen\"},\"id\":\"6321\",\"type\":\"BoxAnnotation\"},{\"attributes\":{\"active_multi\":null,\"tools\":[{\"id\":\"6315\"},{\"id\":\"6316\"},{\"id\":\"6317\"},{\"id\":\"6318\"},{\"id\":\"6319\"},{\"id\":\"6320\"}]},\"id\":\"6322\",\"type\":\"Toolbar\"},{\"attributes\":{\"source\":{\"id\":\"6329\"}},\"id\":\"6333\",\"type\":\"CDSView\"},{\"attributes\":{\"label\":{\"value\":\"CPI\"},\"renderers\":[{\"id\":\"6332\"}]},\"id\":\"6345\",\"type\":\"LegendItem\"},{\"attributes\":{\"line_alpha\":0.1,\"line_color\":\"green\",\"line_width\":2.5,\"x\":{\"field\":\"x\"},\"y\":{\"field\":\"y\"}},\"id\":\"6348\",\"type\":\"Line\"},{\"attributes\":{},\"id\":\"6320\",\"type\":\"HelpTool\"},{\"attributes\":{},\"id\":\"6318\",\"type\":\"SaveTool\"},{\"attributes\":{},\"id\":\"6319\",\"type\":\"ResetTool\"},{\"attributes\":{\"overlay\":{\"id\":\"6321\"}},\"id\":\"6317\",\"type\":\"BoxZoomTool\"},{\"attributes\":{\"data\":{\"x\":[0,1,2,3,4,5,6,7,8,9,10,11,12,13,14,15,16,17,18,19,20,21,22,23,24,25,26,27,28,29,30,31,32,33,34,35,36,37,38,39,40,41,42,43,44,45,46,47,48,49,50,51,52,53,54,55,56,57,58,59,60,61,62,63,64,65,66,67,68,69,70,71,72,73,74,75,76,77,78,79,80,81,82,83,84,85,86,87,88,89,90,91,92,93,94,95,96,97,98,99,100,101,102,103,104,105,106,107,108,109,110,111,112,113,114,115,116,117,118,119,120,121,122,123,124,125,126,127,128,129,130,131,132,133,134,135,136],\"y\":{\"__ndarray__\":\"AAAAAAAAWUBLyAc9myFZQKvP1VbsB1lAe4hGdxD/WEActi3KbL5YQKWg20saRVhAl6jeGtgEWEBLyAc9mx9YQE6c3O9QPlhA1ouhnGhNWEDw+WGE8FxYQNBE2PD0blhAcVrwoq+kWEAYQznRrppYQOl942vPqFhAWwhyUMKsWEB00vvG17JYQOi8xi5Rt1hA48KBkCysWEDkvWplwsFYQEX11sBWw1hArHMMyF7dWEA/jBAebehYQHYyOEpe7VhAd6G5TiPnWECRm+EGfOhYQMjqVs9J8VhA0GG+vAD1WEAFhqxu9fxYQPLNNjem/1hAe4MvTKYKWUB3vp8aLylZQMX+snvySFlA8tJNYhCIWUBSSZ2AJrJZQHBfB84Z0VlAbqMBvAXKWUAdWmQ7389ZQBKlvcEX4llAqmBUUifsWUBYObTIdt5ZQCL99nXg2FlAat5xio7IWUCamZmZmeVZQMKGp1fKAlpA6Nms+lw1WkASg8DKoUlaQC9uowG8QVpAzojS3uA3WkAU0ETY8CxaQFioNc07UlpAo5I6AU1wWkCLbOf7qW1aQEvIBz2bTVpADwu1pnk7WkDIBz2bVU9aQNEi2/l+hlpAFR3J5T+YWkATYcPTK5FaQOF6FK5HnVpAEoPAyqGtWkBqTfOOU7BaQAaBlUOLuFpAKjqSy3/AWkBmiGNd3K5aQJvmHafooFpAak3zjlOgWkCh+DHmrrlaQJf/kH770lpA5WGh1jT/WkD1udqK/RVbQJHtfD81LltAukkMAis7W0CcxCCwcjhbQH/7OnDOLFtAgy9MpgoyW0C4rwPnjCBbQDsBTYQN+1pAMuauJeTTWkB6xyk6krNaQBrAWyBB0VpA2V92Tx76WkBcj8L1KAhbQDPEsS5uK1tAxyk6kstDW0B4eqUsQ0RbQJ+rrdhfOltAnYAmwoYvW0AOT6+UZSxbQBniWBe3HVtA9bnaiv0FW0DarPpcbRFbQJAxdy0hF1tAokW28/00W0C8dJMYBFZbQMNkqmBUcltAxSCwcmiJW0Cn6Egu/31bQP8h/fZ1hFtAYcPTK2WVW0Dgvg6cM55bQOVhodY0k1tAkzoBTYSVW0CRD3o2q75bQLfRAN4C1VtAJuSDns3aW0Byio7k8u9bQJm7lpAP9ltAat5xio78W0BWDi2ynfdbQOLplbIMDVxAUI2XbhIzXEDmriXkgy5cQKabxCCwLlxAQ61p3nEqXEB9PzVeulFcQJ88LNSaclxAUI2XbhKDXEAHX5hMFaBcQMP1KFyPvlxAmEwVjErKXEAQWDm0yMpcQHsUrkfhzlxASFD8GHPXXEAqOpLLf+RcQCQofoy5y1xAcRsN4C20XEB8YTJVMMJcQKg1zTtO4VxAEOm3rwMLXUADCYofYzJdQEp7gy9MQl1AFvvL7slDXUBVwaikTlBdQKvP1VbsT11AAAAAAAAA+H8AAAAAAAD4fw==\",\"dtype\":\"float64\",\"order\":\"little\",\"shape\":[137]}},\"selected\":{\"id\":\"6343\"},\"selection_policy\":{\"id\":\"6342\"}},\"id\":\"6329\",\"type\":\"ColumnDataSource\"},{\"attributes\":{\"label\":{\"value\":\"pricestats\"},\"renderers\":[{\"id\":\"6349\"}]},\"id\":\"6363\",\"type\":\"LegendItem\"},{\"attributes\":{\"data\":{\"x\":[0,1,2,3,4,5,6,7,8,9,10,11,12,13,14,15,16,17,18,19,20,21,22,23,24,25,26,27,28,29,30,31,32,33,34,35,36,37,38,39,40,41,42,43,44,45,46,47,48,49,50,51,52,53,54,55,56,57,58,59,60,61,62,63,64,65,66,67,68,69,70,71,72,73,74,75,76,77,78,79,80,81,82,83,84,85,86,87,88,89,90,91,92,93,94,95,96,97,98,99,100,101,102,103,104,105,106,107,108,109,110,111,112,113,114,115,116,117,118,119,120,121,122,123,124,125,126,127,128,129,130,131,132,133,134,135,136],\"y\":{\"__ndarray__\":\"8DhFR/L6WEDfn0dgiu5YQDI19hJQ8VhAwuCD7bjAWEAjb5NkME5YQDwQDEHLDVhAWNBb2AogWEBoUdwyYklYQJ5EbTHQVlhA9NVVgVpnWEB/g53+I39YQO8w7Zv7kFhAA+dJxqylWEBGomB47a1YQAtlziArsVhAhDDYyni0WEA0I5anhsZYQGr/k3FUvVhATi4qcjrbWECRsZnB29RYQLfoQ1o2/FhAFu5v4ykcWUAGvUJLQDZZQEvAwlxlHllAhtmfotQ1WUCfAH/M5TxZQNFcp5GWQFlAdvPaS11dWUAHbPRXtXNZQGsJ+aBnf1lA0oYcv4CQWUCivqp2DKFZQFuDRX05t1lAPCZ4ME/mWUA6c8HhXgVaQHub/uxH7FlAq1v6xHzzWUCj+kkvi/pZQCPzyB8MCFpAL8WMPh75WUDXf4rQ9fpZQGhHXMh86FlA6yJjn28AWkDtTtxaWyhaQAUEMJK4ZVpAHD1+b9N/WkAh5a2Zv21aQKbH7236U1pAXLJLEQ1NWkA7sYYy8INaQGAn4pooqVpAmqGXlI6rWkCuV2s7gI5aQIwhezc3e1pA9MuMoEeBWkB1JJf/kMdaQEh438EB3VpA1g/EjAPWWkBC0c0JBuFaQCxFBWGB5lpAu919VvLpWkD5qGWu3/FaQA4tsp3v91pAYaHWNO/sWkA0366E2+laQCLwnu1A7lpAjtylOZv8WkAzav+FIghbQP8UpW7WGVtA+/IC7KMtW0BXp6mozT1bQD6+l9VOR1tAp5jRxyNMW0C48ZagWk9bQPPVexfcVFtAVfR8oV5OW0BmuuoUvkFbQNmjIVLIIVtAvs5vrvLzWkAtRAVKyQRbQBKQGFNBKFtA8oj3CY0zW0D7tyRrnVZbQFK5Y8QYaVtAA6DuzLZvW0DHMYd4Am9bQAuVkvjvYFtAKbFgtntjW0ALou4DkFpbQMrfWfLGUVtArmd3PWxEW0A41IukdjBbQCj3cu1DTVtAndoG23VwW0CgheJ4rZFbQNE0TjCJqFtAhHhRNl+mW0BXOQO0uKdbQBBwCFVqtFtAraKYILPBW0DD8BExJcBbQImasFZRzFtAXVYIRwDpW0CH6mhZOO9bQE6kVCbF/VtA9t4FNz8NXEDKpcQz7hRcQFCqfToeGVxAA6F68SQcXEBAD+JF2TBcQDo2AvG6XlxAOYKAnhxqXEA0iyrWg3pcQBZqTfOOe1xAN+kDqOyPXEBtVn2utqBcQOK0WoHeqFxAgKSIDKvGXEDkQyNdueVcQKPC2EKQ9VxAGDUSwmD/XEApaedKlQddQC+BW3fzEl1AaFgzzhYmXUBR9wFIbR5dQGo0z6KCB11AVIdi0bcAXUC55ebalRNdQGODWLtzO11ARGZBO7piXUCtYAVn5XZdQG8qUmFsc11ApQm6AAd6XUCaZ6CsOXldQGT+5AKqgF1A/n2PrMSNXUCO5PIf0pNdQA==\",\"dtype\":\"float64\",\"order\":\"little\",\"shape\":[137]}},\"selected\":{\"id\":\"6362\"},\"selection_policy\":{\"id\":\"6361\"}},\"id\":\"6346\",\"type\":\"ColumnDataSource\"},{\"attributes\":{},\"id\":\"6316\",\"type\":\"WheelZoomTool\"},{\"attributes\":{},\"id\":\"6315\",\"type\":\"PanTool\"}],\"root_ids\":[\"6296\"]},\"title\":\"Bokeh Application\",\"version\":\"2.3.1\"}};\n  var render_items = [{\"docid\":\"3c453d8b-a605-4e12-a35f-3d7bb27c815e\",\"root_ids\":[\"6296\"],\"roots\":{\"6296\":\"2eaa204b-5609-491e-8010-7759fa450d55\"}}];\n  root.Bokeh.embed.embed_items_notebook(docs_json, render_items);\n\n  }\n  if (root.Bokeh !== undefined) {\n    embed_document(root);\n  } else {\n    var attempts = 0;\n    var timer = setInterval(function(root) {\n      if (root.Bokeh !== undefined) {\n        clearInterval(timer);\n        embed_document(root);\n      } else {\n        attempts++;\n        if (attempts > 100) {\n          clearInterval(timer);\n          console.log(\"Bokeh: ERROR: Unable to run BokehJS code because BokehJS library is missing\");\n        }\n      }\n    }, 10, root)\n  }\n})(window);",
      "application/vnd.bokehjs_exec.v0+json": ""
     },
     "metadata": {
      "application/vnd.bokehjs_exec.v0+json": {
       "id": "6296"
      }
     },
     "output_type": "display_data"
    }
   ],
   "source": [
    "#\n",
    "p = figure(plot_width=400, plot_height=400, title=\"Monthly CPI/PS\")\n",
    "p.line(cpi.index, cpi.CPI, line_color=\"navy\",\n",
    "       line_width=2.5, legend_label=\"CPI\")\n",
    "p.line(ps_monthly.index, ps_monthly.PS, line_color=\"green\",\n",
    "       line_width=2.5, legend_label=\"pricestats\")\n",
    "\n",
    "p.xaxis.axis_label = 't'\n",
    "p.yaxis.axis_label = 'CPI'\n",
    "p.legend.location = 'bottom_right'\n",
    "\n",
    "\n",
    "show(p)\n"
   ]
  },
  {
   "cell_type": "code",
   "execution_count": 221,
   "metadata": {},
   "outputs": [
    {
     "data": {
      "text/html": [
       "\n",
       "\n",
       "\n",
       "\n",
       "\n",
       "\n",
       "  <div class=\"bk-root\" id=\"2ebc4752-e952-4a19-b235-2a3e703b48f5\" data-root-id=\"40472\"></div>\n"
      ]
     },
     "metadata": {},
     "output_type": "display_data"
    },
    {
     "data": {
      "application/javascript": "(function(root) {\n  function embed_document(root) {\n    \n  var docs_json = {\"63cbce66-ba05-40c6-b94d-b36df0e8f6b0\":{\"defs\":[],\"roots\":{\"references\":[{\"attributes\":{\"below\":[{\"id\":\"40483\"}],\"center\":[{\"id\":\"40486\"},{\"id\":\"40490\"}],\"height\":400,\"left\":[{\"id\":\"40487\"}],\"renderers\":[{\"id\":\"40508\"},{\"id\":\"40513\"}],\"title\":{\"id\":\"40473\"},\"toolbar\":{\"id\":\"40498\"},\"width\":400,\"x_range\":{\"id\":\"40475\"},\"x_scale\":{\"id\":\"40479\"},\"y_range\":{\"id\":\"40477\"},\"y_scale\":{\"id\":\"40481\"}},\"id\":\"40472\",\"subtype\":\"Figure\",\"type\":\"Plot\"},{\"attributes\":{\"overlay\":{\"id\":\"40497\"}},\"id\":\"40493\",\"type\":\"BoxZoomTool\"},{\"attributes\":{\"line_color\":\"navy\",\"line_width\":2.5,\"x\":{\"field\":\"x\"},\"y\":{\"field\":\"y\"}},\"id\":\"40506\",\"type\":\"Line\"},{\"attributes\":{\"axis_label\":\"CPI\",\"formatter\":{\"id\":\"41389\"},\"major_label_policy\":{\"id\":\"41390\"},\"ticker\":{\"id\":\"40488\"}},\"id\":\"40487\",\"type\":\"LinearAxis\"},{\"attributes\":{\"data\":{\"x\":[0,1,2,3,4,5,6,7,8,9,10,11,12,13,14,15,16,17,18,19,20,21,22,23,24,25,26,27,28,29,30,31,32,33,34,35,36,37,38,39,40,41,42,43,44,45,46,47,48,49,50,51,52,53,54,55,56,57,58,59,60,61,62,63,64,65,66,67,68,69,70,71,72,73,74,75,76,77,78,79,80,81,82,83,84,85,86,87,88,89,90,91,92,93,94,95,96,97,98,99,100,101,102,103,104,105,106,107,108,109,110,111,112,113,114,115,116,117,118,119,120,121,122,123,124,125,126,127,128,129,130,131,132,133,134,135,136],\"y\":{\"__ndarray__\":\"AAAAAAAA+H+AJeSDns3gP2qi5gOOjNm/DchGZCOywb/LOlMhhinwv/Ff0QkBpf6/SWkQDUKM8L80TvGZ+drbPwFLVGxb098/Bqj8VYAgzz/jU1MhE/TPP2l3CCcDfdI/bpg+yNJ86z8SABdHxUvEv+vlS8WOtcw/ajGFUmsDsD/b6jCo8qe4P6ZJZemHHbI/9M0E/8WKxr/t8sQgK9/VP8bdbRxAhZk/oL/L1ctH2j91Nn3MdzvGP1wSvz1m17M/vubAnI7+uL8dbqr4BKGVPys+inYwrME/tWqcQ/LIrT8al7qIzeC/P40EdvjiiKU/6g269XgAxj+Rh7Ui0nvePwzq/Wljj98/yYMNfucz7z/LTM8d6prkP49Fau+4HN4/SNdyTPVqu78MH+07sq62PxRZzH3JpdE/UbcVaV1vwz8cZa6dpmfKv3Lm6+oZmbW/0jxIZveRz79vmXFsJSncP++8gjXxLdw/DBRUfLxN6D+D/7eYj1XTP9h9Rj8EC76/USSStrvEwr+ViVfu1dvEv4bkn7IZz+E/41CqPtWO3D/OKeo5UPKjv3AmpQcyU96/6+tQcqA70b/N+dvdH+3SPyGX8e0mNeo/zY6vZ4+70D93PUVcpZ26v9R+WyADysY/dY/2rWG4zj88+vt4ADOkP/5Fd2xcyr4/toVVuX/FvT9M4LOGuHvQv07X3RvZJMq/69qSCDx/gb9sn+oi3c7XP5glMDJ7qtc/q93nOrmb5D/Hc6ehRRnVP2z2wktDWtY/Dwyn8DLXxz/rYQLbJfqjv1zk5S9GYsW/TE0fgcZDsz9zXHrhQhTQv1+QPFNUR+G/4KTF/7Ik4r/+wNdiPR7ev4j9ShKwyts/IhCAJB4M4z8oRxeBbQbKP2V9NDRET+A/rZfHTkxr1j8UJVo3wWp7PyeRsmbNIcK/b4rj0q/rw7+fnZoQHwanvz1x9by+A8u/gHhhUZXf1b+krioKMinFPw32tlEfEbU/KScsF+OO2z9VejaOWljeP56z6A7h5Nk/zXP0PmwF1T+luP1xTrjEv8gXQuwbg7c/BdKYwTPFzj/L4Jh0Hu2/P4LL/oXn58O/mYDWXNfBoD+MmjZZAabiP6AuRrzOIdQ/CncvWX7PtD/OgYH6ffrSPwPFgN+n4LU/Uk2pX3I7tz+cPC5Meaexvyc99nHYKNM/tLySQYXx4D8EwmsrviiwvyDWnNEJn2M/yhfHsMgcrr9SQ4asFG/hP2gCjWn7Bd0/clUBA2bxzD94FY/KDXDZP8iiyRTzndo/Rrqm0vRnxD/jAfTJGGN7PzK+l/nEc6w/ptnNGEa/vT+QpdbvdJ/GPyrQ/EDIb9W/BE9ZZB5x1L+3YmLyWWfIP1r7+5XPDNs/YKekKnUN4j9c9pwOJvLgP+YJXisuP8s/s83xiN9ilD96KU7zXWPFP/BrXK+g9XS/AAAAAAAA+H8AAAAAAAD4fw==\",\"dtype\":\"float64\",\"order\":\"little\",\"shape\":[137]}},\"selected\":{\"id\":\"41396\"},\"selection_policy\":{\"id\":\"41395\"}},\"id\":\"40505\",\"type\":\"ColumnDataSource\"},{\"attributes\":{},\"id\":\"40479\",\"type\":\"LinearScale\"},{\"attributes\":{},\"id\":\"40484\",\"type\":\"BasicTicker\"},{\"attributes\":{},\"id\":\"41398\",\"type\":\"Selection\"},{\"attributes\":{},\"id\":\"40494\",\"type\":\"SaveTool\"},{\"attributes\":{\"active_multi\":null,\"tools\":[{\"id\":\"40491\"},{\"id\":\"40492\"},{\"id\":\"40493\"},{\"id\":\"40494\"},{\"id\":\"40495\"},{\"id\":\"40496\"}]},\"id\":\"40498\",\"type\":\"Toolbar\"},{\"attributes\":{\"line_color\":\"green\",\"line_width\":2.5,\"x\":{\"field\":\"x\"},\"y\":{\"field\":\"y\"}},\"id\":\"40511\",\"type\":\"Line\"},{\"attributes\":{\"data_source\":{\"id\":\"40510\"},\"glyph\":{\"id\":\"40511\"},\"hover_glyph\":null,\"muted_glyph\":null,\"nonselection_glyph\":{\"id\":\"40512\"},\"view\":{\"id\":\"40514\"}},\"id\":\"40513\",\"type\":\"GlyphRenderer\"},{\"attributes\":{\"source\":{\"id\":\"40510\"}},\"id\":\"40514\",\"type\":\"CDSView\"},{\"attributes\":{\"data_source\":{\"id\":\"40505\"},\"glyph\":{\"id\":\"40506\"},\"hover_glyph\":null,\"muted_glyph\":null,\"nonselection_glyph\":{\"id\":\"40507\"},\"view\":{\"id\":\"40509\"}},\"id\":\"40508\",\"type\":\"GlyphRenderer\"},{\"attributes\":{\"axis\":{\"id\":\"40483\"},\"ticker\":null},\"id\":\"40486\",\"type\":\"Grid\"},{\"attributes\":{},\"id\":\"41396\",\"type\":\"Selection\"},{\"attributes\":{},\"id\":\"41393\",\"type\":\"AllLabels\"},{\"attributes\":{},\"id\":\"40491\",\"type\":\"PanTool\"},{\"attributes\":{},\"id\":\"41392\",\"type\":\"BasicTickFormatter\"},{\"attributes\":{},\"id\":\"41395\",\"type\":\"UnionRenderers\"},{\"attributes\":{\"line_alpha\":0.1,\"line_color\":\"green\",\"line_width\":2.5,\"x\":{\"field\":\"x\"},\"y\":{\"field\":\"y\"}},\"id\":\"40512\",\"type\":\"Line\"},{\"attributes\":{},\"id\":\"41389\",\"type\":\"BasicTickFormatter\"},{\"attributes\":{},\"id\":\"41390\",\"type\":\"AllLabels\"},{\"attributes\":{\"source\":{\"id\":\"40505\"}},\"id\":\"40509\",\"type\":\"CDSView\"},{\"attributes\":{\"line_alpha\":0.1,\"line_color\":\"navy\",\"line_width\":2.5,\"x\":{\"field\":\"x\"},\"y\":{\"field\":\"y\"}},\"id\":\"40507\",\"type\":\"Line\"},{\"attributes\":{},\"id\":\"40475\",\"type\":\"DataRange1d\"},{\"attributes\":{\"data\":{\"x\":[0,1,2,3,4,5,6,7,8,9,10,11,12,13,14,15,16,17,18,19,20,21,22,23,24,25,26,27,28,29,30,31,32,33,34,35,36,37,38,39,40,41,42,43,44,45,46,47,48,49,50,51,52,53,54,55,56,57,58,59,60,61,62,63,64,65,66,67,68,69,70,71,72,73,74,75,76,77,78,79,80,81,82,83,84,85,86,87,88,89,90,91,92,93,94,95,96,97,98,99,100,101,102,103,104,105,106,107,108,109,110,111,112,113,114,115,116,117,118,119,120,121,122,123,124,125,126,127,128,129,130,131,132,133,134,135,136],\"y\":{\"__ndarray__\":\"AAAAAAAA+H9wbZ/50tTIvzCH9WcdPaY/WYAdDuFZ6L+lVB/YVOv8v5fekuwOj/C/D5pzBFf30j9UIhK0kGvlP3Cjlx/zpcs/I0ZzlEn90D8ZPLBTR17YP+o0Xkd4NdI/+Oeyp6wO1T9x8IAT4b3AP6Jzlex7Q6o/N6FNJq/Bqj9HqhK5DkXSP76UV5QWj8K/G7DzMZM23j8jTeHQc6C5v1uEgAF8z+M/eQGEKmH43z+r4udCJfnZP+707ZGZp9e/EJQFM+pS1z/WYuVQSwi8P48DFNPrPq0/Fv/kNyB93D/z94BKzQXWP0WMECM5+sY/0kun5a7D0D9TLJUzMS7QP/PVBS+todU/s0eTRxzj5j+x3Rjde/vdP+6BIqnwGti/abwk6KLMuz/Q0DE11jC7P1VqTCZq/ck/781/uuSszL/DjWCsb16cP4VCU3uXxtG/VTkoyu8b1z9A7ufQAjHjP1PwZrv9Uu0/2e8VJRu52D+6eeaK/g3Rv5lW8xiJYNi/EDd6uqNPur/AlOtsCxbqP9cxD5vsi+E/KBMqSdX9oT/endTQijzbv19EK5egJ9K/LKkXbknmtj/baI1R65LwP9xy6AgFBNQ/kd774CIIur9u9ndRUoPEP+FvEL/0ZLQ/9784pMeVqT8zf6bkJHS9P8hSFYCtf7Y/yMOJT6plxL/D3sWH3dqmvyWD+JuUVbA/ga41tMSlyj/2/dNDDVzFP3vSJG9HX9A/1lNCqH1E0j//mDRANrzNP9mnrM/yccE/htBSd4C2sT/6NXU9wIynP64qAsH8KLQ/29ECUO2+t7+LSuoXFx/Hv/kHxwJUUN2/9oDGx9Ed5b93KN/OjDzPP8fALazPaOA/2oR1CwXMxD9cTitw9xzgPy42pxqp5tA/i04zPTokuD9EoAdsHoqEv8jrS4DYpcm/9XGJwvGYoj+YzA1hEEnAv+tmr+YTD8C/vla8VOlwyL84kUfdu0zSv0PviZ6Ue9o/SCo9dyYd4D+udiGJqUPeP4H0xe5qutQ/cFpLkbVLn7+WeoLKFIaTP3okxz1E88Y/C18ZSZH5xz8LX30ko2aWv7rUvXqQ7sU/i9xKTc/L2T8dWx7sRUi2P+ZH0VwJC8o/m2Kob1Glyz+odJT3/mO7P5+BaUUJ060/rGEUj1qKpT8ZD1u17WnSP9vZWA4cWOQ/h+SAqCEPxD/fyGhLN93MP1tVM5qST40/+r6UTDbg0T+h42ol+WPNP1TB8Tz/fLw/GYXD+23+2T+4ZKE5D/vaP4wSKMQIaMs/lLRnVP3xwD+Q4G5R1Eu8P212zL5rlMM/FhdketB00D9GMGnyWUm6v3oYfUvPrNO/xxERaN1lt78V+RYnbEPQP9FI9JGCI+E/USGS8GfL4D/mTexJmCjRPy49X1GLkqe/3/ao83tstj/AsWZfo8SFvyUh+/4sPbk//qDGfl41xj/6f0Mq0Xq0Pw==\",\"dtype\":\"float64\",\"order\":\"little\",\"shape\":[137]}},\"selected\":{\"id\":\"41398\"},\"selection_policy\":{\"id\":\"41397\"}},\"id\":\"40510\",\"type\":\"ColumnDataSource\"},{\"attributes\":{},\"id\":\"40495\",\"type\":\"ResetTool\"},{\"attributes\":{\"bottom_units\":\"screen\",\"fill_alpha\":0.5,\"fill_color\":\"lightgrey\",\"left_units\":\"screen\",\"level\":\"overlay\",\"line_alpha\":1.0,\"line_color\":\"black\",\"line_dash\":[4,4],\"line_width\":2,\"right_units\":\"screen\",\"syncable\":false,\"top_units\":\"screen\"},\"id\":\"40497\",\"type\":\"BoxAnnotation\"},{\"attributes\":{},\"id\":\"40481\",\"type\":\"LinearScale\"},{\"attributes\":{},\"id\":\"40496\",\"type\":\"HelpTool\"},{\"attributes\":{},\"id\":\"41397\",\"type\":\"UnionRenderers\"},{\"attributes\":{\"axis\":{\"id\":\"40487\"},\"dimension\":1,\"ticker\":null},\"id\":\"40490\",\"type\":\"Grid\"},{\"attributes\":{\"axis_label\":\"t\",\"formatter\":{\"id\":\"41392\"},\"major_label_policy\":{\"id\":\"41393\"},\"ticker\":{\"id\":\"40484\"}},\"id\":\"40483\",\"type\":\"LinearAxis\"},{\"attributes\":{},\"id\":\"40488\",\"type\":\"BasicTicker\"},{\"attributes\":{\"text\":\"Monthly IR\"},\"id\":\"40473\",\"type\":\"Title\"},{\"attributes\":{},\"id\":\"40492\",\"type\":\"WheelZoomTool\"},{\"attributes\":{},\"id\":\"40477\",\"type\":\"DataRange1d\"}],\"root_ids\":[\"40472\"]},\"title\":\"Bokeh Application\",\"version\":\"2.3.1\"}};\n  var render_items = [{\"docid\":\"63cbce66-ba05-40c6-b94d-b36df0e8f6b0\",\"root_ids\":[\"40472\"],\"roots\":{\"40472\":\"2ebc4752-e952-4a19-b235-2a3e703b48f5\"}}];\n  root.Bokeh.embed.embed_items_notebook(docs_json, render_items);\n\n  }\n  if (root.Bokeh !== undefined) {\n    embed_document(root);\n  } else {\n    var attempts = 0;\n    var timer = setInterval(function(root) {\n      if (root.Bokeh !== undefined) {\n        clearInterval(timer);\n        embed_document(root);\n      } else {\n        attempts++;\n        if (attempts > 100) {\n          clearInterval(timer);\n          console.log(\"Bokeh: ERROR: Unable to run BokehJS code because BokehJS library is missing\");\n        }\n      }\n    }, 10, root)\n  }\n})(window);",
      "application/vnd.bokehjs_exec.v0+json": ""
     },
     "metadata": {
      "application/vnd.bokehjs_exec.v0+json": {
       "id": "40472"
      }
     },
     "output_type": "display_data"
    }
   ],
   "source": [
    "p = figure(plot_width=400, plot_height=400, title=\"Monthly IR\")\n",
    "p.line(cpi.index, cpi['IR_cpi'], line_color=\"navy\", line_width=2.5)\n",
    "p.line(ps_monthly.index, ps_monthly.IR_ps, line_color=\"green\", line_width=2.5)\n",
    "\n",
    "\n",
    "p.xaxis.axis_label = 't'\n",
    "p.yaxis.axis_label = 'CPI'\n",
    "show(p)\n"
   ]
  },
  {
   "attachments": {},
   "cell_type": "markdown",
   "metadata": {},
   "source": [
    "Next, we use the PriceStat from the last day of the month to represent the monthly PriceStats value and then proceed to calculate monthly inflation rate using this monthly PriceStats value\n"
   ]
  },
  {
   "cell_type": "code",
   "execution_count": 87,
   "metadata": {},
   "outputs": [
    {
     "name": "stdout",
     "output_type": "stream",
     "text": [
      "The inflation rate from Avg PriceStats for the month of February in 2013 was 1.159452992 %\n"
     ]
    }
   ],
   "source": [
    "# Inflation rate from pricestat last day\n",
    "ps_monthly_last = pd.DataFrame(columns=['YearMonth', 'PS'])\n",
    "ps_monthly_last = ps_cpi.drop_duplicates(\n",
    "    'YearMonth', keep='last').copy().reset_index().drop(['index', 'CPI'], axis=1)\n",
    "val = calc_inflation_rate(ps_monthly_last.PriceStats.values)\n",
    "\n",
    "\n",
    "ps_monthly_last.loc[1:, 'IR_ps_last'] = val\n",
    "print(\"The inflation rate from Avg PriceStats for the month of February in 2013 was %0.9f\" %\n",
    "      ps_monthly_last[ps_monthly_last.YearMonth == '2013-02']['IR_ps_last'] + \" %\")\n"
   ]
  },
  {
   "attachments": {},
   "cell_type": "markdown",
   "metadata": {},
   "source": [
    "Lastly, we first calculate daily inflation rates and use the average of these rates across a month to represent the monthly inflation rate\n"
   ]
  },
  {
   "cell_type": "code",
   "execution_count": 89,
   "metadata": {},
   "outputs": [
    {
     "name": "stdout",
     "output_type": "stream",
     "text": [
      "The inflation rate from last day PriceStats for the month of February in 2013 was 1.235507066 %\n"
     ]
    }
   ],
   "source": [
    "ps_cpi_temp = ps_cpi.copy()\n",
    "ps_monthly_daily = pd.DataFrame(columns=['YearMonth', 'IR'])\n",
    "val = calc_inflation_rate(ps_cpi.PriceStats.values)\n",
    "ps_cpi_temp = ps_cpi_temp.drop([0])\n",
    "ps_cpi_temp['Daily_PS_IR'] = [i for i in val]\n",
    "\n",
    "ps_monthly_daily['IR'] = ps_cpi_temp.groupby(\n",
    "    'YearMonth').Daily_PS_IR.mean().values*30\n",
    "ps_monthly_daily['YearMonth'] = cpi.YearMonth\n",
    "\n",
    "ps_ir_train3 = (ps_monthly[ps_monthly.YearMonth < '2013-09'].copy())\n",
    "ps_ir_test3 = (ps_monthly[ps_monthly.YearMonth >= '2013-09'].copy())\n",
    "\n",
    "print(\"The inflation rate from last day PriceStats for the month of February in 2013 was %0.9f\" %\n",
    "      ps_monthly_daily[ps_monthly_daily.YearMonth == '2013-02']['IR'] + \" %\")\n"
   ]
  },
  {
   "cell_type": "code",
   "execution_count": 96,
   "metadata": {},
   "outputs": [
    {
     "data": {
      "text/html": [
       "\n",
       "\n",
       "\n",
       "\n",
       "\n",
       "\n",
       "  <div class=\"bk-root\" id=\"f1cf6f96-adda-41cf-8203-56392a2ea16a\" data-root-id=\"8004\"></div>\n"
      ]
     },
     "metadata": {},
     "output_type": "display_data"
    },
    {
     "data": {
      "application/javascript": "(function(root) {\n  function embed_document(root) {\n    \n  var docs_json = {\"ae811677-e4cc-44f4-b11f-381703fe6b24\":{\"defs\":[],\"roots\":{\"references\":[{\"attributes\":{\"below\":[{\"id\":\"8015\"}],\"center\":[{\"id\":\"8018\"},{\"id\":\"8022\"}],\"height\":400,\"left\":[{\"id\":\"8019\"}],\"renderers\":[{\"id\":\"8040\"},{\"id\":\"8045\"},{\"id\":\"8050\"},{\"id\":\"8055\"}],\"title\":{\"id\":\"8005\"},\"toolbar\":{\"id\":\"8030\"},\"width\":400,\"x_range\":{\"id\":\"8007\"},\"x_scale\":{\"id\":\"8011\"},\"y_range\":{\"id\":\"8009\"},\"y_scale\":{\"id\":\"8013\"}},\"id\":\"8004\",\"subtype\":\"Figure\",\"type\":\"Plot\"},{\"attributes\":{\"source\":{\"id\":\"8037\"}},\"id\":\"8041\",\"type\":\"CDSView\"},{\"attributes\":{\"data_source\":{\"id\":\"8042\"},\"glyph\":{\"id\":\"8043\"},\"hover_glyph\":null,\"muted_glyph\":null,\"nonselection_glyph\":{\"id\":\"8044\"},\"view\":{\"id\":\"8046\"}},\"id\":\"8045\",\"type\":\"GlyphRenderer\"},{\"attributes\":{},\"id\":\"8026\",\"type\":\"SaveTool\"},{\"attributes\":{\"line_color\":\"red\",\"line_width\":2.5,\"x\":{\"field\":\"x\"},\"y\":{\"field\":\"y\"}},\"id\":\"8048\",\"type\":\"Line\"},{\"attributes\":{\"axis\":{\"id\":\"8019\"},\"dimension\":1,\"ticker\":null},\"id\":\"8022\",\"type\":\"Grid\"},{\"attributes\":{},\"id\":\"8378\",\"type\":\"Selection\"},{\"attributes\":{\"line_alpha\":0.1,\"line_color\":\"navy\",\"line_width\":2.5,\"x\":{\"field\":\"x\"},\"y\":{\"field\":\"y\"}},\"id\":\"8039\",\"type\":\"Line\"},{\"attributes\":{\"line_alpha\":0.1,\"line_color\":\"red\",\"line_width\":2.5,\"x\":{\"field\":\"x\"},\"y\":{\"field\":\"y\"}},\"id\":\"8049\",\"type\":\"Line\"},{\"attributes\":{\"source\":{\"id\":\"8042\"}},\"id\":\"8046\",\"type\":\"CDSView\"},{\"attributes\":{},\"id\":\"8377\",\"type\":\"UnionRenderers\"},{\"attributes\":{},\"id\":\"8371\",\"type\":\"UnionRenderers\"},{\"attributes\":{\"bottom_units\":\"screen\",\"fill_alpha\":0.5,\"fill_color\":\"lightgrey\",\"left_units\":\"screen\",\"level\":\"overlay\",\"line_alpha\":1.0,\"line_color\":\"black\",\"line_dash\":[4,4],\"line_width\":2,\"right_units\":\"screen\",\"syncable\":false,\"top_units\":\"screen\"},\"id\":\"8029\",\"type\":\"BoxAnnotation\"},{\"attributes\":{},\"id\":\"8375\",\"type\":\"UnionRenderers\"},{\"attributes\":{},\"id\":\"8376\",\"type\":\"Selection\"},{\"attributes\":{},\"id\":\"8373\",\"type\":\"UnionRenderers\"},{\"attributes\":{\"line_alpha\":0.1,\"line_color\":\"green\",\"line_width\":2.5,\"x\":{\"field\":\"x\"},\"y\":{\"field\":\"y\"}},\"id\":\"8044\",\"type\":\"Line\"},{\"attributes\":{\"data\":{\"x\":[0,1,2,3,4,5,6,7,8,9,10,11,12,13,14,15,16,17,18,19,20,21,22,23,24,25,26,27,28,29,30,31,32,33,34,35,36,37,38,39,40,41,42,43,44,45,46,47,48,49,50,51,52,53,54,55,56,57,58,59,60,61,62,63,64,65,66,67,68,69,70,71,72,73,74,75,76,77,78,79,80,81,82,83,84,85,86,87,88,89,90,91,92,93,94,95,96,97,98,99,100,101,102,103,104,105,106,107,108,109,110,111,112,113,114,115,116,117,118,119,120,121,122,123,124,125,126,127,128,129,130,131,132,133,134,135,136],\"y\":{\"__ndarray__\":\"AAAAAAAA+H+AJeSDns3gP2qi5gOOjNm/DchGZCOywb/LOlMhhinwv/Ff0QkBpf6/SWkQDUKM8L80TvGZ+drbPwFLVGxb098/Bqj8VYAgzz/jU1MhE/TPP2l3CCcDfdI/bpg+yNJ86z8SABdHxUvEv+vlS8WOtcw/ajGFUmsDsD/b6jCo8qe4P6ZJZemHHbI/9M0E/8WKxr/t8sQgK9/VP8bdbRxAhZk/oL/L1ctH2j91Nn3MdzvGP1wSvz1m17M/vubAnI7+uL8dbqr4BKGVPys+inYwrME/tWqcQ/LIrT8al7qIzeC/P40EdvjiiKU/6g269XgAxj+Rh7Ui0nvePwzq/Wljj98/yYMNfucz7z/LTM8d6prkP49Fau+4HN4/SNdyTPVqu78MH+07sq62PxRZzH3JpdE/UbcVaV1vwz8cZa6dpmfKv3Lm6+oZmbW/0jxIZveRz79vmXFsJSncP++8gjXxLdw/DBRUfLxN6D+D/7eYj1XTP9h9Rj8EC76/USSStrvEwr+ViVfu1dvEv4bkn7IZz+E/41CqPtWO3D/OKeo5UPKjv3AmpQcyU96/6+tQcqA70b/N+dvdH+3SPyGX8e0mNeo/zY6vZ4+70D93PUVcpZ26v9R+WyADysY/dY/2rWG4zj88+vt4ADOkP/5Fd2xcyr4/toVVuX/FvT9M4LOGuHvQv07X3RvZJMq/69qSCDx/gb9sn+oi3c7XP5glMDJ7qtc/q93nOrmb5D/Hc6ehRRnVP2z2wktDWtY/Dwyn8DLXxz/rYQLbJfqjv1zk5S9GYsW/TE0fgcZDsz9zXHrhQhTQv1+QPFNUR+G/4KTF/7Ik4r/+wNdiPR7ev4j9ShKwyts/IhCAJB4M4z8oRxeBbQbKP2V9NDRET+A/rZfHTkxr1j8UJVo3wWp7PyeRsmbNIcK/b4rj0q/rw7+fnZoQHwanvz1x9by+A8u/gHhhUZXf1b+krioKMinFPw32tlEfEbU/KScsF+OO2z9VejaOWljeP56z6A7h5Nk/zXP0PmwF1T+luP1xTrjEv8gXQuwbg7c/BdKYwTPFzj/L4Jh0Hu2/P4LL/oXn58O/mYDWXNfBoD+MmjZZAabiP6AuRrzOIdQ/CncvWX7PtD/OgYH6ffrSPwPFgN+n4LU/Uk2pX3I7tz+cPC5Meaexvyc99nHYKNM/tLySQYXx4D8EwmsrviiwvyDWnNEJn2M/yhfHsMgcrr9SQ4asFG/hP2gCjWn7Bd0/clUBA2bxzD94FY/KDXDZP8iiyRTzndo/Rrqm0vRnxD/jAfTJGGN7PzK+l/nEc6w/ptnNGEa/vT+QpdbvdJ/GPyrQ/EDIb9W/BE9ZZB5x1L+3YmLyWWfIP1r7+5XPDNs/YKekKnUN4j9c9pwOJvLgP+YJXisuP8s/s83xiN9ilD96KU7zXWPFP/BrXK+g9XS/AAAAAAAA+H8AAAAAAAD4fw==\",\"dtype\":\"float64\",\"order\":\"little\",\"shape\":[137]}},\"selected\":{\"id\":\"8372\"},\"selection_policy\":{\"id\":\"8371\"}},\"id\":\"8037\",\"type\":\"ColumnDataSource\"},{\"attributes\":{\"data_source\":{\"id\":\"8037\"},\"glyph\":{\"id\":\"8038\"},\"hover_glyph\":null,\"muted_glyph\":null,\"nonselection_glyph\":{\"id\":\"8039\"},\"view\":{\"id\":\"8041\"}},\"id\":\"8040\",\"type\":\"GlyphRenderer\"},{\"attributes\":{\"data\":{\"x\":[0,1,2,3,4,5,6,7,8,9,10,11,12,13,14,15,16,17,18,19,20,21,22,23,24,25,26,27,28,29,30,31,32,33,34,35,36,37,38,39,40,41,42,43,44,45,46,47,48,49,50,51,52,53,54,55,56,57,58,59,60,61,62,63,64,65,66,67,68,69,70,71,72,73,74,75,76,77,78,79,80,81,82,83,84,85,86,87,88,89,90,91,92,93,94,95,96,97,98,99,100,101,102,103,104,105,106,107,108,109,110,111,112,113,114,115,116,117,118,119,120,121,122,123,124,125,126,127,128,129,130,131,132,133,134,135,136],\"y\":{\"__ndarray__\":\"4GJXrAQx4r9h7N5SPn3Kv76+Eu7AyKs/ldDKrs/z+r+6PEg5LZL3v8J5OpRtreC/pybcn/y55j81k6JJ1lnYPyNcbkFOdNs/4JieevaW0j+qaYcG7QTVPxFTY+b82tA/sJ0hYXl71T/SsxKNOSaXvx/XPFgPg6i//3xqUPMr4T+Jp1ZKtlzEv15tcN5RvLW/6hZpBQpI1D87wrrXBrLYP7CSaDaqCds/F6wVPOsm6D+sU8KEu+fTv+7HieXoV8o/iP6uPrG70D/sijJf77rMv/be4uTuctU/djFspBiR3D90z9+GubDZP2FqkmwCRME//najng/AzT+VStAQ4r/OP0dfbAuFz98/iHK3VvD26j9IcGQe3tjEv79vQO4sPtS/Zqf7Oy424D9IWnqUjfZcP87VyUNGpL6/5bDlWRRBrj+Odf3jf2/Lv+D37lwC3rK/PguUZjKJ4T8cpKoSlSrrP2ZBa3W9v+c/2FmmGG4Wm7+IKeat20bTv7mvG6UC+eG/Z4Y7SxLd2z+MZtwvBX7vPyL2JXeZjLk/AJmUOlmryr+vFNkSsILJv6TlieRdCtC/99xwlhy82T/qf5IOo8TzPxEwrDp/VMq/X0Qkf1QzxL+weOmJv3TcP5S/Xha0X9C/hcp0224+1T/4mVptq4e5PyBcn/OIkrW/JJ4laz7bw7+wZWFCJm6fP2QV1Ax1kMo/Uki7bKUppj9ndYB4d/jVPxCiQtHzidE/PW36QG5Uzz92A2PXTRrGPxVxK/7VN7s/3fv3+HTWdT8alDk6GxqzPwQ9mYzdhbE/+YyDfaityb9ogKmAn5vIvy9Xbtvw1eW/ztChFzCJ2b/w+FsZUh/oP4LCNXtBd8o/FP4IQOcs1z8oND2rOK/YP7aWpS9ssMQ/rO65z1VboT+I8Prutgu0v6I4jkSrJ76/aIXrLTvchb+R1dGe2u7Mv7QWuocRa4y/xGJBhVnA1b9wwGSTw9WWvyvYJmfw/OM/FrsMv5Rr4D/Ct7NophbWP/h3exshxrs/jD6rUYockL/ISjqBONzAP7tnsbS9L8k/pAYkZYDWvj8I3WH88Nqxv/pW7BIAHtc/RM4zc3OCxT/cOAajQeHMPwjy9IC3hsQ/h+nW4Hhxzj+o1JuAAJG1PzOUYxupDb+/UxHoX2Zm0z/ArqRH61/SPywtlqywX+E/6HHIqr8Pwj/sEcYZ43XGP2qqUXZedK8/+UdjrpM+2j8YOHcpWaqTP96Iw8v3ntA/ltIPGfYC3z9ZX2EM2mHXP2SCiR/57Zw/EC1Xq3Q5yj9YU9o5j0WIPw3yTtbZxNE/JrBrtZ0FyD9m7tjLdyzTv4MUCi8E7tG/I5y6lLGovj9J7wn/9P3bP4xWsXuzUOE/4KZnFhlJ3D9beCK5Iwe8Pwv5q8Z10ry/wODCTNHAwj+D8sVmLdG2v34Vj/zVxtE/O/d2wpOnuT8hPs9Km4q4Pw==\",\"dtype\":\"float64\",\"order\":\"little\",\"shape\":[137]}},\"selected\":{\"id\":\"8378\"},\"selection_policy\":{\"id\":\"8377\"}},\"id\":\"8052\",\"type\":\"ColumnDataSource\"},{\"attributes\":{},\"id\":\"8007\",\"type\":\"DataRange1d\"},{\"attributes\":{},\"id\":\"8374\",\"type\":\"Selection\"},{\"attributes\":{\"text\":\"Monthly Inflation Rate in %\"},\"id\":\"8005\",\"type\":\"Title\"},{\"attributes\":{\"line_color\":\"green\",\"line_width\":2.5,\"x\":{\"field\":\"x\"},\"y\":{\"field\":\"y\"}},\"id\":\"8043\",\"type\":\"Line\"},{\"attributes\":{\"active_multi\":null,\"tools\":[{\"id\":\"8023\"},{\"id\":\"8024\"},{\"id\":\"8025\"},{\"id\":\"8026\"},{\"id\":\"8027\"},{\"id\":\"8028\"}]},\"id\":\"8030\",\"type\":\"Toolbar\"},{\"attributes\":{},\"id\":\"8011\",\"type\":\"LinearScale\"},{\"attributes\":{\"axis_label\":\"t\",\"formatter\":{\"id\":\"8364\"},\"major_label_policy\":{\"id\":\"8365\"},\"ticker\":{\"id\":\"8016\"}},\"id\":\"8015\",\"type\":\"LinearAxis\"},{\"attributes\":{\"line_alpha\":0.1,\"line_color\":\"orange\",\"line_width\":2.5,\"x\":{\"field\":\"x\"},\"y\":{\"field\":\"y\"}},\"id\":\"8054\",\"type\":\"Line\"},{\"attributes\":{},\"id\":\"8365\",\"type\":\"AllLabels\"},{\"attributes\":{},\"id\":\"8028\",\"type\":\"HelpTool\"},{\"attributes\":{\"line_color\":\"orange\",\"line_width\":2.5,\"x\":{\"field\":\"x\"},\"y\":{\"field\":\"y\"}},\"id\":\"8053\",\"type\":\"Line\"},{\"attributes\":{\"axis\":{\"id\":\"8015\"},\"ticker\":null},\"id\":\"8018\",\"type\":\"Grid\"},{\"attributes\":{},\"id\":\"8372\",\"type\":\"Selection\"},{\"attributes\":{},\"id\":\"8027\",\"type\":\"ResetTool\"},{\"attributes\":{},\"id\":\"8024\",\"type\":\"WheelZoomTool\"},{\"attributes\":{\"data_source\":{\"id\":\"8052\"},\"glyph\":{\"id\":\"8053\"},\"hover_glyph\":null,\"muted_glyph\":null,\"nonselection_glyph\":{\"id\":\"8054\"},\"view\":{\"id\":\"8056\"}},\"id\":\"8055\",\"type\":\"GlyphRenderer\"},{\"attributes\":{},\"id\":\"8016\",\"type\":\"BasicTicker\"},{\"attributes\":{},\"id\":\"8364\",\"type\":\"BasicTickFormatter\"},{\"attributes\":{\"source\":{\"id\":\"8052\"}},\"id\":\"8056\",\"type\":\"CDSView\"},{\"attributes\":{\"line_color\":\"navy\",\"line_width\":2.5,\"x\":{\"field\":\"x\"},\"y\":{\"field\":\"y\"}},\"id\":\"8038\",\"type\":\"Line\"},{\"attributes\":{},\"id\":\"8009\",\"type\":\"DataRange1d\"},{\"attributes\":{},\"id\":\"8023\",\"type\":\"PanTool\"},{\"attributes\":{\"source\":{\"id\":\"8047\"}},\"id\":\"8051\",\"type\":\"CDSView\"},{\"attributes\":{},\"id\":\"8368\",\"type\":\"AllLabels\"},{\"attributes\":{},\"id\":\"8013\",\"type\":\"LinearScale\"},{\"attributes\":{},\"id\":\"8020\",\"type\":\"BasicTicker\"},{\"attributes\":{\"data_source\":{\"id\":\"8047\"},\"glyph\":{\"id\":\"8048\"},\"hover_glyph\":null,\"muted_glyph\":null,\"nonselection_glyph\":{\"id\":\"8049\"},\"view\":{\"id\":\"8051\"}},\"id\":\"8050\",\"type\":\"GlyphRenderer\"},{\"attributes\":{\"axis_label\":\"CPI\",\"formatter\":{\"id\":\"8367\"},\"major_label_policy\":{\"id\":\"8368\"},\"ticker\":{\"id\":\"8020\"}},\"id\":\"8019\",\"type\":\"LinearAxis\"},{\"attributes\":{\"data\":{\"x\":[0,1,2,3,4,5,6,7,8,9,10,11,12,13,14,15,16,17,18,19,20,21,22,23,24,25,26,27,28,29,30,31,32,33,34,35,36,37,38,39,40,41,42,43,44,45,46,47,48,49,50,51,52,53,54,55,56,57,58,59,60,61,62,63,64,65,66,67,68,69,70,71,72,73,74,75,76,77,78,79,80,81,82,83,84,85,86,87,88,89,90,91,92,93,94,95,96,97,98,99,100,101,102,103,104,105,106,107,108,109,110,111,112,113,114,115,116,117,118,119,120,121,122,123,124,125,126,127,128,129,130,131,132,133,134,135,136],\"y\":{\"__ndarray__\":\"AAAAAAAA+H+Byv6jqVjLv1mHFkZcras/oVFqPG2f+7+od5nfzmf3v4+YJEkNMeG/vLls6S6Q5z+cdgqe5b/WP7k98GoJbdw/mKOjMP+c0j87bi8Y3b/VPzOAG6Dc3tA/spIEa5w71j/wV1tprCeYv/D5Ms4Qiqi/8/c1QY/J4T8Rd1gqmFrEv++ClNghfLa/QS0udKv41D+8vqc7jRPXP07TDOOp/ds/Okr1Rk486D/KgXfZM4vUv2UkeJi4WMo/yzpLQJpL0T8lf74cNqvNv55DdGzTd9U/E+cRUTOT3T+bjoaUhKjZP5MiCOFR2cE/654+XXjCzj8AbTWGA7nMP7V3GgPXeOA/D4VNRGAS6z8yTCrFLIrFvxWbwcDnRNS/M1b6WN/H4D8YPLkrF1lcP4oOz55pr76/9/GVQKwwrz+EjecVlGrLv1yC6S+ChLO/oocoSkQq4j+muB5xoVzqP7IarJ5koeg/5hoVkgYqm7+BhasaIuXTvzivpr8c7eG/0XXuUjHZ3D+MRbtrP1nwP3muSKFPhbk/eUQiJVePy792SIXYkYDJvz3bQgOzj9C/7Oj3T/2j2j/m57qUHo3yPydrpRcKL8u/Azl1iSk1xL+Y9K0UwHbdPxMsy1vvWtC/EDFY7mf81T/JCnwkSWO6P2tFtVRckbW/kCdkWWmBxL/JpsI9dGWfP+8U8gWpecs/VSVMxWjfpj9lxgd8SIjUP/s3Nr3eJNI/rlGegVpdzz/+vo57htvGPy596InaOrs/ABbwQtqCdj8SSNNjOb6zP7ZPVgyEhrE/hQutFxuEyr/z+bn3qJbIv2Mj42DjfOa/Me3m309W2r9UMt/SypbmP9KpkHO7Xss/akoo8o821z8StUnybo3ZPyWHJM0bs8Q/ksPtEIjsoT8OHyQEore0v7pG08HRJL6/3hWE+vCghr/i4Q4FlejMvxx7/cZObo2/t1P2EYlw1r/5WVUEYxuWvxyFBlHPt+Q/fIh9zKh14D8qXqUS3dzWP3guQ6C5x7s/xb9y8fapkL+NVrPSNm7BP+vymCpsNck/CsNvB3/cvz9CqwRiotuxvyCM7cvW7dc/Rlux3NE8xj9lmAfdAvvKPyyjsq65OcU/Oik7vkB6zj9xS21DgUq2P9mi7gIDCr+/Vib+1l0T1D8LcBPBRgPTP8VVuI9dauE/k3hjkm6swj/DZX6673jGP7WYDyZSPrA/2yvF9VAs2z+cwI0UTFWSP8gwzS0KMtE/C0bDbToV3z/Yp8XqbjTYP1u+7QTq6Jw/0QuYLXgfyz9KX5e0TQyJP8lD3H6pytE/ipyNr/nXyD+BvUKdlCbTv4frD5n/gNK/4PjEdD+yvz9GrOUWXizaP7KH8SG/8OE/4/he0UhY3D9U8mr2qPm8Py9Yfn3sz7y/9koEU6Fjwz+ELYMcBpK3v2jO/c0azNE/v/5BQCuEuj9iq8S0WlyQPw==\",\"dtype\":\"float64\",\"order\":\"little\",\"shape\":[137]}},\"selected\":{\"id\":\"8376\"},\"selection_policy\":{\"id\":\"8375\"}},\"id\":\"8047\",\"type\":\"ColumnDataSource\"},{\"attributes\":{\"overlay\":{\"id\":\"8029\"}},\"id\":\"8025\",\"type\":\"BoxZoomTool\"},{\"attributes\":{},\"id\":\"8367\",\"type\":\"BasicTickFormatter\"},{\"attributes\":{\"data\":{\"x\":[0,1,2,3,4,5,6,7,8,9,10,11,12,13,14,15,16,17,18,19,20,21,22,23,24,25,26,27,28,29,30,31,32,33,34,35,36,37,38,39,40,41,42,43,44,45,46,47,48,49,50,51,52,53,54,55,56,57,58,59,60,61,62,63,64,65,66,67,68,69,70,71,72,73,74,75,76,77,78,79,80,81,82,83,84,85,86,87,88,89,90,91,92,93,94,95,96,97,98,99,100,101,102,103,104,105,106,107,108,109,110,111,112,113,114,115,116,117,118,119,120,121,122,123,124,125,126,127,128,129,130,131,132,133,134,135,136],\"y\":{\"__ndarray__\":\"AAAAAAAA+H9wbZ/50tTIvzCH9WcdPaY/WYAdDuFZ6L+lVB/YVOv8v5fekuwOj/C/D5pzBFf30j9UIhK0kGvlP3Cjlx/zpcs/I0ZzlEn90D8ZPLBTR17YP+o0Xkd4NdI/+Oeyp6wO1T9x8IAT4b3AP6Jzlex7Q6o/N6FNJq/Bqj9HqhK5DkXSP76UV5QWj8K/G7DzMZM23j8jTeHQc6C5v1uEgAF8z+M/eQGEKmH43z+r4udCJfnZP+707ZGZp9e/EJQFM+pS1z/WYuVQSwi8P48DFNPrPq0/Fv/kNyB93D/z94BKzQXWP0WMECM5+sY/0kun5a7D0D9TLJUzMS7QP/PVBS+todU/s0eTRxzj5j+x3Rjde/vdP+6BIqnwGti/abwk6KLMuz/Q0DE11jC7P1VqTCZq/ck/781/uuSszL/DjWCsb16cP4VCU3uXxtG/VTkoyu8b1z9A7ufQAjHjP1PwZrv9Uu0/2e8VJRu52D+6eeaK/g3Rv5lW8xiJYNi/EDd6uqNPur/AlOtsCxbqP9cxD5vsi+E/KBMqSdX9oT/endTQijzbv19EK5egJ9K/LKkXbknmtj/baI1R65LwP9xy6AgFBNQ/kd774CIIur9u9ndRUoPEP+FvEL/0ZLQ/9784pMeVqT8zf6bkJHS9P8hSFYCtf7Y/yMOJT6plxL/D3sWH3dqmvyWD+JuUVbA/ga41tMSlyj/2/dNDDVzFP3vSJG9HX9A/1lNCqH1E0j//mDRANrzNP9mnrM/yccE/htBSd4C2sT/6NXU9wIynP64qAsH8KLQ/29ECUO2+t7+LSuoXFx/Hv/kHxwJUUN2/9oDGx9Ed5b93KN/OjDzPP8fALazPaOA/2oR1CwXMxD9cTitw9xzgPy42pxqp5tA/i04zPTokuD9EoAdsHoqEv8jrS4DYpcm/9XGJwvGYoj+YzA1hEEnAv+tmr+YTD8C/vla8VOlwyL84kUfdu0zSv0PviZ6Ue9o/SCo9dyYd4D+udiGJqUPeP4H0xe5qutQ/cFpLkbVLn7+WeoLKFIaTP3okxz1E88Y/C18ZSZH5xz8LX30ko2aWv7rUvXqQ7sU/i9xKTc/L2T8dWx7sRUi2P+ZH0VwJC8o/m2Kob1Glyz+odJT3/mO7P5+BaUUJ060/rGEUj1qKpT8ZD1u17WnSP9vZWA4cWOQ/h+SAqCEPxD/fyGhLN93MP1tVM5qST40/+r6UTDbg0T+h42ol+WPNP1TB8Tz/fLw/GYXD+23+2T+4ZKE5D/vaP4wSKMQIaMs/lLRnVP3xwD+Q4G5R1Eu8P212zL5rlMM/FhdketB00D9GMGnyWUm6v3oYfUvPrNO/xxERaN1lt78V+RYnbEPQP9FI9JGCI+E/USGS8GfL4D/mTexJmCjRPy49X1GLkqe/3/ao83tstj/AsWZfo8SFvyUh+/4sPbk//qDGfl41xj/6f0Mq0Xq0Pw==\",\"dtype\":\"float64\",\"order\":\"little\",\"shape\":[137]}},\"selected\":{\"id\":\"8374\"},\"selection_policy\":{\"id\":\"8373\"}},\"id\":\"8042\",\"type\":\"ColumnDataSource\"}],\"root_ids\":[\"8004\"]},\"title\":\"Bokeh Application\",\"version\":\"2.3.1\"}};\n  var render_items = [{\"docid\":\"ae811677-e4cc-44f4-b11f-381703fe6b24\",\"root_ids\":[\"8004\"],\"roots\":{\"8004\":\"f1cf6f96-adda-41cf-8203-56392a2ea16a\"}}];\n  root.Bokeh.embed.embed_items_notebook(docs_json, render_items);\n\n  }\n  if (root.Bokeh !== undefined) {\n    embed_document(root);\n  } else {\n    var attempts = 0;\n    var timer = setInterval(function(root) {\n      if (root.Bokeh !== undefined) {\n        clearInterval(timer);\n        embed_document(root);\n      } else {\n        attempts++;\n        if (attempts > 100) {\n          clearInterval(timer);\n          console.log(\"Bokeh: ERROR: Unable to run BokehJS code because BokehJS library is missing\");\n        }\n      }\n    }, 10, root)\n  }\n})(window);",
      "application/vnd.bokehjs_exec.v0+json": ""
     },
     "metadata": {
      "application/vnd.bokehjs_exec.v0+json": {
       "id": "8004"
      }
     },
     "output_type": "display_data"
    }
   ],
   "source": [
    "# plotting the monthly inflation rates computed from CPI, and Pricestats\n",
    "p = figure(plot_width=400, plot_height=400,\n",
    "           title=\"Monthly Inflation Rate in %\")\n",
    "p.line(cpi.index, cpi['IR_cpi'], line_color=\"navy\", line_width=2.5)\n",
    "p.line(ps_monthly.index, ps_monthly.IR_ps, line_color=\"green\", line_width=2.5)\n",
    "p.line(ps_monthly_last.index, ps_monthly_last.IR_ps_last,\n",
    "       line_color=\"red\", line_width=2.5)\n",
    "p.line(ps_monthly_last.index, ps_monthly_daily.IR,\n",
    "       line_color=\"orange\", line_width=2.5)\n",
    "# p.line(cpi_train.index[1:],ber_ir_train.IR_ber,line_color=\"red\",line_width=2.5,legend_label =\"BER (Avg)\")\n",
    "\n",
    "\n",
    "p.xaxis.axis_label = 't'\n",
    "p.yaxis.axis_label = 'CPI'\n",
    "\n",
    "\n",
    "show(p)\n"
   ]
  },
  {
   "cell_type": "code",
   "execution_count": 97,
   "metadata": {},
   "outputs": [
    {
     "ename": "NameError",
     "evalue": "name 'ps_ir_train2' is not defined",
     "output_type": "error",
     "traceback": [
      "\u001b[0;31m---------------------------------------------------------------------------\u001b[0m",
      "\u001b[0;31mNameError\u001b[0m                                 Traceback (most recent call last)",
      "\u001b[0;32m<ipython-input-97-df17fc703124>\u001b[0m in \u001b[0;36m<module>\u001b[0;34m\u001b[0m\n\u001b[1;32m      1\u001b[0m \u001b[0mp\u001b[0m \u001b[0;34m=\u001b[0m \u001b[0mfigure\u001b[0m\u001b[0;34m(\u001b[0m\u001b[0mplot_width\u001b[0m\u001b[0;34m=\u001b[0m\u001b[0;36m800\u001b[0m\u001b[0;34m,\u001b[0m \u001b[0mplot_height\u001b[0m\u001b[0;34m=\u001b[0m\u001b[0;36m300\u001b[0m\u001b[0;34m,\u001b[0m \u001b[0mtitle\u001b[0m \u001b[0;34m=\u001b[0m \u001b[0;34m\"Inflation Rates\"\u001b[0m\u001b[0;34m)\u001b[0m\u001b[0;34m\u001b[0m\u001b[0;34m\u001b[0m\u001b[0m\n\u001b[0;32m----> 2\u001b[0;31m \u001b[0mp\u001b[0m\u001b[0;34m.\u001b[0m\u001b[0mline\u001b[0m\u001b[0;34m(\u001b[0m\u001b[0mcpi_train\u001b[0m\u001b[0;34m.\u001b[0m\u001b[0mindex\u001b[0m\u001b[0;34m[\u001b[0m\u001b[0;36m1\u001b[0m\u001b[0;34m:\u001b[0m\u001b[0;34m]\u001b[0m\u001b[0;34m,\u001b[0m\u001b[0mps_ir_train2\u001b[0m\u001b[0;34m,\u001b[0m\u001b[0mline_width\u001b[0m \u001b[0;34m=\u001b[0m\u001b[0;36m2.5\u001b[0m\u001b[0;34m,\u001b[0m \u001b[0mline_color\u001b[0m\u001b[0;34m=\u001b[0m\u001b[0;34m\"black\"\u001b[0m\u001b[0;34m,\u001b[0m \u001b[0mlegend_label\u001b[0m \u001b[0;34m=\u001b[0m\u001b[0;34m\"PriceStats (Last Day)\"\u001b[0m\u001b[0;34m)\u001b[0m\u001b[0;34m\u001b[0m\u001b[0;34m\u001b[0m\u001b[0m\n\u001b[0m\u001b[1;32m      3\u001b[0m \u001b[0mp\u001b[0m\u001b[0;34m.\u001b[0m\u001b[0mline\u001b[0m\u001b[0;34m(\u001b[0m\u001b[0mcpi_train\u001b[0m\u001b[0;34m.\u001b[0m\u001b[0mindex\u001b[0m\u001b[0;34m[\u001b[0m\u001b[0;36m1\u001b[0m\u001b[0;34m:\u001b[0m\u001b[0;34m]\u001b[0m\u001b[0;34m,\u001b[0m\u001b[0mps_ir_train\u001b[0m\u001b[0;34m.\u001b[0m\u001b[0mIR_ps\u001b[0m\u001b[0;34m,\u001b[0m\u001b[0mline_width\u001b[0m \u001b[0;34m=\u001b[0m\u001b[0;36m2.5\u001b[0m\u001b[0;34m,\u001b[0m \u001b[0mline_color\u001b[0m\u001b[0;34m=\u001b[0m\u001b[0;34m\"green\"\u001b[0m\u001b[0;34m,\u001b[0m \u001b[0mlegend_label\u001b[0m \u001b[0;34m=\u001b[0m\u001b[0;34m\"PriceStats (Avg)\"\u001b[0m\u001b[0;34m)\u001b[0m\u001b[0;34m\u001b[0m\u001b[0;34m\u001b[0m\u001b[0m\n\u001b[1;32m      4\u001b[0m \u001b[0mp\u001b[0m\u001b[0;34m.\u001b[0m\u001b[0mline\u001b[0m\u001b[0;34m(\u001b[0m\u001b[0mcpi_train\u001b[0m\u001b[0;34m.\u001b[0m\u001b[0mindex\u001b[0m\u001b[0;34m[\u001b[0m\u001b[0;36m0\u001b[0m\u001b[0;34m:\u001b[0m\u001b[0;34m]\u001b[0m\u001b[0;34m,\u001b[0m\u001b[0mps_ir_train3\u001b[0m\u001b[0;34m.\u001b[0m\u001b[0mPS\u001b[0m\u001b[0;34m,\u001b[0m\u001b[0mline_width\u001b[0m \u001b[0;34m=\u001b[0m\u001b[0;36m2.5\u001b[0m\u001b[0;34m,\u001b[0m \u001b[0mline_color\u001b[0m\u001b[0;34m=\u001b[0m\u001b[0;34m\"red\"\u001b[0m\u001b[0;34m,\u001b[0m \u001b[0mlegend_label\u001b[0m \u001b[0;34m=\u001b[0m\u001b[0;34m\"PriceStats (Avg of IR)\"\u001b[0m\u001b[0;34m)\u001b[0m\u001b[0;34m\u001b[0m\u001b[0;34m\u001b[0m\u001b[0m\n\u001b[1;32m      5\u001b[0m \u001b[0mp\u001b[0m\u001b[0;34m.\u001b[0m\u001b[0mline\u001b[0m\u001b[0;34m(\u001b[0m\u001b[0mcpi_train\u001b[0m\u001b[0;34m.\u001b[0m\u001b[0mindex\u001b[0m\u001b[0;34m[\u001b[0m\u001b[0;36m0\u001b[0m\u001b[0;34m:\u001b[0m\u001b[0;34m]\u001b[0m\u001b[0;34m,\u001b[0m\u001b[0mps_ir_train3\u001b[0m\u001b[0;34m.\u001b[0m\u001b[0mPS\u001b[0m\u001b[0;34m,\u001b[0m\u001b[0mline_width\u001b[0m \u001b[0;34m=\u001b[0m\u001b[0;36m2.5\u001b[0m\u001b[0;34m,\u001b[0m \u001b[0mline_color\u001b[0m\u001b[0;34m=\u001b[0m\u001b[0;34m\"red\"\u001b[0m\u001b[0;34m,\u001b[0m \u001b[0mlegend_label\u001b[0m \u001b[0;34m=\u001b[0m\u001b[0;34m\"PriceStats (Avg of IR)\"\u001b[0m\u001b[0;34m)\u001b[0m\u001b[0;34m\u001b[0m\u001b[0;34m\u001b[0m\u001b[0m\n",
      "\u001b[0;31mNameError\u001b[0m: name 'ps_ir_train2' is not defined"
     ]
    }
   ],
   "source": [
    "p = figure(plot_width=800, plot_height=300, title=\"Inflation Rates\")\n",
    "p.line(cpi_train.index[1:], ps_ir_train2, line_width=2.5,\n",
    "       line_color=\"black\", legend_label=\"PriceStats (Last Day)\")\n",
    "p.line(cpi_train.index[1:], ps_ir_train.IR_ps, line_width=2.5,\n",
    "       line_color=\"green\", legend_label=\"PriceStats (Avg)\")\n",
    "p.line(cpi_train.index[0:], ps_ir_train3.PS, line_width=2.5,\n",
    "       line_color=\"red\", legend_label=\"PriceStats (Avg of IR)\")\n",
    "p.line(cpi_train.index[0:], ps_ir_train3.PS, line_width=2.5,\n",
    "       line_color=\"red\", legend_label=\"PriceStats (Avg of IR)\")\n",
    "\n",
    "\n",
    "show(p)\n"
   ]
  },
  {
   "attachments": {},
   "cell_type": "markdown",
   "metadata": {},
   "source": [
    "Now we move on to converting BER to monthly inflation rates. Just like in PriceStats, BER is reported on a daily basis. We first choose a monthly representative value by averaging the BER across all days of the month. BER is already a rate, however it is reported across a 10 year period. In order to convert this to a monthly value, we must then deannualize it using the following formula.\n",
    "\n",
    "> $BER_t = (BER_t +1)^\\frac{1}{12} -1$\n"
   ]
  },
  {
   "cell_type": "code",
   "execution_count": 100,
   "metadata": {},
   "outputs": [
    {
     "name": "stdout",
     "output_type": "stream",
     "text": [
      "The inflation rate from BER for the month of February in 2013 was 0.210441852 %\n"
     ]
    }
   ],
   "source": [
    "ber = pd.read_csv('data/T10YIE.csv')\n",
    "ber['DATE'] = pd.to_datetime(ber['DATE'])\n",
    "ber['YearMonth'] = ber['DATE'].dt.strftime('%Y-%m')\n",
    "ber = ber.drop(ber[ber.YearMonth < '2008-07'].index)\n",
    "ber = ber.dropna()\n",
    "# print(ber)\n",
    "\n",
    "ber_monthly = pd.DataFrame(columns=['YearMonth', 'BER'])\n",
    "ber_monthly['BER'] = ber.groupby('YearMonth').T10YIE.mean().values\n",
    "ber_monthly['YearMonth'] = cpi.YearMonth\n",
    "ber_monthly.drop([0])\n",
    "\n",
    "# print(ber_monthly)\n",
    "ber_ir_train = (ber_monthly[ber_monthly.YearMonth < '2013-09'].copy())\n",
    "ber_ir_test = (ber_monthly[ber_monthly.YearMonth >= '2013-09'].copy())\n",
    "\n",
    "\n",
    "ber_ir_train['IR_ber'] = ((ber_ir_train.BER.values/100+1)**(1/12)-1)*100\n",
    "ber_ir_test['IR_ber'] = ((ber_ir_test.BER.values/100+1)**(1/12)-1)*100\n",
    "print(\"The inflation rate from BER for the month of February in 2013 was %0.9f\" %\n",
    "      ber_ir_train[ber_ir_train.YearMonth == '2013-02']['IR_ber'] + \" %\")\n"
   ]
  }
 ],
 "metadata": {
  "kernelspec": {
   "display_name": "Python 3",
   "language": "python",
   "name": "python3"
  },
  "language_info": {
   "codemirror_mode": {
    "name": "ipython",
    "version": 3
   },
   "file_extension": ".py",
   "mimetype": "text/x-python",
   "name": "python",
   "nbconvert_exporter": "python",
   "pygments_lexer": "ipython3",
   "version": "3.7.2"
  }
 },
 "nbformat": 4,
 "nbformat_minor": 4
}
