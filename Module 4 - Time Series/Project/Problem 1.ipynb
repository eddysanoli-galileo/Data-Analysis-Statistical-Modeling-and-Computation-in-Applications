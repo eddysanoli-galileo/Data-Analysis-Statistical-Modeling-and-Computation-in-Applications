{
 "cells": [
  {
   "attachments": {},
   "cell_type": "markdown",
   "metadata": {},
   "source": [
    "## Problem 1: The Mauna Loa CO2 Concentration\n",
    "\n",
    "In 1958, Charles David Keeling (1928-2005) from the Scripps Institution of Oceanography began recording carbon dioxide (CO2) concentrations in the atmosphere at an observatory located at about 3,400m altitude on the Mauna Loa Volcano on Hawaii Island. The location was chosen because it is not influenced by changing CO levels due to the local vegetation and because prevailing wind patterns on this tropical island tend to bring well-mixed air to the site. While the recordings are made near a volcano (which tends to produce CO2), wind patterns tend to blow the volcanic CO away from the recording site. Air samples are taken several times a day, and concentrations have been observed using the same measuring method for over 60 years. In addition, samples are stored in flasks and periodically reanalyzed for calibration purposes. The observational study is now run by Ralph Keeling, Charles's son. The result is a data set with very few interruptions and very few inhomogeneities. It has been called the “most important data set in modern climate research.\"\n",
    "\n",
    "The data set for this problem can be found in `CO2.csv`. It provides the concentration of CO2 recorded at Mauna Loa for each month starting March 1958. More description is provided in the data set file. We will be considering only the CO2 concentration given in column 5. The goal of the problem is to fit the data and understand its variations. You will encounter missing data points; part of the exercise is to deal with them appropriately.\n",
    "\n",
    "Let $C_i$ be the average CO2 concentration in month $i$ ($i = 1,2,\\dots$, counting from March 1958). We will look for a description of the form:\n",
    "\n",
    "where:\n",
    "\n",
    "- $F: t \\mapsto F(t)$ accounts for the long-term trend.\n",
    "- $t_i$ is time at the middle of the $i$th month, measured in fractions of years after Jan 15, 1958. Specifically, we take\n",
    "\n",
    "  $$\n",
    "  t_ i=\\frac{i+0.5}{12}, \\qquad i=0,1,\\dots ,\n",
    "  $$\n",
    "\n",
    "  where corresponds to Jan, 1958, adding is because the first measurement is halfway through the first month.\n",
    "\n",
    "- $P_i$ is periodic in with a fixed period, accounting for the seasonal pattern.\n",
    "- $R_i$ is the remaining residual that accounts for all other influences.\n",
    "\n",
    "The decomposition is meaningful only if the range of $F$ is much larger than the amplitude of the $P_i$ and this amplitude in turn is substantially larger than that of $R_i$.\n",
    "\n",
    "You are required to split the data into training and test datasets - you can perform an 80:20 split. All model fitting should be done only on the training set and all the remaining data should be used for evaluation (for the purpose of model selection), i.e. prediction errors should be reported with respect to the test set.\n",
    "\n",
    "At the end of this problem you should be able to\n",
    "\n",
    "- Handle incomplete data sets using at least using one method.\n",
    "- Perform time series regression and find the deterministic and periodic trends in data.\n",
    "- Interpret residuals.\n",
    "\n",
    "### Pre-Processing data\n",
    "\n",
    "You may notice that there are some inhomogeneities in data and the CO2 concentration at these points is recorded as -99.99. Before proceeding, we must clean the data. One simple way to do this is to drop all missing values from the table. For the purpose of the problems below, use this simple method of dropping all the missing values.\n",
    "\n",
    "Other methods include forward filling–fill missing values with previous values, and interpolation.\n",
    "\n",
    "The pre-processing should be done before splitting data.\n"
   ]
  },
  {
   "cell_type": "code",
   "execution_count": 1,
   "metadata": {},
   "outputs": [
    {
     "name": "stderr",
     "output_type": "stream",
     "text": [
      "c:\\Users\\eddysanoli\\AppData\\Local\\pypoetry\\Cache\\virtualenvs\\data_analysis-ayydRhdv-py3.9\\lib\\site-packages\\statsmodels\\compat\\pandas.py:65: FutureWarning: pandas.Int64Index is deprecated and will be removed from pandas in a future version. Use pandas.Index with the appropriate dtype instead.\n",
      "  from pandas import Int64Index as NumericIndex\n"
     ]
    }
   ],
   "source": [
    "import numpy as np\n",
    "import pandas as pd\n",
    "import matplotlib.pyplot as plt\n",
    "import statsmodels.api as sm\n",
    "import statsmodels.tsa.api as smt\n",
    "import sklearn as sk\n"
   ]
  },
  {
   "cell_type": "markdown",
   "metadata": {},
   "source": []
  }
 ],
 "metadata": {
  "kernelspec": {
   "display_name": "data_analysis-ayydRhdv-py3.9",
   "language": "python",
   "name": "python3"
  },
  "language_info": {
   "codemirror_mode": {
    "name": "ipython",
    "version": 3
   },
   "file_extension": ".py",
   "mimetype": "text/x-python",
   "name": "python",
   "nbconvert_exporter": "python",
   "pygments_lexer": "ipython3",
   "version": "3.9.6"
  },
  "orig_nbformat": 4
 },
 "nbformat": 4,
 "nbformat_minor": 2
}
