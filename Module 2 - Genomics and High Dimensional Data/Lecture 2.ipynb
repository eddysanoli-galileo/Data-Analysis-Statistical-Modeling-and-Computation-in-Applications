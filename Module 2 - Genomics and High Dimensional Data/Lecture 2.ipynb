{
 "cells": [
  {
   "attachments": {},
   "cell_type": "markdown",
   "metadata": {},
   "source": [
    "## Lecture 2 - Methods of Classification on High Dimensional Data"
   ]
  },
  {
   "cell_type": "code",
   "execution_count": 2,
   "metadata": {},
   "outputs": [],
   "source": [
    "import numpy as np\n",
    "import pandas as pd\n",
    "import sympy as sp\n",
    "from nptyping import NDArray, Int, Shape\n",
    "from scipy.linalg import fractional_matrix_power"
   ]
  },
  {
   "attachments": {},
   "cell_type": "markdown",
   "metadata": {},
   "source": [
    "### 3. Bayes Rule, Quadratic and Linear Discriminant Analysis\n",
    "\n",
    "#### Review Bayes Rule"
   ]
  },
  {
   "cell_type": "code",
   "execution_count": 3,
   "metadata": {},
   "outputs": [
    {
     "name": "stdout",
     "output_type": "stream",
     "text": [
      "Probability that the patient is infected given that the test is positive: 0.34256055363321797\n"
     ]
    }
   ],
   "source": [
    "# True positive (the test reports positive when the patient is infected)\n",
    "# P(P|I): I = Infected, P = Positive\n",
    "p_positive_infected = 0.99\n",
    "\n",
    "# False positive (the test reports positive when the patient is not infected) \n",
    "# P(P|NI): NI = Not Infected, P = Positive\n",
    "p_positive_not_infected = 0.10\n",
    "\n",
    "# Percentage of the population that is infected\n",
    "# P(I): I = Infected\n",
    "p_infected = 0.05\n",
    "\n",
    "# Probability that the test is positive\n",
    "# P(P) = P(P|I) * P(I) + P(P|NI) * P(NI)\n",
    "# P(NI) = 1 - P(I)\n",
    "p_positive = p_positive_infected * p_infected + p_positive_not_infected * (1 - p_infected)\n",
    "\n",
    "# What is the probability that the patient is infected given that the test is positive?\n",
    "# P(I|P) = P(P|I) * P(I) / P(P) \n",
    "p_infected_given_positive = (p_positive_infected * p_infected) / p_positive\n",
    "print(\n",
    "    f'Probability that the patient is infected given that the test is positive: '\n",
    "    f'{p_infected_given_positive}'\n",
    ")"
   ]
  },
  {
   "attachments": {},
   "cell_type": "markdown",
   "metadata": {},
   "source": [
    "### 5. Quadratic and Linear Discriminant Analysis in Higher Dimensions\n",
    "\n",
    "#### Two-Class LDA in 2 Dimesnions: Computation"
   ]
  },
  {
   "cell_type": "code",
   "execution_count": 9,
   "metadata": {},
   "outputs": [
    {
     "name": "stdout",
     "output_type": "stream",
     "text": [
      "Sigma:  Matrix([[0.5*sigma + 0.5, 0.5*sigma - 0.5], [0.5*sigma - 0.5, 0.5*sigma + 0.5]])\n",
      "Normal vector (w):  Matrix([[-1.0*(0.5*sigma + 0.5)/sigma, -1.0*(0.5 - 0.5*sigma)/sigma]])\n",
      "Normal vector when the variance = 1:  Matrix([[-1.00000000000000, 0]])\n"
     ]
    }
   ],
   "source": [
    "v_sigma = np.array([\n",
    "    [1/np.sqrt(2)],\n",
    "    [1/np.sqrt(2)]\n",
    "])\n",
    "\n",
    "v_1 = np.array([\n",
    "    [1/np.sqrt(2)],\n",
    "    [-1/np.sqrt(2)]\n",
    "])\n",
    "\n",
    "var = sp.Symbol(\"sigma\")\n",
    "\n",
    "# Concatenate the v_sigma and v_1 vectors horizontally\n",
    "V = np.concatenate((v_sigma, v_1), axis=1)\n",
    "\n",
    "# Create the A matrix\n",
    "A = sp.Matrix([\n",
    "    [var, 0],\n",
    "    [0, 1]\n",
    "])\n",
    "\n",
    "# Calculate the covariance matrix\n",
    "Sigma = V * A * V.T\n",
    "print(\"Sigma: \", Sigma)\n",
    "\n",
    "# Mean of each distribution\n",
    "mu_0 = np.array([[0, 0]]).T\n",
    "mu_1 = np.array([[1, 0]]).T\n",
    "\n",
    "# Calculate the normal vector\n",
    "w = (mu_0 - mu_1).T @ Sigma.inv()\n",
    "print(\"Normal vector (w): \", w)\n",
    "print(\"Normal vector when the variance = 1: \", w.subs(var, 1))"
   ]
  },
  {
   "attachments": {},
   "cell_type": "markdown",
   "metadata": {},
   "source": [
    "### 6. Transformation to Spherical Gaussians\n",
    "\n",
    "#### Transformation to Spherical Gaussians"
   ]
  },
  {
   "cell_type": "code",
   "execution_count": 20,
   "metadata": {},
   "outputs": [
    {
     "name": "stdout",
     "output_type": "stream",
     "text": [
      "P:  [[ 0.5         0.70710678]\n",
      " [ 0.5        -0.70710678]]\n",
      "\n",
      "P.T @ Sigma @ P:  [[1. 0.]\n",
      " [0. 1.]]\n",
      "\n",
      "P.T @ Sigma @ P is equal to the identity matrix\n",
      "\n",
      "P.T @ P:  [[0.5 0. ]\n",
      " [0.  1. ]]\n",
      "P.T @ P is not equal to the identity matrix\n",
      "P.T @ P is diagonal\n"
     ]
    }
   ],
   "source": [
    "# Create the covariance matrix\n",
    "mat1 = (1/np.sqrt(2)) * np.array([\n",
    "    [1, 1],\n",
    "    [1, -1]\n",
    "])\n",
    "mat2 = np.array([\n",
    "    [2, 0],\n",
    "    [0, 1]\n",
    "])\n",
    "Sigma = mat1 @ mat2 @ mat1\n",
    "\n",
    "# Get the eigenvalues and eigenvectors of the covariance matrix\n",
    "eigenvalues, eigenvectors = np.linalg.eig(Sigma)\n",
    "\n",
    "# Create a diagonal matrix with the eigenvalues\n",
    "Lambda = np.diag(eigenvalues)\n",
    "\n",
    "# Create an alias V for the eigenvectors\n",
    "V = eigenvectors\n",
    "\n",
    "# Create the P matrix using Lambda and V\n",
    "case = 3\n",
    "if case == 0:\n",
    "    P = V @ Lambda \n",
    "elif case == 1:\n",
    "    P = fractional_matrix_power(Lambda, 1/2) @ V\n",
    "elif case == 2:\n",
    "    P = V @ fractional_matrix_power(Lambda, 1/2)\n",
    "else:\n",
    "    P = V @ fractional_matrix_power(Lambda, -1/2)\n",
    "\n",
    "P = np.flip(P, axis=0)\n",
    "print(\"P: \", P)\n",
    "print()\n",
    "\n",
    "# Calculate P.T @ Sigma @ P and round the result to 3 decimal places\n",
    "P_Sigma_P = np.around(P.T @ Sigma @ P, decimals=3)\n",
    "print(\"P.T @ Sigma @ P: \", P_Sigma_P)\n",
    "print()\n",
    "\n",
    "# Check if P.T @ Sigma @ P is equal to the identity matrix\n",
    "if np.array_equal(P_Sigma_P, np.identity(2)):\n",
    "    print(\"P.T @ Sigma @ P is equal to the identity matrix\")\n",
    "else:\n",
    "    print(\"P.T @ Sigma @ P is not equal to the identity matrix\")\n",
    "\n",
    "print()\n",
    "print(\"P.T @ P: \", P.T @ P)\n",
    "\n",
    "# Check the following conditions:\n",
    "# 1. P.T @ P = I\n",
    "if np.array_equal(P.T @ P, np.identity(2)):\n",
    "    print(\"P.T @ P is equal to the identity matrix\")\n",
    "else:\n",
    "    print(\"P.T @ P is not equal to the identity matrix\")\n",
    "\n",
    "# 2. P.T @ P is diagonal\n",
    "if np.array_equal(np.diag(np.diag(P.T @ P)), P.T @ P):\n",
    "    print(\"P.T @ P is diagonal\")\n",
    "else:\n",
    "    print(\"P.T @ P is not diagonal\")"
   ]
  },
  {
   "cell_type": "code",
   "execution_count": null,
   "metadata": {},
   "outputs": [],
   "source": []
  }
 ],
 "metadata": {
  "kernelspec": {
   "display_name": "data_analysis-ayydRhdv-py3.9",
   "language": "python",
   "name": "python3"
  },
  "language_info": {
   "codemirror_mode": {
    "name": "ipython",
    "version": 3
   },
   "file_extension": ".py",
   "mimetype": "text/x-python",
   "name": "python",
   "nbconvert_exporter": "python",
   "pygments_lexer": "ipython3",
   "version": "3.9.6"
  },
  "orig_nbformat": 4,
  "vscode": {
   "interpreter": {
    "hash": "71bf549c414c7d2d83e2bde045de550cc634ed7a909cf9e92717235840316976"
   }
  }
 },
 "nbformat": 4,
 "nbformat_minor": 2
}
