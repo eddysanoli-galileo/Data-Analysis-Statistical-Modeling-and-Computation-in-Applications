{
 "cells": [
  {
   "attachments": {},
   "cell_type": "markdown",
   "metadata": {},
   "source": [
    "## Genomics and High-Dimensional Data: Written Analysis, Peer Review and Discussion\n",
    "\n",
    "### Problem 3\n",
    "\n",
    "The hyper-parameter choices used in data analysis techniques can have a large impact on the inferences made. As you may have encountered, finding the best choice of parameter such as perplexity in T-SNE or the number of clusters can be an ambiguous problem. We will now investigate the sensitivity of your results to changes in these hyper-parameters, with the goal of understanding how your conclusions may vary depending on these choices.\n",
    "\n",
    "1. (3 points) When we created the T-SNE plot in Problem 1, we ran T-SNE on the top 50 PC's of the data. But we could have easily chosen a different number of PC's to represent the data. Run T-SNE using 10, 50, 100, 250, and 500 PC's, and plot the resulting visualization for each. What do you observe as you increase the number of PC's used?"
   ]
  },
  {
   "cell_type": "code",
   "execution_count": null,
   "metadata": {},
   "outputs": [],
   "source": [
    "# Load the "
   ]
  },
  {
   "attachments": {},
   "cell_type": "markdown",
   "metadata": {},
   "source": [
    "2. (13 points) Pick three hyper-parameters below (the 3 is the total number that a report needs to analyze. It can take a) 2 from A, 1 from B, or b) 1 from A, 2 from B.) and analyze how changing the hyper-parameters affect the conclusions that can be drawn from the data. Please choose at least one hyper-parameter from each of the two categories (visualization and clustering/feature selection). At minimum, evaluate the hyper-parameters individually, but you may also evaluate how joint changes in the hyper-parameters affect the results. You may use any of the datasets we have given you in this project. For visualization hyper-parameters, you may find it productive to augment your analysis with experiments on synthetic data, though we request that you use real data in at least one demonstration.\n",
    "\n",
    "   Some possible choices of hyper-parameters are:\n",
    "\n",
    "   **Category A (visualization):**\n",
    "\n",
    "   - T-SNE perplexity\n",
    "   - T-SNE learning rate\n",
    "   - T-SNE early exaggeration\n",
    "   - T-SNE initialization\n",
    "   - T-SNE number of iterations/convergence tolerance\n",
    "\n",
    "   **Category B (clustering/feature selection):**\n",
    "\n",
    "   - Effect of number of PC's chosen on clustering\n",
    "   - Type of clustering criterion used in hierarchical clustering (single linkage vs ward, for example)\n",
    "   - Number of clusters chosen for use in unsupervised feature selection and how it affects the quality of the chosen features\n",
    "   - Magnitude of regularization and its relation to your feature selection (for example, does under or over-regularizing the model lead to bad features being selected?)\n",
    "   - Type of regularization (, , elastic net) in the logistic regression step and how the resulting features selected differ\n",
    "   - For visualization hyper-parameters, provide substantial visualizations and explanation on how the parameter affects the image.\n",
    "   - For clustering/feature selection, provide visualizations and/or numerical results which demonstrate how different choices affect the downstream visualizations and feature selection quality.\n",
    "   - Provide adequate explanations in words for each of these visualizations and numerical results."
   ]
  },
  {
   "cell_type": "code",
   "execution_count": null,
   "metadata": {},
   "outputs": [],
   "source": []
  }
 ],
 "metadata": {
  "language_info": {
   "name": "python"
  },
  "orig_nbformat": 4
 },
 "nbformat": 4,
 "nbformat_minor": 2
}
